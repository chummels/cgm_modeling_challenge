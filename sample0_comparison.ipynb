{
 "cells": [
  {
   "cell_type": "code",
   "execution_count": null,
   "metadata": {},
   "outputs": [],
   "source": [
    "import h5py\n",
    "import numpy as np\n",
    "import os\n",
    "import pandas as pd\n",
    "import pickle\n",
    "import scipy\n",
    "import scipy.interpolate\n",
    "import unyt"
   ]
  },
  {
   "cell_type": "code",
   "execution_count": null,
   "metadata": {},
   "outputs": [],
   "source": [
    "import verdict\n",
    "import trove"
   ]
  },
  {
   "cell_type": "code",
   "execution_count": null,
   "metadata": {},
   "outputs": [],
   "source": [
    "import matplotlib\n",
    "import matplotlib.pyplot as plt\n",
    "# # Currently need to call this to get matplotlib selected style to load...\n",
    "plt.plot()\n",
    "matplotlib.style.use( '/Users/zhafen/repos/clean-bold/clean-bold-mnras.mplstyle' )\n",
    "import matplotlib.gridspec\n",
    "from mpl_toolkits.axes_grid1 import make_axes_locatable\n",
    "import matplotlib.patheffects as path_effects\n",
    "import palettable\n",
    "import voronoi_scatter"
   ]
  },
  {
   "cell_type": "code",
   "execution_count": null,
   "metadata": {},
   "outputs": [],
   "source": [
    "import helpers"
   ]
  },
  {
   "cell_type": "markdown",
   "metadata": {},
   "source": [
    "# Parameters"
   ]
  },
  {
   "cell_type": "code",
   "execution_count": null,
   "metadata": {},
   "outputs": [],
   "source": [
    "sample_i = 0"
   ]
  },
  {
   "cell_type": "code",
   "execution_count": null,
   "metadata": {},
   "outputs": [],
   "source": [
    "agreement_cmap = palettable.colorbrewer.diverging.PuOr_5.mpl_colormap"
   ]
  },
  {
   "cell_type": "code",
   "execution_count": null,
   "metadata": {},
   "outputs": [],
   "source": [
    "figure_dir = '/Users/zhafen/drafts/cgm_modeling_challenge_paper/figures/sample1'\n",
    "summary_data_fp = './data/polished_data/summary.h5'\n",
    "os.makedirs( figure_dir, exist_ok=True )"
   ]
  },
  {
   "cell_type": "code",
   "execution_count": null,
   "metadata": {},
   "outputs": [],
   "source": [
    "prop_keys = [ 'l', 'T', 'nH', 'Z', ]"
   ]
  },
  {
   "cell_type": "markdown",
   "metadata": {
    "tags": []
   },
   "source": [
    "## Plotting"
   ]
  },
  {
   "cell_type": "code",
   "execution_count": null,
   "metadata": {},
   "outputs": [],
   "source": [
    "logscale = {\n",
    "    'l': True,\n",
    "    'T': True,\n",
    "    'nH': True,\n",
    "    'Z': True,\n",
    "}"
   ]
  },
  {
   "cell_type": "code",
   "execution_count": null,
   "metadata": {},
   "outputs": [],
   "source": [
    "labels = {\n",
    "    'l': r'$\\ell$ [kpc]',\n",
    "    'T': r'T [K]',\n",
    "    'nH': r'$n_{\\rm H}$ [cm$^{-3}$]',\n",
    "    'Z': r'$Z$ [$Z_{\\odot}$]',\n",
    "}"
   ]
  },
  {
   "cell_type": "code",
   "execution_count": null,
   "metadata": {},
   "outputs": [],
   "source": [
    "lims = {\n",
    "    'T': [ 1e4, 1e6 ],\n",
    "}"
   ]
  },
  {
   "cell_type": "code",
   "execution_count": null,
   "metadata": {},
   "outputs": [],
   "source": [
    "panel_length = 4."
   ]
  },
  {
   "cell_type": "code",
   "execution_count": null,
   "metadata": {},
   "outputs": [],
   "source": [
    "blinded_color = helpers.blinded_color\n",
    "revised_color = helpers.revised_color"
   ]
  },
  {
   "cell_type": "markdown",
   "metadata": {},
   "source": [
    "# Analysis"
   ]
  },
  {
   "cell_type": "markdown",
   "metadata": {},
   "source": [
    "## Load Data"
   ]
  },
  {
   "cell_type": "markdown",
   "metadata": {},
   "source": [
    "### Actual Data"
   ]
  },
  {
   "cell_type": "code",
   "execution_count": null,
   "metadata": {},
   "outputs": [],
   "source": [
    "actual = verdict.Dict.from_hdf5( './data/synthetic_data/sample{}/theorists_file.h5'.format( sample_i ) )"
   ]
  },
  {
   "cell_type": "code",
   "execution_count": null,
   "metadata": {},
   "outputs": [],
   "source": [
    "observers_data = verdict.Dict.from_hdf5( './data/synthetic_data/sample{}/observers_file.h5'.format( sample_i ) )"
   ]
  },
  {
   "cell_type": "code",
   "execution_count": null,
   "metadata": {},
   "outputs": [],
   "source": [
    "provided = verdict.Dict.from_hdf5( './data/synthetic_data_samples/sample0.h5' )"
   ]
  },
  {
   "cell_type": "markdown",
   "metadata": {
    "tags": []
   },
   "source": [
    "### Modeled"
   ]
  },
  {
   "cell_type": "markdown",
   "metadata": {},
   "source": [
    "#### Sameer & Charlton"
   ]
  },
  {
   "cell_type": "code",
   "execution_count": null,
   "metadata": {},
   "outputs": [],
   "source": [
    "modeling_group = 'sameer_charlton'"
   ]
  },
  {
   "cell_type": "markdown",
   "metadata": {},
   "source": [
    "##### Original Results"
   ]
  },
  {
   "cell_type": "code",
   "execution_count": null,
   "metadata": {},
   "outputs": [],
   "source": [
    "modeled_raw = verdict.Dict.from_hdf5( './data/modeling_results/{}/sample{}/sample{}.hdf5'.format( modeling_group, sample_i, sample_i ) )"
   ]
  },
  {
   "cell_type": "code",
   "execution_count": null,
   "metadata": {},
   "outputs": [],
   "source": [
    "derived = pd.read_csv( './data/modeling_results/sameer_charlton/sample{}/derived.txt'.format( sample_i ), sep='\\t', index_col=0 )"
   ]
  },
  {
   "cell_type": "code",
   "execution_count": null,
   "metadata": {},
   "outputs": [],
   "source": [
    "modeled = {\n",
    "    'metallicity': np.array([ modeled_raw[str(i+1)][0] for i in range( actual['metallicity'].size ) ]),\n",
    "    'emetallicity': np.array([ modeled_raw[str(i+1)][1] for i in range( actual['metallicity'].size ) ]),\n",
    "    'length': derived.values[:,0],\n",
    "    'H_column': derived.values[:,1],\n",
    "    'temperature': derived.values[:,2],\n",
    "    'H_density': derived.values[:,3],\n",
    "}"
   ]
  },
  {
   "cell_type": "code",
   "execution_count": null,
   "metadata": {},
   "outputs": [],
   "source": [
    "f = h5py.File( '/Users/zhafen/Downloads/sample0.hdf5', 'r' )"
   ]
  },
  {
   "cell_type": "code",
   "execution_count": null,
   "metadata": {},
   "outputs": [],
   "source": [
    "fp = './data/modeling_results/{}/sample{}/firstiteration.pickle'.format( modeling_group, sample_i )\n",
    "columns = dict( pd.read_pickle( fp ) )"
   ]
  },
  {
   "cell_type": "code",
   "execution_count": null,
   "metadata": {},
   "outputs": [],
   "source": [
    "for key, item in columns.items():\n",
    "    item_arr = np.array(item)\n",
    "    modeled['{}'.format( key )] = item_arr[:,0]\n",
    "    modeled['e{}'.format( key )] = item_arr[:,1]"
   ]
  },
  {
   "cell_type": "code",
   "execution_count": null,
   "metadata": {},
   "outputs": [],
   "source": [
    "modeled = pd.DataFrame( modeled )\n",
    "modeled = modeled.set_index( np.arange( modeled.shape[0] ) + 1 )"
   ]
  },
  {
   "cell_type": "code",
   "execution_count": null,
   "metadata": {},
   "outputs": [],
   "source": [
    "modeled"
   ]
  },
  {
   "cell_type": "markdown",
   "metadata": {},
   "source": [
    "##### Revised"
   ]
  },
  {
   "cell_type": "code",
   "execution_count": null,
   "metadata": {},
   "outputs": [],
   "source": [
    "revised = pd.read_csv( './data/modeling_results/{}/sample{}/revised_params.csv'.format( modeling_group, sample_i ) )\n",
    "revised = revised.set_index( np.arange( revised.shape[0] ) + 1 )"
   ]
  },
  {
   "cell_type": "code",
   "execution_count": null,
   "metadata": {},
   "outputs": [],
   "source": [
    "fp = './data/modeling_results/{}/sample{}/seconditeration.pickle'.format( modeling_group, sample_i )\n",
    "columns = dict( pd.read_pickle( fp ) )"
   ]
  },
  {
   "cell_type": "code",
   "execution_count": null,
   "metadata": {},
   "outputs": [],
   "source": [
    "for key, item in columns.items():\n",
    "    item_arr = np.array(item)\n",
    "    revised['{}'.format( key )] = item_arr[:,0]\n",
    "    revised['e{}'.format( key )] = item_arr[:,1]"
   ]
  },
  {
   "cell_type": "code",
   "execution_count": null,
   "metadata": {},
   "outputs": [],
   "source": [
    "# Additional revised data\n",
    "fp = './data/modeling_results/sameer_charlton/sample0/sample0_Z_T_nH.pkl'\n",
    "revised_add = dict( pd.read_pickle( fp ) )"
   ]
  },
  {
   "cell_type": "code",
   "execution_count": null,
   "metadata": {},
   "outputs": [],
   "source": [
    "revised_add_formatted = verdict.Dict({})\n",
    "for j in revised.index:\n",
    "    for prop_key, vals in revised_add[j].items():\n",
    "        try:\n",
    "            revised_add_formatted[prop_key].append( vals[0] )\n",
    "            revised_add_formatted['low'+prop_key].append( vals[1] )\n",
    "            revised_add_formatted['high'+prop_key].append( vals[2] )\n",
    "        except KeyError:\n",
    "            revised_add_formatted[prop_key] = [ vals[0], ]\n",
    "            revised_add_formatted['low'+prop_key] = [ vals[1], ]\n",
    "            revised_add_formatted['high'+prop_key] = [ vals[2], ]\n",
    "for key, item in revised_add_formatted.items():\n",
    "    revised[key] = item"
   ]
  },
  {
   "cell_type": "code",
   "execution_count": null,
   "metadata": {},
   "outputs": [],
   "source": [
    "revised"
   ]
  },
  {
   "cell_type": "markdown",
   "metadata": {},
   "source": [
    "#### Mohapatra"
   ]
  },
  {
   "cell_type": "code",
   "execution_count": null,
   "metadata": {},
   "outputs": [],
   "source": [
    "met_mohapatra = np.full( ( actual['metallicity'].size ),  np.nan,  )\n",
    "emet_mohapatra = np.full( ( actual['metallicity'].size ),  np.nan,  )\n",
    "met_mohapatra[7] = -0.52\n",
    "emet_mohapatra[7] = 0.41\n",
    "met_mohapatra[9] = 0.48\n",
    "emet_mohapatra[9] = 0.39"
   ]
  },
  {
   "cell_type": "markdown",
   "metadata": {},
   "source": [
    "## Data for Interpretation"
   ]
  },
  {
   "cell_type": "code",
   "execution_count": null,
   "metadata": {},
   "outputs": [],
   "source": [
    "phase_diagram = verdict.Dict.from_hdf5( './data/m12i_phase_diagram_z0.25.h5' )"
   ]
  },
  {
   "cell_type": "markdown",
   "metadata": {},
   "source": [
    "### Address Possible Scrambling of Sightline Inds"
   ]
  },
  {
   "cell_type": "markdown",
   "metadata": {},
   "source": [
    "#### Best case match closest metallicities"
   ]
  },
  {
   "cell_type": "code",
   "execution_count": null,
   "metadata": {},
   "outputs": [],
   "source": [
    "model_sort_inds = np.argsort( modeled['metallicity'] )\n",
    "actual_sort_inds = np.argsort( actual['metallicity'] )"
   ]
  },
  {
   "cell_type": "markdown",
   "metadata": {},
   "source": [
    "#### Use Sameer's columns to assess mixup"
   ]
  },
  {
   "cell_type": "code",
   "execution_count": null,
   "metadata": {},
   "outputs": [],
   "source": [
    "columns = pd.read_csv( './data/modeling_results/sameer_charlton/sample{}/columns.txt'.format( sample_i ), sep='\\t', index_col=0 )"
   ]
  },
  {
   "cell_type": "code",
   "execution_count": null,
   "metadata": {},
   "outputs": [],
   "source": [
    "columns.loc['HI']"
   ]
  },
  {
   "cell_type": "code",
   "execution_count": null,
   "metadata": {},
   "outputs": [],
   "source": [
    "provided['H I']['logN']"
   ]
  },
  {
   "cell_type": "code",
   "execution_count": null,
   "metadata": {},
   "outputs": [],
   "source": [
    "np.log10( actual['H I'] )"
   ]
  },
  {
   "cell_type": "markdown",
   "metadata": {},
   "source": [
    "It doesn't look like there was a mixup..."
   ]
  },
  {
   "cell_type": "markdown",
   "metadata": {},
   "source": [
    "## Formatting"
   ]
  },
  {
   "cell_type": "code",
   "execution_count": null,
   "metadata": {},
   "outputs": [],
   "source": [
    "found = verdict.Dict({\n",
    "    'l': modeled['length'].values * unyt.kpc,\n",
    "    'Z': 10.**modeled['metallicity'].values * unyt.Zsun,\n",
    "    'T': 10.**modeled['temperature'].values * unyt.K,\n",
    "    'nH': 10.**modeled['H_density'].values * unyt.cm**-3,\n",
    "})"
   ]
  },
  {
   "cell_type": "code",
   "execution_count": null,
   "metadata": {},
   "outputs": [],
   "source": [
    "found_revised = verdict.Dict({\n",
    "    'Z': 10.**revised['Z'].values * unyt.Zsun,\n",
    "    'T': 10.**revised['T'].values * unyt.K,\n",
    "    'nH': 10.**revised['ne'].values * unyt.cm**-3,\n",
    "})"
   ]
  },
  {
   "cell_type": "code",
   "execution_count": null,
   "metadata": {},
   "outputs": [],
   "source": [
    "actual['l'] = actual['length'] * unyt.kpc\n",
    "actual['Z'] = actual['metallicity'] * unyt.Zsun\n",
    "actual['T'] = actual['temperature'] * unyt.K\n",
    "actual['nH'] = actual['H_density'] * unyt.cm**-3\n",
    "actual = verdict.Dict( actual )"
   ]
  },
  {
   "cell_type": "code",
   "execution_count": null,
   "metadata": {},
   "outputs": [],
   "source": [
    "xs = modeled.index"
   ]
  },
  {
   "cell_type": "markdown",
   "metadata": {},
   "source": [
    "# Results"
   ]
  },
  {
   "cell_type": "markdown",
   "metadata": {},
   "source": [
    "\n",
    "## Sightlines in Context of Priors"
   ]
  },
  {
   "cell_type": "markdown",
   "metadata": {
    "tags": []
   },
   "source": [
    "### Photoionization Equlibrium Data"
   ]
  },
  {
   "cell_type": "code",
   "execution_count": null,
   "metadata": {},
   "outputs": [],
   "source": [
    "pie_data = pd.read_csv( './data/PIEdata.csv', header=None )"
   ]
  },
  {
   "cell_type": "code",
   "execution_count": null,
   "metadata": {},
   "outputs": [],
   "source": [
    "lognH_pie = pie_data[0].values\n",
    "logT_pie = pie_data[1].values"
   ]
  },
  {
   "cell_type": "markdown",
   "metadata": {},
   "source": [
    "### Interpolate to Get PDF Values"
   ]
  },
  {
   "cell_type": "code",
   "execution_count": null,
   "metadata": {},
   "outputs": [],
   "source": [
    "dlogT = phase_diagram['logT_edges'][1] - phase_diagram['logT_edges'][0]\n",
    "dlogHDen = phase_diagram['logH_density_edges'][1] - phase_diagram['logH_density_edges'][0]\n",
    "pdf = phase_diagram['hist'] / ( dlogT * dlogHDen )"
   ]
  },
  {
   "cell_type": "code",
   "execution_count": null,
   "metadata": {},
   "outputs": [],
   "source": [
    "logHDen_centers = phase_diagram['logH_density_edges'][:-1] + 0.5 * dlogHDen\n",
    "logT_centers = phase_diagram['logT_edges'][:-1] + 0.5 * dlogT"
   ]
  },
  {
   "cell_type": "code",
   "execution_count": null,
   "metadata": {},
   "outputs": [],
   "source": [
    "interp_fn = scipy.interpolate.RectBivariateSpline(\n",
    "    logHDen_centers,\n",
    "    logT_centers,\n",
    "    pdf,\n",
    ")"
   ]
  },
  {
   "cell_type": "code",
   "execution_count": null,
   "metadata": {},
   "outputs": [],
   "source": [
    "pdf_values = np.array([ interp_fn( np.log10( actual['H_density'][i] ), np.log10( actual['temperature'][i] ) )[0][0] for i in range( actual['metallicity'].size ) ])"
   ]
  },
  {
   "cell_type": "code",
   "execution_count": null,
   "metadata": {},
   "outputs": [],
   "source": [
    "pdf_values[pdf_values<0] = pdf[np.nonzero(pdf)].min()"
   ]
  },
  {
   "cell_type": "code",
   "execution_count": null,
   "metadata": {},
   "outputs": [],
   "source": [
    "fig = plt.figure( facecolor='w' )\n",
    "ax = plt.gca()\n",
    "\n",
    "ax.set_xscale( 'log' )\n",
    "ax.set_yscale( 'log' )\n",
    "\n",
    "img = ax.pcolormesh(\n",
    "    10.**phase_diagram['logH_density_edges'],\n",
    "    10.**phase_diagram['logT_edges'],\n",
    "    pdf.transpose(),\n",
    "#     extent = [ logHDen_centers[0], logHDen_centers[-1], logT_centers[0], logT_centers[-1] ],\n",
    "    cmap = palettable.cubehelix.classic_16_r.mpl_colormap,\n",
    "    norm = matplotlib.colors.LogNorm(),\n",
    ")\n",
    "\n",
    "c = found['Z'] / actual['Z']\n",
    "logc = np.log10( c )\n",
    "logvlim = np.nanmax( np.abs( logc ) )\n",
    "vmin = 10.**-logvlim\n",
    "vmax = 10.**logvlim\n",
    "scatter = ax.scatter(\n",
    "    actual['H_density'],\n",
    "    actual['temperature'],\n",
    "    edgecolor = 'k',\n",
    "    s = 50,\n",
    "#     c = pdf_values,\n",
    "    c = c,\n",
    "    cmap = agreement_cmap,\n",
    "    norm = matplotlib.colors.LogNorm( vmin, vmax ),\n",
    "    linewidth = 2,\n",
    ")\n",
    "\n",
    "# Labels\n",
    "voronoi_scatter.scatter(\n",
    "    actual['H_density'],\n",
    "    actual['temperature'],\n",
    "    labels = np.arange( actual['H_density'].size ) + 1,\n",
    "    ax = ax,\n",
    "    plot_scatter = False,\n",
    "    xlim = [ 1e-6, 100 ],\n",
    "    ylim = [ 20, 1e7 ],\n",
    ")\n",
    "    \n",
    "# Add line for PIE\n",
    "pie_line = ax.plot(\n",
    "    10.**lognH_pie,\n",
    "    10.**logT_pie,\n",
    "    color = 'k',\n",
    "    linewidth = 3,\n",
    ")\n",
    "pie_line[0].set_path_effects([\n",
    "    path_effects.Stroke(linewidth=5, foreground='w'),\n",
    "    path_effects.Normal()\n",
    "])\n",
    "text = ax.annotate(\n",
    "    'PIE',\n",
    "    10.**np.array([ lognH_pie[-1], logT_pie[-1] ]),\n",
    "    xycoords = 'data',\n",
    "    xytext = ( -5, -5 ),\n",
    "    textcoords = 'offset points',\n",
    "    color = 'k',\n",
    "    ha = 'right',\n",
    "    va = 'top',\n",
    ")\n",
    "text.set_path_effects([\n",
    "    path_effects.Stroke(linewidth=3, foreground='w'),\n",
    "    path_effects.Normal()\n",
    "])\n",
    "\n",
    "# Colorbars\n",
    "# Create divider for existing axes instance\n",
    "divider = make_axes_locatable(ax)\n",
    "# Append axes to the right of ax, with 5% width of ax\n",
    "cax = divider.append_axes(\"right\", pad=0.05, size='5%')\n",
    "cb = plt.colorbar( scatter, cax=cax )\n",
    "cax.annotate(\n",
    "    text = r'$Z_{\\rm modeled}$ / $Z_{\\rm actual}$',\n",
    "    xy = ( 1, 1 ),\n",
    "    xytext = ( 0, 5 ),\n",
    "    xycoords = 'axes fraction',\n",
    "    textcoords = 'offset points',\n",
    "    ha = 'right',        \n",
    ")\n",
    "cax = divider.append_axes(\"right\", pad=0.41, size='5%')\n",
    "cb = plt.colorbar( img, cax=cax )\n",
    "cax.annotate(\n",
    "    text = 'PDF',\n",
    "    xy = ( 1, 1 ),\n",
    "    xytext = ( 0, 5 ),\n",
    "    xycoords = 'axes fraction',\n",
    "    textcoords = 'offset points',\n",
    "    ha = 'right',        \n",
    ")\n",
    "\n",
    "\n",
    "# ax.tick_params( length=15, width=3, labelsize=24 )\n",
    "# ax.tick_params( which='minor', length=15 / 2, width=3./2, labelsize=24 )\n",
    "\n",
    "ax.set_xlabel( r'$n_{\\rm H}$ [cm$^{-3}$]' )\n",
    "ax.set_ylabel( r'$T$ [K]', )\n",
    "\n",
    "# ax.set_ylim( logT_centers[0], 7 )\n",
    "# ax.set_xlim( -6, 2 )\n",
    "\n",
    "# ax.set_aspect( 'equal' )\n",
    "\n",
    "savefile = os.path.join( figure_dir, 'phase_space.png' )\n",
    "print( 'Saving at {}'.format( savefile ) )\n",
    "plt.savefig( savefile, bbox_inches='tight' )"
   ]
  },
  {
   "cell_type": "markdown",
   "metadata": {},
   "source": [
    "## Comparison Including Expected Frequency"
   ]
  },
  {
   "cell_type": "code",
   "execution_count": null,
   "metadata": {},
   "outputs": [],
   "source": [
    "y_labels = {\n",
    "    'metallicity': r'$\\log_{10} ( Z_{\\rm modeled}/Z_{\\rm actual} )$',\n",
    "    'H_density': r'$\\log_{10} ( n_{\\rm H, modeled}/n_{\\rm H, actual} )$',\n",
    "    'temperature': r'$\\log_{10} ( T_{\\rm modeled}/T_{\\rm actual} )$',\n",
    "    'length': r'$\\log_{10} (\\ell_{\\rm modeled} / \\ell_{\\rm actual} )$',\n",
    "}"
   ]
  },
  {
   "cell_type": "markdown",
   "metadata": {},
   "source": [
    "### Ratios on Y-Axis"
   ]
  },
  {
   "cell_type": "code",
   "execution_count": null,
   "metadata": {},
   "outputs": [],
   "source": [
    "vmin = np.nanmin( pdf[np.nonzero(pdf)] )\n",
    "vmax = np.nanmax( pdf[np.nonzero(pdf)] )"
   ]
  },
  {
   "cell_type": "code",
   "execution_count": null,
   "metadata": {},
   "outputs": [],
   "source": [
    "for key in [ 'metallicity', 'H_density', 'temperature', 'length' ]:\n",
    "\n",
    "    fig = plt.figure( figsize=(8,8), facecolor='w' )\n",
    "    ax = plt.gca()\n",
    "\n",
    "    if key != 'length':\n",
    "        ys = modeled[key] - np.log10( actual[key] )\n",
    "    else:\n",
    "        ys = np.log10( modeled[key] / actual[key] )\n",
    "        \n",
    "    ax.scatter(\n",
    "        np.arange( actual[key].size ) + 1,\n",
    "        ys,\n",
    "        edgecolor = 'k',\n",
    "        s = 100,\n",
    "        c = pdf_values,\n",
    "        cmap = palettable.cubehelix.classic_16_r.mpl_colormap,\n",
    "        norm = matplotlib.colors.LogNorm( vmin, vmax ),\n",
    "    )\n",
    "\n",
    "    if key == 'metallicity':\n",
    "        \n",
    "        ax.errorbar(\n",
    "            np.arange( actual[key].size ) + 1,\n",
    "            modeled[key] - np.log10( actual[key] ),\n",
    "            yerr = modeled['emetallicity'],\n",
    "            linestyle = 'none',\n",
    "            color = 'k',\n",
    "            zorder = -10,\n",
    "        )\n",
    "        \n",
    "        ax.scatter(\n",
    "            np.arange( actual[key].size ) + 1,\n",
    "            revised['Z'] - np.log10( actual[key] ),\n",
    "            s = 100,\n",
    "            color = revised_color,\n",
    "            zorder = -9,\n",
    "        )\n",
    "        ax.errorbar(\n",
    "            np.arange( actual[key].size ) + 1,\n",
    "            revised['Z'] - np.log10( actual[key] ),\n",
    "            yerr = revised['errZ'],\n",
    "            linestyle = 'none',\n",
    "            color = revised_color,\n",
    "            zorder = -10,\n",
    "        )\n",
    "        \n",
    "#         # Mohapatra results\n",
    "#         ax.errorbar(\n",
    "#             np.arange( actual[key].size ) + 1,\n",
    "#             met_mohapatra,\n",
    "#             yerr = emet_mohapatra,\n",
    "#             marker = 's',\n",
    "#             markersize = 10,\n",
    "#             color = colormap[1],\n",
    "#             linestyle = 'none',\n",
    "#             label = 'Mohapatra',\n",
    "#             zorder = -10\n",
    "#         )\n",
    "#         ax.plot(\n",
    "#             [ 9, ]*2,\n",
    "#             [ 0.54, 1000 ],\n",
    "#             color = colormap[1],\n",
    "#         )\n",
    "\n",
    "    ax.axhline(\n",
    "        0,\n",
    "        color = '0.5',\n",
    "        linestyle = '--',\n",
    "        linewidth = 3,\n",
    "        zorder = -10,\n",
    "    )\n",
    "\n",
    "    plt.xticks( np.arange( actual['metallicity'].size ) + 1, )\n",
    "    ax.tick_params( length=10, width=1.5, labelsize=18 )\n",
    "\n",
    "    ax.set_xlabel( r'Sightline ID', fontsize=22 )\n",
    "    ax.set_ylabel( y_labels[key], fontsize=22 )\n",
    "    \n",
    "    if key == 'length':\n",
    "        ax.set_ylim( -1.5, 4 )\n",
    "    elif key == 'metallicity':\n",
    "        ax.set_ylim( -1.5, 1.5 )\n",
    "    else:\n",
    "        ax.set_ylim( -4, 1.5 )\n",
    "        \n",
    "#     plt.savefig( './figures/sample0/comparison_{}_inc_freq.pdf'.format( key ), bbox_inches='tight' )"
   ]
  },
  {
   "cell_type": "markdown",
   "metadata": {},
   "source": [
    "### Properties on Y-axis"
   ]
  },
  {
   "cell_type": "code",
   "execution_count": null,
   "metadata": {},
   "outputs": [],
   "source": [
    "clean_mosaic = [ [ 'Z', ], [ 'T', ], [ 'nH' ], ]"
   ]
  },
  {
   "cell_type": "code",
   "execution_count": null,
   "metadata": {},
   "outputs": [],
   "source": [
    "y_labels = {\n",
    "    'Z': r'$Z_{\\rm modeled}$ / $Z_{\\rm actual}$',\n",
    "    'nH': r'$n_{\\rm H, modeled}$ / $n_{\\rm H, actual}$',\n",
    "    'T': r'$T_{\\rm modeled}$ / $T_{\\rm actual}$',\n",
    "    'l': r'$\\ell_{\\rm modeled}$  / $\\ell_{\\rm actual}$',\n",
    "}"
   ]
  },
  {
   "cell_type": "code",
   "execution_count": null,
   "metadata": {},
   "outputs": [],
   "source": [
    "\n",
    "# Setup Figure\n",
    "n_rows_clean = len( clean_mosaic )\n",
    "n_cols_clean = len( clean_mosaic[0] )\n",
    "panel_length = plt.rcParams['figure.figsize'][0]\n",
    "s_default = plt.rcParams['lines.markersize']\n",
    "fig = plt.figure( figsize=(n_cols_clean*panel_length, n_rows_clean*panel_length/2.), facecolor='w' )\n",
    "ax_dict = fig.subplot_mosaic(\n",
    "    clean_mosaic,\n",
    ")\n",
    "\n",
    "ratio = found['Z'] / actual['Z']\n",
    "ordered_inds = np.argsort( np.abs( np.log10( ratio ) ) )\n",
    "\n",
    "for key in ax_dict.keys():\n",
    "\n",
    "    ax = ax_dict[key]\n",
    "\n",
    "    ratio = found[key] / actual[key]\n",
    "\n",
    "    ratio_loglim = np.nanmax( np.abs( np.log10( actual[key] / found[key] ) ) )\n",
    "    ratio_min = 10.**-ratio_loglim\n",
    "    ratio_max = 10.**ratio_loglim\n",
    "\n",
    "#     # Shade regions\n",
    "#     norm = matplotlib.colors.LogNorm( vmin=ratio_min, vmax=ratio_max )\n",
    "#     for i, c_value in enumerate( ratio[ordered_inds] ):\n",
    "\n",
    "#         c = agreement_cmap( norm( c_value ) )\n",
    "\n",
    "#         ax.fill_between(\n",
    "#             [ xs[i] - 0.5, xs[i] + 0.5 ],\n",
    "#             [ 0, 0 ],\n",
    "#             [ 1, 1 ],\n",
    "#             transform = matplotlib.transforms.blended_transform_factory( ax.transData, ax.transAxes ),\n",
    "#             color = c,\n",
    "#         )\n",
    "\n",
    "    actual_plotted = actual[key][ordered_inds]\n",
    "    if logscale[key]:\n",
    "        actual_plotted = np.log10( actual_plotted )\n",
    "\n",
    "    # Actual\n",
    "    ax.scatter(\n",
    "        xs,\n",
    "        actual_plotted,\n",
    "        s = s_default * 5,\n",
    "        color = 'k',\n",
    "#         edgecolor = 'k',\n",
    "#         c = pdf_values[ordered_inds],\n",
    "#         cmap = palettable.cubehelix.classic_16_r.mpl_colormap,\n",
    "#         norm = matplotlib.colors.LogNorm( vmin, vmax ),\n",
    "        zorder = -100,\n",
    "    )\n",
    "\n",
    "    # Original\n",
    "    blinded = found[key][ordered_inds]\n",
    "    if logscale[key]:\n",
    "        blinded = np.log10( blinded )\n",
    "    ax.scatter(\n",
    "        xs,\n",
    "        blinded,\n",
    "        color = blinded_color,\n",
    "        s = s_default * 2,\n",
    "        zorder = 10,\n",
    "    )\n",
    "    if key == 'Z':\n",
    "        ax.errorbar(\n",
    "            xs,\n",
    "            blinded,\n",
    "            yerr = modeled['emetallicity'].values[ordered_inds],\n",
    "            color = blinded_color,\n",
    "            linewidth = 0.0,\n",
    "            elinewidth = 2,\n",
    "            zorder = 9,\n",
    "        )\n",
    "\n",
    "    # Revised\n",
    "    try:\n",
    "        ax.scatter(\n",
    "            xs,\n",
    "            revised[key].values[ordered_inds],\n",
    "            color = revised_color,\n",
    "            s = s_default * 4,\n",
    "            zorder = 5,\n",
    "        )\n",
    "        ax.errorbar(\n",
    "            xs,\n",
    "            revised[key].values[ordered_inds],\n",
    "            yerr = [ revised['low'+key].values[ordered_inds], revised['high'+key].values[ordered_inds] ],\n",
    "            color = revised_color,\n",
    "            linewidth = 0.0,\n",
    "            elinewidth = 2,\n",
    "            zorder = 4,\n",
    "        )\n",
    "    except KeyError:\n",
    "        pass\n",
    "\n",
    "    # if logscale[key]:\n",
    "    #     ax.set_yscale( 'log' )\n",
    "\n",
    "    # X ticks\n",
    "    ax.set_xticks( xs )\n",
    "    ax.set_xticklabels( ordered_inds + 1 )\n",
    "\n",
    "    ax.set_xlim( xs[0] - 0.5, xs[-1] + 0.5 )\n",
    "    if key in lims:\n",
    "        ylim = lims[key]\n",
    "        if logscale[key]:\n",
    "            ylim = np.log10( ylim )\n",
    "        ax.set_ylim( ylim )\n",
    "\n",
    "\n",
    "    # # Colorbars\n",
    "    # # Create divider for existing axes instance\n",
    "    # divider = make_axes_locatable( ax )\n",
    "    # # Append axes to the right of ax, with 5% width of ax\n",
    "    # cax = divider.append_axes(\"right\", pad=0.05, size='5%')\n",
    "    # cb = matplotlib.colorbar.ColorbarBase( cax, cmap=agreement_cmap, norm=norm )\n",
    "    # cax.annotate(\n",
    "    #     text = y_labels[key],\n",
    "    #     xy = ( 1, 1 ),\n",
    "    #     xytext = ( 0, 5 ),\n",
    "    #     xycoords = 'axes fraction',\n",
    "    #     textcoords = 'offset points',\n",
    "    #     ha = 'right',        \n",
    "    # )\n",
    "\n",
    "# Cleanup\n",
    "for x_key, ax in ax_dict.items():\n",
    "\n",
    "    if x_key == 'legend':\n",
    "        continue\n",
    "\n",
    "    subplotspec = ax.get_subplotspec()\n",
    "\n",
    "    ax.set_ylabel( labels[x_key], )\n",
    "    if subplotspec.is_last_row():\n",
    "        ax.set_xlabel( 'sightline ID', )\n",
    "\n",
    "savefile = os.path.join( figure_dir, 'comparison.pdf' )\n",
    "print( 'Saving at {}'.format( savefile ) )\n",
    "plt.savefig( savefile, bbox_inches='tight' )"
   ]
  },
  {
   "cell_type": "markdown",
   "metadata": {},
   "source": [
    "## Corner Plot Comparison"
   ]
  },
  {
   "cell_type": "markdown",
   "metadata": {},
   "source": [
    "### Plot"
   ]
  },
  {
   "cell_type": "code",
   "execution_count": null,
   "metadata": {},
   "outputs": [],
   "source": [
    "mosaic = [\n",
    "    [ 'l', 'legend', '.', '.' ],\n",
    "    [ 'T_l', 'T', '.', '.' ],\n",
    "    [ 'nH_l', 'nH_T', 'nH', '.' ],\n",
    "    [ 'Z_l', 'Z_T', 'Z_nH', 'Z', ],\n",
    "]"
   ]
  },
  {
   "cell_type": "code",
   "execution_count": null,
   "metadata": {},
   "outputs": [],
   "source": [
    "# Setup Figure\n",
    "n_cols = len( prop_keys )\n",
    "fig = plt.figure( figsize=( panel_length*n_cols, panel_length*n_cols ), facecolor='w' )\n",
    "ax_dict = fig.subplot_mosaic(\n",
    "    mosaic,\n",
    ")\n",
    "\n",
    "# Loop through all properties\n",
    "for j, x_key in enumerate( prop_keys ):\n",
    "    for k, y_key in enumerate( prop_keys ):\n",
    "\n",
    "        # Avoid duplicates\n",
    "        if k < j:\n",
    "            continue \n",
    "            \n",
    "        # Single property comparison\n",
    "        if j == k:\n",
    "            ax = ax_dict[x_key]\n",
    "            subplotspec = ax.get_subplotspec()\n",
    "            \n",
    "            x_label = labels[x_key]\n",
    "            y_label = 'sightline ID'\n",
    "                        \n",
    "        # 2D comparisons\n",
    "        else:\n",
    "            try:\n",
    "                ax = ax_dict['{}_{}'.format( x_key, y_key )]\n",
    "            except KeyError:\n",
    "                ax = ax_dict['{}_{}'.format( y_key, x_key )]\n",
    "            subplotspec = ax.get_subplotspec()\n",
    "            \n",
    "            # Actual values\n",
    "            ax.scatter(\n",
    "                actual[x_key],\n",
    "                actual[y_key],\n",
    "                color = 'k',\n",
    "            )\n",
    "            \n",
    "            # Modeled values\n",
    "            ax.scatter(\n",
    "                found[x_key],\n",
    "                found[y_key],\n",
    "                color = blinded_color,\n",
    "            )\n",
    "            \n",
    "            # Revised modeled values\n",
    "            try:\n",
    "                ax.scatter(\n",
    "                    found_revised[x_key],\n",
    "                    found_revised[y_key],\n",
    "                    color = revised_color,\n",
    "                )\n",
    "            except KeyError:\n",
    "                pass\n",
    "            \n",
    "            if logscale[x_key]:\n",
    "                ax.set_xscale( 'log' )\n",
    "            if logscale[y_key]:\n",
    "                ax.set_yscale( 'log' )\n",
    "                \n",
    "            x_label = labels[x_key]\n",
    "            y_label = labels[y_key]\n",
    "\n",
    "        if subplotspec.is_last_row():\n",
    "            ax.set_xlabel( x_label, fontsize=16 )\n",
    "        if subplotspec.is_first_col():\n",
    "            ax.set_ylabel( y_label, fontsize=16 )"
   ]
  },
  {
   "cell_type": "markdown",
   "metadata": {},
   "source": [
    "## How Much Column Density Agreement is Enough?"
   ]
  },
  {
   "cell_type": "markdown",
   "metadata": {},
   "source": [
    "### Overview"
   ]
  },
  {
   "cell_type": "code",
   "execution_count": null,
   "metadata": {},
   "outputs": [],
   "source": [
    "inds = np.arange( ordered_inds.size )"
   ]
  },
  {
   "cell_type": "code",
   "execution_count": null,
   "metadata": {},
   "outputs": [],
   "source": [
    "ions = [ 'H I', 'Si II', 'Si III', 'Si IV', 'N II', 'N III', 'N V', 'C II', 'C III', 'O I', 'O VI', ]"
   ]
  },
  {
   "cell_type": "code",
   "execution_count": null,
   "metadata": {},
   "outputs": [],
   "source": [
    "n_rows = 3\n",
    "n_cols = 4\n",
    "fig = plt.figure( figsize=(n_cols*5,n_rows*4), facecolor = 'w' )\n",
    "ax = plt.gca()\n",
    "\n",
    "gs = matplotlib.gridspec.GridSpec( n_rows, n_cols )\n",
    "\n",
    "gs.update( hspace=0.001, wspace=0.001 )\n",
    "\n",
    "i = 0\n",
    "j = 0\n",
    "for k, ion in enumerate( ions ):\n",
    "    \n",
    "    ax_ij = fig.add_subplot( gs[j,i] )\n",
    "    \n",
    "    def convert_to_linear( ylog_, yerr_log_ ):\n",
    "        y_ = 10.**ylog_\n",
    "        yerr_ = 10.**np.array([ ylog_ - yerr_log_, ylog_ + yerr_log_ ])\n",
    "        yerr_[0] = y_ - yerr_[0]\n",
    "        yerr_[1] = yerr_[1] - y_\n",
    "        return y_, yerr_\n",
    "    \n",
    "    ylog = modeled[ion.replace( ' ', '' )][inds+1] - provided[ion]['logN'][inds]\n",
    "    yerr_log = provided[ion]['elogN'][inds]\n",
    "    y, yerr = convert_to_linear( ylog, yerr_log )\n",
    "    ax_ij.scatter(\n",
    "        np.arange( inds.size ),\n",
    "        y,\n",
    "        color = blinded_color,\n",
    "        s = 200,\n",
    "        label = 'original',\n",
    "        zorder = -1,\n",
    "    )\n",
    "    \n",
    "    ax_ij.errorbar(\n",
    "        np.arange( inds.size ),\n",
    "        y,\n",
    "        yerr = yerr,\n",
    "        linestyle = 'none',\n",
    "        color = blinded_color,\n",
    "        zorder = -5,\n",
    "        linewidth = 4,\n",
    "    )\n",
    "    \n",
    "    ylog = revised[ion.replace( ' ', '' )][inds+1] - provided[ion]['logN'][inds]\n",
    "    yerr_log = provided[ion]['elogN'][inds]\n",
    "    y, yerr = convert_to_linear( ylog, yerr_log )\n",
    "    ax_ij.scatter(\n",
    "        np.arange( inds.size ),\n",
    "        y,\n",
    "        s = 200,\n",
    "        color = revised_color,\n",
    "        zorder = 2,\n",
    "        label = 'revised',\n",
    "    )\n",
    "    ax_ij.errorbar(\n",
    "        np.arange( inds.size ),\n",
    "        y,\n",
    "        yerr = yerr,\n",
    "        linestyle = 'none',\n",
    "        color = revised_color,\n",
    "        zorder = 1,\n",
    "        linewidth = 4,\n",
    "    )\n",
    "    \n",
    "#     ax_ij.scatter(\n",
    "#         inds + 1,\n",
    "#         np.log10( actual[ion][inds] ),\n",
    "#         color = 'k',\n",
    "#     )\n",
    "\n",
    "    ax_ij.axhline(\n",
    "        1,\n",
    "        color = '0.5',\n",
    "        linestyle = '--',\n",
    "        linewidth = 3,\n",
    "        zorder = -10,\n",
    "    )\n",
    "    \n",
    "    ax_ij.annotate(\n",
    "        text = ion,\n",
    "        xy = (0, 1),\n",
    "        xycoords = 'axes fraction',\n",
    "        xytext = ( 5, -5 ),\n",
    "        textcoords = 'offset points',\n",
    "        va = 'top',\n",
    "        ha = 'left',\n",
    "        fontsize = 22,\n",
    "    )\n",
    "    \n",
    "    ax_ij.set_yscale( 'log' )\n",
    "    ax_ij.set_ylim( 10.**np.array([-1.5, 2.5]) )\n",
    "    \n",
    "    # Adjust ticks\n",
    "    plt.xticks( np.arange( inds.size ), inds + 1 )\n",
    "    ax_ij.tick_params( which='major', labelsize=15, size=10, width=2 )\n",
    "    if i != 0:\n",
    "        ax_ij.tick_params( left=False, labelleft=False )\n",
    "    \n",
    "    # Move to next axis in line\n",
    "    if i > n_rows - 1:\n",
    "        j += 1\n",
    "        i = 0\n",
    "    else:\n",
    "        i += 1\n",
    "        \n",
    "        \n",
    "handles = [\n",
    "    matplotlib.lines.Line2D([0], [0], marker='o', color=blinded_color, label='original', markersize=15),\n",
    "    matplotlib.lines.Line2D([0], [0], marker='o', color=revised_color, label='revised', markersize=15),\n",
    "]\n",
    "\n",
    "ax.legend(\n",
    "    handles = handles,\n",
    "    loc = 'lower right',\n",
    "    prop = { 'size': 22 },\n",
    ")\n",
    "\n",
    "# Removing spines and tick marks\n",
    "ax.spines['right'].set_visible(False)\n",
    "ax.spines['top'].set_visible(False)\n",
    "ax.spines['bottom'].set_visible(False)\n",
    "ax.spines['left'].set_visible(False)\n",
    "ax.tick_params( bottom=False, left=False, labelleft=False, labelbottom=False )\n",
    "\n",
    "ax.set_xlabel( 'Sightline ID', fontsize=26, labelpad=30 )\n",
    "ax.set_ylabel( r'$N_{\\rm modeled}$ / $N_{\\rm actual}$', fontsize=26, labelpad=40 )\n",
    "\n",
    "savefile = os.path.join( figure_dir, 'column_den.pdf' )\n",
    "print( 'Saving at {}'.format( savefile ) )\n",
    "plt.savefig( savefile, bbox_inches='tight' )"
   ]
  },
  {
   "cell_type": "markdown",
   "metadata": {},
   "source": [
    "### Vs Average Agreement"
   ]
  },
  {
   "cell_type": "code",
   "execution_count": null,
   "metadata": {},
   "outputs": [],
   "source": [
    "# Calculate weighted error\n",
    "avg_errors = []\n",
    "avg_actual_errors = []\n",
    "for obs_data in [ modeled, revised ]:\n",
    "    sum_error = np.zeros( obs_data.shape[0] )\n",
    "    sum_actual_error = np.zeros( obs_data.shape[0] )\n",
    "    sum_weights = np.zeros( obs_data.shape[0] )\n",
    "    for ion in provided.keys():\n",
    "        modeled_values = obs_data[ion.replace( ' ', '' )].values\n",
    "        error = provided[ion]['logN'] - modeled_values\n",
    "        actual_error = np.log10( actual[ion] ) - modeled_values\n",
    "        weight = 1. / provided[ion]['elogN']\n",
    "\n",
    "        # Deal with infinite values\n",
    "        invalid = np.invert(np.isfinite( provided[ion]['logN'] ) )\n",
    "        error[invalid] = 0.\n",
    "        actual_error[invalid] = 0.\n",
    "        weight[invalid] = 0.\n",
    "\n",
    "        sum_error += np.abs( error ) * weight \n",
    "        sum_actual_error += np.abs( actual_error ) * weight\n",
    "        sum_weights += weight\n",
    "        \n",
    "    avg_errors.append( sum_error / sum_weights )\n",
    "    avg_actual_errors.append( sum_actual_error / sum_weights )\n",
    "avg_error_modeled, avg_error_revised = avg_errors\n",
    "avg_actual_error_modeled, avg_actual_error_revised = avg_actual_errors"
   ]
  },
  {
   "cell_type": "code",
   "execution_count": null,
   "metadata": {},
   "outputs": [],
   "source": [
    "# Setup Figure\n",
    "n_rows_clean = 2\n",
    "n_cols_clean = 2\n",
    "aspect_ratio = 1.5\n",
    "fig = plt.figure( figsize=(n_cols_clean*panel_length*aspect_ratio, n_rows_clean*panel_length), facecolor='w' )\n",
    "ax_dict = fig.subplot_mosaic(\n",
    "    clean_mosaic,\n",
    "#     gridspec_kw = { 'hspace': 0.5 },\n",
    ")\n",
    "\n",
    "for key in prop_keys:\n",
    "        \n",
    "    ax = ax_dict[key]\n",
    "    \n",
    "    ratio = np.abs( np.log10( found[key] / actual[key] ) )\n",
    "    ax.scatter(\n",
    "        avg_actual_error_modeled,\n",
    "        ratio,\n",
    "        color = blinded_color,\n",
    "    )\n",
    "    \n",
    "    if key in found_revised:\n",
    "        ratio_revised = np.abs( np.log10( found_revised[key] / actual[key] ) )\n",
    "        ax.scatter(\n",
    "            avg_actual_error_revised,\n",
    "            ratio_revised,\n",
    "            color = revised_color,\n",
    "        )\n",
    "        \n",
    "    ax.set_xlim( 0, avg_actual_error_modeled.max() * 1.05 )\n",
    "    ax.set_ylim( 0, ratio.max() * 1.05 )\n",
    "    \n",
    "    if ax.get_subplotspec().is_last_row():\n",
    "        ax.set_xlabel( r'mean $\\vert \\log_{10} ( N_{X,\\,{\\rm modeled}}$ / $N_{X,\\,{\\rm actual}} ) \\vert$' )\n",
    "    ax.set_ylabel( r'$\\vert \\log_{10}($ ' + y_labels[key] + r' $) \\vert$' )\n",
    "    \n",
    "#     ax.set_yscale( 'log' )\n",
    "\n",
    "savefile = os.path.join( figure_dir, 'error_vs_error.pdf' )\n",
    "print( 'Saving at {}'.format( savefile ) )\n",
    "plt.savefig( savefile, bbox_inches='tight' )"
   ]
  },
  {
   "cell_type": "markdown",
   "metadata": {},
   "source": [
    "## Noising of Data"
   ]
  },
  {
   "cell_type": "code",
   "execution_count": null,
   "metadata": {},
   "outputs": [],
   "source": [
    "ions = list( provided.keys() )"
   ]
  },
  {
   "cell_type": "code",
   "execution_count": null,
   "metadata": {},
   "outputs": [],
   "source": [
    "\n",
    "for ion in ions:\n",
    "    fig = plt.figure( figsize=(8,8), facecolor='w' )\n",
    "    ax = plt.gca()\n",
    "\n",
    "    xs = np.log10( actual[ion] )\n",
    "    ys = provided[ion]['logN']\n",
    "    eys = provided[ion]['elogN']\n",
    "\n",
    "    ax.errorbar(\n",
    "        xs,\n",
    "        ys,\n",
    "        yerr = eys,\n",
    "        marker = 'o',\n",
    "        markersize = 10,\n",
    "        color = 'k',\n",
    "        linestyle = 'none',\n",
    "    )\n",
    "\n",
    "    bounds = [\n",
    "        min( np.nanmin( xs[np.isfinite(xs)] ), np.nanmin( ys[np.isfinite(ys)] ) ) - 0.5,\n",
    "        max( np.nanmax( xs[np.isfinite(xs)] ), np.nanmax( ys[np.isfinite(ys)] ) ) + 0.5,\n",
    "    ]\n",
    "    ax.plot(\n",
    "        bounds,\n",
    "        bounds,\n",
    "        color = '0.5',\n",
    "        linestyle = '--',\n",
    "        linewidth = 3,\n",
    "        zorder = -10,\n",
    "    )\n",
    "    \n",
    "    ax.annotate(\n",
    "        text = ion,\n",
    "        xy = ( 0, 1 ),\n",
    "        xycoords = 'axes fraction',\n",
    "        xytext = ( 5, -5 ),\n",
    "        textcoords = 'offset points',\n",
    "        fontsize = 22,\n",
    "        ha = 'left',\n",
    "        va = 'top',\n",
    "    )\n",
    "    \n",
    "    ax.tick_params( length=10, width=1.5, labelsize=18 )\n",
    "\n",
    "    ax.set_xlabel( r'$\\log_{10}( N_{\\rm ion,\\,actual} )$', fontsize=22, )\n",
    "    ax.set_ylabel( r'$\\log_{10}( N_{\\rm ion,\\,provided} )$', fontsize=22, )\n",
    "\n",
    "    ax.set_xlim( bounds )\n",
    "    ax.set_ylim( bounds )\n",
    "\n",
    "    ax.set_aspect( 'equal' )"
   ]
  },
  {
   "cell_type": "markdown",
   "metadata": {},
   "source": [
    "# Compile Summary Data"
   ]
  },
  {
   "cell_type": "code",
   "execution_count": null,
   "metadata": {},
   "outputs": [],
   "source": [
    "summary = verdict.Dict()"
   ]
  },
  {
   "cell_type": "code",
   "execution_count": null,
   "metadata": {},
   "outputs": [],
   "source": [
    "# Averages\n",
    "for prop_key in prop_keys:\n",
    "    \n",
    "    summary_keys_path = [\n",
    "        [ 'estimated', 'blinded', 'mle', prop_key ],\n",
    "        [ 'estimated', 'revised', 'mle', prop_key ],\n",
    "        [ 'source', prop_key ],\n",
    "    ]\n",
    "    for j, data in enumerate([ found, found_revised, actual ]):\n",
    "            \n",
    "        try:\n",
    "            values = data[prop_key]\n",
    "        except KeyError:\n",
    "            continue\n",
    "    \n",
    "        if logscale[prop_key]:\n",
    "            values = np.log10( values )\n",
    "\n",
    "        summary.setitem_via_list( summary_keys_path[j], values )"
   ]
  },
  {
   "cell_type": "code",
   "execution_count": null,
   "metadata": {},
   "outputs": [],
   "source": [
    "# Errors\n",
    "found_err = verdict.Dict({\n",
    "    'Z': modeled['emetallicity'],\n",
    "})\n",
    "\n",
    "found_revised_err = verdict.Dict({\n",
    "    'Z': revised['errZ'],\n",
    "    'T': revised['errT'],\n",
    "})"
   ]
  },
  {
   "cell_type": "code",
   "execution_count": null,
   "metadata": {},
   "outputs": [],
   "source": [
    "for prop_key in prop_keys:\n",
    "    \n",
    "    summary_keys_path = [\n",
    "        [ 'estimated', 'blinded', 'error', 'original provided', prop_key ],\n",
    "        [ 'estimated', 'revised', 'error', 'original provided', prop_key ],\n",
    "    ]\n",
    "    for j, data in enumerate([ found_err, found_revised_err ]):\n",
    "            \n",
    "        try:\n",
    "            values = data[prop_key].values\n",
    "        except KeyError:\n",
    "            continue\n",
    "\n",
    "        summary.setitem_via_list( summary_keys_path[j], values )"
   ]
  },
  {
   "cell_type": "code",
   "execution_count": null,
   "metadata": {},
   "outputs": [],
   "source": [
    "for prop_key in prop_keys:\n",
    "    \n",
    "    try:\n",
    "        summary.setitem_via_list( [ 'estimated', 'revised', 'error', '1 sigma low', prop_key ], revised['low'+prop_key].values,  )\n",
    "        summary.setitem_via_list( [ 'estimated', 'revised', 'error', '1 sigma high', prop_key ], revised['high'+prop_key].values,  )\n",
    "    except KeyError:\n",
    "        continue"
   ]
  },
  {
   "cell_type": "code",
   "execution_count": null,
   "metadata": {},
   "outputs": [],
   "source": [
    "total_summary = verdict.Dict.from_hdf5( summary_data_fp, create_nonexistent=True )\n",
    "total_summary['sample0'] = summary\n",
    "total_summary.to_hdf5( summary_data_fp, )"
   ]
  },
  {
   "cell_type": "code",
   "execution_count": null,
   "metadata": {},
   "outputs": [],
   "source": []
  }
 ],
 "metadata": {
  "kernelspec": {
   "display_name": "Python 3 (ipykernel)",
   "language": "python",
   "name": "python3"
  },
  "language_info": {
   "codemirror_mode": {
    "name": "ipython",
    "version": 3
   },
   "file_extension": ".py",
   "mimetype": "text/x-python",
   "name": "python",
   "nbconvert_exporter": "python",
   "pygments_lexer": "ipython3",
   "version": "3.10.4"
  },
  "toc-autonumbering": false,
  "toc-showcode": false,
  "toc-showmarkdowntxt": false
 },
 "nbformat": 4,
 "nbformat_minor": 4
}
