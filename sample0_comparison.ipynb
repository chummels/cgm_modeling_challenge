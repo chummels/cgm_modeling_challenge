{
 "cells": [
  {
   "cell_type": "code",
   "execution_count": null,
   "metadata": {},
   "outputs": [],
   "source": [
    "import h5py\n",
    "import numpy as np\n",
    "import os\n",
    "import pandas as pd\n",
    "import pickle\n",
    "import scipy\n",
    "import scipy.interpolate\n",
    "import unyt"
   ]
  },
  {
   "cell_type": "code",
   "execution_count": null,
   "metadata": {},
   "outputs": [],
   "source": [
    "import matplotlib\n",
    "import matplotlib.style\n",
    "matplotlib.style.use( '/Users/zhafen/repos/clean-bold/clean-bold.mplstyle' )\n",
    "import matplotlib.pyplot as plt\n",
    "import matplotlib.gridspec\n",
    "from mpl_toolkits.axes_grid1 import make_axes_locatable\n",
    "import palettable"
   ]
  },
  {
   "cell_type": "code",
   "execution_count": null,
   "metadata": {},
   "outputs": [],
   "source": [
    "import verdict\n",
    "import trove"
   ]
  },
  {
   "cell_type": "markdown",
   "metadata": {},
   "source": [
    "# Parameters"
   ]
  },
  {
   "cell_type": "code",
   "execution_count": null,
   "metadata": {},
   "outputs": [],
   "source": [
    "sample_i = 0"
   ]
  },
  {
   "cell_type": "code",
   "execution_count": null,
   "metadata": {},
   "outputs": [],
   "source": [
    "# Load parameters\n",
    "pm = trove.link_params_to_config(\n",
    "    '/Users/zhafen/repos/cgm_modeling_challenge/sample2.trove',\n",
    "    script_id = 'nb.2',\n",
    ")"
   ]
  },
  {
   "cell_type": "code",
   "execution_count": null,
   "metadata": {},
   "outputs": [],
   "source": [
    "figure_dir = pm['figure_dir']\n",
    "os.makedirs( figure_dir, exist_ok=True )"
   ]
  },
  {
   "cell_type": "code",
   "execution_count": null,
   "metadata": {},
   "outputs": [],
   "source": [
    "prop_keys = [ 'l', 'T', 'nH', 'Z', ]"
   ]
  },
  {
   "cell_type": "markdown",
   "metadata": {
    "tags": []
   },
   "source": [
    "## Plotting"
   ]
  },
  {
   "cell_type": "code",
   "execution_count": null,
   "metadata": {},
   "outputs": [],
   "source": [
    "logscale = {\n",
    "    'l': True,\n",
    "    'T': True,\n",
    "    'nH': True,\n",
    "    'Z': True,\n",
    "}"
   ]
  },
  {
   "cell_type": "code",
   "execution_count": null,
   "metadata": {},
   "outputs": [],
   "source": [
    "labels = {\n",
    "    'l': r'$\\ell$ [kpc]',\n",
    "    'T': r'T [K]',\n",
    "    'nH': r'$n_{\\rm H}$ [cm$^{-3}$]',\n",
    "    'Z': r'$Z$ [$Z_{\\odot}$]',\n",
    "}"
   ]
  },
  {
   "cell_type": "code",
   "execution_count": null,
   "metadata": {},
   "outputs": [],
   "source": [
    "lims = {\n",
    "    'T': [ 1e4, 1e6 ],\n",
    "}"
   ]
  },
  {
   "cell_type": "code",
   "execution_count": null,
   "metadata": {},
   "outputs": [],
   "source": [
    "panel_length = 4."
   ]
  },
  {
   "cell_type": "code",
   "execution_count": null,
   "metadata": {},
   "outputs": [],
   "source": [
    "found_color = palettable.cartocolors.qualitative.Safe_10.mpl_colors[1]\n",
    "revised_color = palettable.cartocolors.qualitative.Safe_10.mpl_colors[0]"
   ]
  },
  {
   "cell_type": "markdown",
   "metadata": {},
   "source": [
    "# Analysis"
   ]
  },
  {
   "cell_type": "markdown",
   "metadata": {},
   "source": [
    "## Load Data"
   ]
  },
  {
   "cell_type": "markdown",
   "metadata": {},
   "source": [
    "### Actual Data"
   ]
  },
  {
   "cell_type": "code",
   "execution_count": null,
   "metadata": {},
   "outputs": [],
   "source": [
    "actual = verdict.Dict.from_hdf5( './data/synthetic_data/sample{}/theorists_file.h5'.format( sample_i ) )"
   ]
  },
  {
   "cell_type": "code",
   "execution_count": null,
   "metadata": {},
   "outputs": [],
   "source": [
    "observers_data = verdict.Dict.from_hdf5( './data/synthetic_data/sample{}/observers_file.h5'.format( sample_i ) )"
   ]
  },
  {
   "cell_type": "code",
   "execution_count": null,
   "metadata": {},
   "outputs": [],
   "source": [
    "provided = verdict.Dict.from_hdf5( './data/synthetic_data_samples/sample0.h5' )"
   ]
  },
  {
   "cell_type": "markdown",
   "metadata": {},
   "source": [
    "### Modeled"
   ]
  },
  {
   "cell_type": "markdown",
   "metadata": {},
   "source": [
    "#### Sameer & Charlton"
   ]
  },
  {
   "cell_type": "code",
   "execution_count": null,
   "metadata": {},
   "outputs": [],
   "source": [
    "modeling_group = 'sameer_charlton'"
   ]
  },
  {
   "cell_type": "markdown",
   "metadata": {},
   "source": [
    "##### Original Results"
   ]
  },
  {
   "cell_type": "code",
   "execution_count": null,
   "metadata": {},
   "outputs": [],
   "source": [
    "modeled_raw = verdict.Dict.from_hdf5( './data/modeling_results/{}/sample{}/sample{}.hdf5'.format( modeling_group, sample_i, sample_i ) )"
   ]
  },
  {
   "cell_type": "code",
   "execution_count": null,
   "metadata": {},
   "outputs": [],
   "source": [
    "derived = pd.read_csv( './data/modeling_results/sameer_charlton/sample{}/derived.txt'.format( sample_i ), sep='\\t', index_col=0 )"
   ]
  },
  {
   "cell_type": "code",
   "execution_count": null,
   "metadata": {},
   "outputs": [],
   "source": [
    "modeled = {\n",
    "    'metallicity': np.array([ modeled_raw[str(i+1)][0] for i in range( actual['metallicity'].size ) ]),\n",
    "    'emetallicity': np.array([ modeled_raw[str(i+1)][1] for i in range( actual['metallicity'].size ) ]),\n",
    "    'length': derived.values[:,0],\n",
    "    'H_column': derived.values[:,1],\n",
    "    'temperature': derived.values[:,2],\n",
    "    'H_density': derived.values[:,3],\n",
    "}"
   ]
  },
  {
   "cell_type": "code",
   "execution_count": null,
   "metadata": {},
   "outputs": [],
   "source": [
    "fp = './data/modeling_results/{}/sample{}/firstiteration.pickle'.format( modeling_group, sample_i )\n",
    "columns = dict( pd.read_pickle( fp ) )"
   ]
  },
  {
   "cell_type": "code",
   "execution_count": null,
   "metadata": {},
   "outputs": [],
   "source": [
    "for key, item in columns.items():\n",
    "    item_arr = np.array(item)\n",
    "    modeled['{}'.format( key )] = item_arr[:,0]\n",
    "    modeled['e{}'.format( key )] = item_arr[:,1]"
   ]
  },
  {
   "cell_type": "code",
   "execution_count": null,
   "metadata": {},
   "outputs": [],
   "source": [
    "modeled = pd.DataFrame( modeled )\n",
    "modeled = modeled.set_index( np.arange( modeled.shape[0] ) + 1 )"
   ]
  },
  {
   "cell_type": "code",
   "execution_count": null,
   "metadata": {},
   "outputs": [],
   "source": [
    "modeled"
   ]
  },
  {
   "cell_type": "markdown",
   "metadata": {},
   "source": [
    "##### Revised"
   ]
  },
  {
   "cell_type": "code",
   "execution_count": null,
   "metadata": {},
   "outputs": [],
   "source": [
    "revised = pd.read_csv( './data/modeling_results/{}/sample{}/revised_params.csv'.format( modeling_group, sample_i ) )\n",
    "revised = revised.set_index( np.arange( revised.shape[0] ) + 1 )"
   ]
  },
  {
   "cell_type": "code",
   "execution_count": null,
   "metadata": {},
   "outputs": [],
   "source": [
    "fp = './data/modeling_results/{}/sample{}/seconditeration.pickle'.format( modeling_group, sample_i )\n",
    "columns = dict( pd.read_pickle( fp ) )"
   ]
  },
  {
   "cell_type": "code",
   "execution_count": null,
   "metadata": {},
   "outputs": [],
   "source": [
    "for key, item in columns.items():\n",
    "    item_arr = np.array(item)\n",
    "    revised['{}'.format( key )] = item_arr[:,0]\n",
    "    revised['e{}'.format( key )] = item_arr[:,1]"
   ]
  },
  {
   "cell_type": "code",
   "execution_count": null,
   "metadata": {},
   "outputs": [],
   "source": [
    "revised"
   ]
  },
  {
   "cell_type": "markdown",
   "metadata": {},
   "source": [
    "#### Mohapatra"
   ]
  },
  {
   "cell_type": "code",
   "execution_count": null,
   "metadata": {},
   "outputs": [],
   "source": [
    "met_mohapatra = np.full( ( actual['metallicity'].size ),  np.nan,  )\n",
    "emet_mohapatra = np.full( ( actual['metallicity'].size ),  np.nan,  )\n",
    "met_mohapatra[7] = -0.52\n",
    "emet_mohapatra[7] = 0.41\n",
    "met_mohapatra[9] = 0.48\n",
    "emet_mohapatra[9] = 0.39"
   ]
  },
  {
   "cell_type": "markdown",
   "metadata": {},
   "source": [
    "## Data for Interpretation"
   ]
  },
  {
   "cell_type": "code",
   "execution_count": null,
   "metadata": {},
   "outputs": [],
   "source": [
    "phase_diagram = verdict.Dict.from_hdf5( './data/m12i_phase_diagram_z0.25.h5' )"
   ]
  },
  {
   "cell_type": "markdown",
   "metadata": {},
   "source": [
    "### Address Possible Scrambling of Sightline Inds"
   ]
  },
  {
   "cell_type": "markdown",
   "metadata": {},
   "source": [
    "#### Best case match closest metallicities"
   ]
  },
  {
   "cell_type": "code",
   "execution_count": null,
   "metadata": {},
   "outputs": [],
   "source": [
    "model_sort_inds = np.argsort( modeled['metallicity'] )\n",
    "actual_sort_inds = np.argsort( actual['metallicity'] )"
   ]
  },
  {
   "cell_type": "markdown",
   "metadata": {},
   "source": [
    "#### Use Sameer's columns to assess mixup"
   ]
  },
  {
   "cell_type": "code",
   "execution_count": null,
   "metadata": {},
   "outputs": [],
   "source": [
    "columns = pd.read_csv( './data/modeling_results/sameer_charlton/sample{}/columns.txt'.format( sample_i ), sep='\\t', index_col=0 )"
   ]
  },
  {
   "cell_type": "code",
   "execution_count": null,
   "metadata": {},
   "outputs": [],
   "source": [
    "columns.loc['HI']"
   ]
  },
  {
   "cell_type": "code",
   "execution_count": null,
   "metadata": {},
   "outputs": [],
   "source": [
    "provided['H I']['logN']"
   ]
  },
  {
   "cell_type": "code",
   "execution_count": null,
   "metadata": {},
   "outputs": [],
   "source": [
    "np.log10( actual['H I'] )"
   ]
  },
  {
   "cell_type": "markdown",
   "metadata": {},
   "source": [
    "It doesn't look like there was a mixup..."
   ]
  },
  {
   "cell_type": "markdown",
   "metadata": {},
   "source": [
    "# Results"
   ]
  },
  {
   "cell_type": "markdown",
   "metadata": {},
   "source": [
    "## 1-to-1 comparison"
   ]
  },
  {
   "cell_type": "code",
   "execution_count": null,
   "metadata": {},
   "outputs": [],
   "source": [
    "colormap = palettable.cartocolors.qualitative.Safe_10.mpl_colors"
   ]
  },
  {
   "cell_type": "code",
   "execution_count": null,
   "metadata": {},
   "outputs": [],
   "source": [
    "fig = plt.figure( figsize=(8,8), facecolor='w' )\n",
    "ax = plt.gca()\n",
    "\n",
    "ax.errorbar(\n",
    "    np.log10( actual['metallicity'] ),\n",
    "    modeled['metallicity'],\n",
    "    yerr = modeled['emetallicity'],\n",
    "    marker = 'o',\n",
    "    markersize = 10,\n",
    "    color = colormap[0],\n",
    "    linestyle = 'none',\n",
    "    label = 'Sameer & Charlton',\n",
    ")\n",
    "for i, met in enumerate( np.log10( actual['metallicity'] ) ):\n",
    "    ax.annotate(\n",
    "        text = '{}'.format( i + 1 ),\n",
    "        xy = ( met, modeled['metallicity'].loc[i + 1] ),\n",
    "        xytext = ( -5, 5 ),\n",
    "        textcoords = 'offset points',\n",
    "        fontsize = 14,\n",
    "        va = 'bottom',\n",
    "        ha = 'right',\n",
    "    )\n",
    "\n",
    "ax.errorbar(\n",
    "    np.log10( actual['metallicity'] ),\n",
    "    revised['Z'],\n",
    "    yerr = revised['errZ'],\n",
    "    marker = 'X',\n",
    "    markersize = 10,\n",
    "    color = colormap[1],\n",
    "    linestyle = 'none',\n",
    "    label = 'Sameer & Charlton - Revised',\n",
    ")\n",
    "\n",
    "# ax.errorbar(\n",
    "#     np.log10( actual['metallicity'] ),\n",
    "#     met_mohapatra,\n",
    "#     yerr = emet_mohapatra,\n",
    "#     marker = 's',\n",
    "#     markersize = 10,\n",
    "#     color = colormap[2],\n",
    "#     linestyle = 'none',\n",
    "#     label = 'Mohapatra',\n",
    "# )\n",
    "# ax.plot(\n",
    "#     [ np.log10( actual['metallicity'] )[8], ]*2,\n",
    "#     [ 0.54, 1000 ],\n",
    "#     color = colormap[2],\n",
    "# )\n",
    "\n",
    "# ax.errorbar(\n",
    "#     np.log10( actual['metallicity'] )[actual_sort_inds],\n",
    "#     modeled['metallicity'][model_sort_inds],\n",
    "#     yerr = modeled['emetallicity'][model_sort_inds],\n",
    "#     marker = 'o',\n",
    "#     markersize = 10,\n",
    "#     color = '0.5',\n",
    "#     linestyle = 'none',\n",
    "#     zorder = -5,\n",
    "# )\n",
    "\n",
    "ax.plot(\n",
    "    [ -2.2, 1 ],\n",
    "    [ -2.2, 1 ],\n",
    "    color = '0.5',\n",
    "    linestyle = '--',\n",
    "    linewidth = 3,\n",
    "    zorder = -10,\n",
    ")\n",
    "\n",
    "ax.tick_params( length=10, width=1.5, labelsize=18 )\n",
    "\n",
    "ax.set_xlabel( r'$\\log_{10}( Z_{\\rm actual}/Z_\\odot )$', fontsize=22, )\n",
    "ax.set_ylabel( r'$\\log_{10}( Z_{\\rm modeled}/Z_\\odot )$', fontsize=22, )\n",
    "\n",
    "ax.set_xlim( -2.2, 1 )\n",
    "ax.set_ylim( -2.2, 1 )\n",
    "\n",
    "ax.set_aspect( 'equal' )\n",
    "\n",
    "l = ax.legend(\n",
    "    prop={'size': 14 },\n",
    ")"
   ]
  },
  {
   "cell_type": "code",
   "execution_count": null,
   "metadata": {},
   "outputs": [],
   "source": [
    "fig = plt.figure( figsize=(8,8), facecolor='w' )\n",
    "ax = plt.gca()\n",
    "\n",
    "ax.scatter(\n",
    "    np.log10( actual['H_density'] ),\n",
    "    modeled['H_density'],\n",
    "    marker = 'o',\n",
    "    s = 100,\n",
    "    color = 'k',\n",
    ")\n",
    "\n",
    "# ax.errorbar(\n",
    "#     np.log10( actual['metallicity'] )[actual_sort_inds],\n",
    "#     modeled['metallicity'][model_sort_inds],\n",
    "#     yerr = modeled['emetallicity'][model_sort_inds],\n",
    "#     marker = 'o',\n",
    "#     markersize = 10,\n",
    "#     color = '0.5',\n",
    "#     linestyle = 'none',\n",
    "#     zorder = -5,\n",
    "# )\n",
    "\n",
    "bounds = [ -4.5, 0 ]\n",
    "\n",
    "ax.plot(\n",
    "    bounds,\n",
    "    bounds,\n",
    "    color = '0.5',\n",
    "    linestyle = '--',\n",
    "    linewidth = 3,\n",
    "    zorder = -10,\n",
    ")\n",
    "\n",
    "ax.tick_params( length=10, width=1.5, labelsize=18 )\n",
    "\n",
    "ax.set_xlabel( r'$\\log_{10}( n_{\\rm H,actual}/{\\rm cm^{-3}} )$', fontsize=22, )\n",
    "ax.set_ylabel( r'$\\log_{10}( n_{\\rm H,modeled}/{\\rm cm^{-3}} )$', fontsize=22, )\n",
    "\n",
    "ax.set_xlim( bounds )\n",
    "ax.set_ylim( bounds )\n",
    "\n",
    "ax.set_aspect( 'equal' )\n",
    "\n",
    "# plt.savefig( './figures/sample0/nH_modeled_vs_actual.pdf', bbox_inches='tight' )"
   ]
  },
  {
   "cell_type": "code",
   "execution_count": null,
   "metadata": {},
   "outputs": [],
   "source": [
    "fig = plt.figure( figsize=(8,8), facecolor='w' )\n",
    "ax = plt.gca()\n",
    "\n",
    "ax.scatter(\n",
    "    np.log10( actual['temperature'] ),\n",
    "    modeled['temperature'],\n",
    "    marker = 'o',\n",
    "    s = 100,\n",
    "    color = 'k',\n",
    ")\n",
    "\n",
    "# ax.errorbar(\n",
    "#     np.log10( actual['metallicity'] )[actual_sort_inds],\n",
    "#     modeled['metallicity'][model_sort_inds],\n",
    "#     yerr = modeled['emetallicity'][model_sort_inds],\n",
    "#     marker = 'o',\n",
    "#     markersize = 10,\n",
    "#     color = '0.5',\n",
    "#     linestyle = 'none',\n",
    "#     zorder = -5,\n",
    "# )\n",
    "\n",
    "bounds = [ 4, 6 ]\n",
    "\n",
    "ax.plot(\n",
    "    bounds,\n",
    "    bounds,\n",
    "    color = '0.5',\n",
    "    linestyle = '--',\n",
    "    linewidth = 3,\n",
    "    zorder = -10,\n",
    ")\n",
    "\n",
    "ax.tick_params( length=10, width=1.5, labelsize=18 )\n",
    "\n",
    "ax.set_xlabel( r'$\\log_{10}( T_{\\rm actual}/{\\rm K} )$', fontsize=22, )\n",
    "ax.set_ylabel( r'$\\log_{10}( T_{\\rm modeled}/{\\rm K} )$', fontsize=22, )\n",
    "\n",
    "ax.set_xlim( bounds )\n",
    "ax.set_ylim( bounds )\n",
    "\n",
    "ax.set_aspect( 'equal' )\n",
    "\n",
    "# plt.savefig( './figures/sample0/T_modeled_vs_actual.pdf', bbox_inches='tight' )"
   ]
  },
  {
   "cell_type": "code",
   "execution_count": null,
   "metadata": {},
   "outputs": [],
   "source": [
    "fig = plt.figure( figsize=(8,8), facecolor='w' )\n",
    "ax = plt.gca()\n",
    "\n",
    "ax.scatter(\n",
    "    np.log10( actual['length'] ),\n",
    "    np.log10( modeled['length'] ),\n",
    "    marker = 'o',\n",
    "    s = 100,\n",
    "    color = 'k',\n",
    ")\n",
    "\n",
    "# ax.errorbar(\n",
    "#     np.log10( actual['metallicity'] )[actual_sort_inds],\n",
    "#     modeled['metallicity'][model_sort_inds],\n",
    "#     yerr = modeled['emetallicity'][model_sort_inds],\n",
    "#     marker = 'o',\n",
    "#     markersize = 10,\n",
    "#     color = '0.5',\n",
    "#     linestyle = 'none',\n",
    "#     zorder = -5,\n",
    "# )\n",
    "\n",
    "bounds = [ -1, 6 ]\n",
    "\n",
    "ax.plot(\n",
    "    bounds,\n",
    "    bounds,\n",
    "    color = '0.5',\n",
    "    linestyle = '--',\n",
    "    linewidth = 3,\n",
    "    zorder = -10,\n",
    ")\n",
    "\n",
    "ax.tick_params( length=10, width=1.5, labelsize=18 )\n",
    "\n",
    "ax.set_xlabel( r'$\\log_{10}( \\ell_{\\rm actual}/{\\rm kpc} )$', fontsize=22, )\n",
    "ax.set_ylabel( r'$\\log_{10}( \\ell_{\\rm modeled}/{\\rm kpc} )$', fontsize=22, )\n",
    "\n",
    "ax.set_xlim( bounds )\n",
    "ax.set_ylim( bounds )\n",
    "\n",
    "ax.set_aspect( 'equal' )\n",
    "\n",
    "# plt.savefig( './figures/sample0/l_modeled_vs_actual.pdf', bbox_inches='tight' )"
   ]
  },
  {
   "cell_type": "markdown",
   "metadata": {},
   "source": [
    "## Sightlines in Context of Priors"
   ]
  },
  {
   "cell_type": "markdown",
   "metadata": {},
   "source": [
    "### Interpolate to Get PDF Values"
   ]
  },
  {
   "cell_type": "code",
   "execution_count": null,
   "metadata": {},
   "outputs": [],
   "source": [
    "dlogT = phase_diagram['logT_edges'][1] - phase_diagram['logT_edges'][0]\n",
    "dlogHDen = phase_diagram['logH_density_edges'][1] - phase_diagram['logH_density_edges'][0]\n",
    "pdf = phase_diagram['hist'] / ( dlogT * dlogHDen )"
   ]
  },
  {
   "cell_type": "code",
   "execution_count": null,
   "metadata": {},
   "outputs": [],
   "source": [
    "logHDen_centers = phase_diagram['logH_density_edges'][:-1] + 0.5 * dlogHDen\n",
    "logT_centers = phase_diagram['logT_edges'][:-1] + 0.5 * dlogT"
   ]
  },
  {
   "cell_type": "code",
   "execution_count": null,
   "metadata": {},
   "outputs": [],
   "source": [
    "interp_fn = scipy.interpolate.RectBivariateSpline(\n",
    "    logHDen_centers,\n",
    "    logT_centers,\n",
    "    pdf,\n",
    ")"
   ]
  },
  {
   "cell_type": "code",
   "execution_count": null,
   "metadata": {},
   "outputs": [],
   "source": [
    "pdf_values = np.array([ interp_fn( np.log10( actual['H_density'][i] ), np.log10( actual['temperature'][i] ) )[0][0] for i in range( actual['metallicity'].size ) ])"
   ]
  },
  {
   "cell_type": "code",
   "execution_count": null,
   "metadata": {},
   "outputs": [],
   "source": [
    "pdf_values[pdf_values<0] = pdf[np.nonzero(pdf)].min()"
   ]
  },
  {
   "cell_type": "code",
   "execution_count": null,
   "metadata": {},
   "outputs": [],
   "source": [
    "fig = plt.figure( figsize=(15,10), facecolor='w' )\n",
    "ax = plt.gca()\n",
    "\n",
    "img = ax.imshow(\n",
    "    np.rot90( pdf ),\n",
    "    extent = [ logHDen_centers[0], logHDen_centers[-1], logT_centers[0], logT_centers[-1] ],\n",
    "    cmap = palettable.cubehelix.classic_16_r.mpl_colormap,\n",
    "    norm = matplotlib.colors.LogNorm(),\n",
    ")\n",
    "\n",
    "vmin = np.nanmin( pdf[np.nonzero(pdf)] )\n",
    "vmax = np.nanmax( pdf[np.nonzero(pdf)] )\n",
    "ax.scatter(\n",
    "    np.log10( actual['H_density'] ),\n",
    "    np.log10( actual['temperature'] ),\n",
    "    edgecolor = 'k',\n",
    "    s = 100,\n",
    "    c = pdf_values,\n",
    "    cmap = palettable.cubehelix.classic_16_r.mpl_colormap,\n",
    "    norm = matplotlib.colors.LogNorm( vmin, vmax ),\n",
    ")\n",
    "\n",
    "for i in range( actual['H_density'].size ):\n",
    "    ax.annotate(\n",
    "        text = str( i + 1 ),\n",
    "        xy = np.log10([ actual['H_density'][i], actual['temperature'][i] ]),\n",
    "        fontsize = 20,\n",
    "        color = 'k',\n",
    "        xytext = ( 0, 3.5 ),\n",
    "        textcoords = 'offset points',\n",
    "        ha = 'center',\n",
    "        va = 'bottom',\n",
    "    )\n",
    "\n",
    "# Colorbar\n",
    "# Create divider for existing axes instance\n",
    "divider = make_axes_locatable(ax)\n",
    "# Append axes to the right of ax, with 5% width of ax\n",
    "cax = divider.append_axes(\"right\", pad=0.05, size='5%')\n",
    "cb = plt.colorbar( img, cax=cax )\n",
    "cb.ax.tick_params(which='major', labelsize=18, length=10, width=1.5 )\n",
    "cb.ax.tick_params(which='minor', labelsize=18, length=5, width=1. )\n",
    "ax.annotate(\n",
    "    text = 'PDF',\n",
    "    xy = ( 1, 1 ),\n",
    "    xytext = ( 0, 10 ),\n",
    "    xycoords = 'axes fraction',\n",
    "    textcoords = 'offset points',\n",
    "    fontsize = 24,\n",
    ")\n",
    "\n",
    "\n",
    "ax.tick_params( length=10, width=1.5, labelsize=18 )\n",
    "\n",
    "ax.set_xlabel( r'$\\log_{10} n_{\\rm H}$ (cm$^{-3}$)', fontsize=22 )\n",
    "ax.set_ylabel( r'$\\log_{10} T$ (K)', fontsize=22 )\n",
    "\n",
    "ax.set_aspect( 'equal' )\n",
    "\n",
    "savefile = os.path.join( figure_dir, 'phase_space.png' )\n",
    "print( 'Saving at {}'.format( savefile ) )\n",
    "plt.savefig( savefile, bbox_inches='tight' )"
   ]
  },
  {
   "cell_type": "markdown",
   "metadata": {
    "tags": []
   },
   "source": [
    "## Comparison Including Expected Frequency"
   ]
  },
  {
   "cell_type": "code",
   "execution_count": null,
   "metadata": {},
   "outputs": [],
   "source": [
    "y_labels = {\n",
    "    'metallicity': r'$\\log_{10} ( Z_{\\rm modeled}/Z_{\\rm actual} )$',\n",
    "    'H_density': r'$\\log_{10} ( n_{\\rm H, modeled}/n_{\\rm H, actual} )$',\n",
    "    'temperature': r'$\\log_{10} ( T_{\\rm modeled}/T_{\\rm actual} )$',\n",
    "    'length': r'$\\log_{10} (\\ell_{\\rm modeled} / \\ell_{\\rm actual} )$',\n",
    "}"
   ]
  },
  {
   "cell_type": "markdown",
   "metadata": {},
   "source": [
    "### Properties with Ratios"
   ]
  },
  {
   "cell_type": "code",
   "execution_count": null,
   "metadata": {},
   "outputs": [],
   "source": [
    "vmin = np.nanmin( pdf[np.nonzero(pdf)] )\n",
    "vmax = np.nanmax( pdf[np.nonzero(pdf)] )"
   ]
  },
  {
   "cell_type": "code",
   "execution_count": null,
   "metadata": {},
   "outputs": [],
   "source": [
    "for key in [ 'metallicity', 'H_density', 'temperature', 'length' ]:\n",
    "\n",
    "    fig = plt.figure( figsize=(8,8), facecolor='w' )\n",
    "    ax = plt.gca()\n",
    "\n",
    "    if key != 'length':\n",
    "        ys = modeled[key] - np.log10( actual[key] )\n",
    "    else:\n",
    "        ys = np.log10( modeled[key] / actual[key] )\n",
    "        \n",
    "    ax.scatter(\n",
    "        np.arange( actual[key].size ) + 1,\n",
    "        ys,\n",
    "        edgecolor = 'k',\n",
    "        s = 100,\n",
    "        c = pdf_values,\n",
    "        cmap = palettable.cubehelix.classic_16_r.mpl_colormap,\n",
    "        norm = matplotlib.colors.LogNorm( vmin, vmax ),\n",
    "    )\n",
    "\n",
    "    if key == 'metallicity':\n",
    "        \n",
    "        ax.errorbar(\n",
    "            np.arange( actual[key].size ) + 1,\n",
    "            modeled[key] - np.log10( actual[key] ),\n",
    "            yerr = modeled['emetallicity'],\n",
    "            linestyle = 'none',\n",
    "            color = 'k',\n",
    "            zorder = -10,\n",
    "        )\n",
    "        \n",
    "        ax.scatter(\n",
    "            np.arange( actual[key].size ) + 1,\n",
    "            revised['Z'] - np.log10( actual[key] ),\n",
    "            s = 100,\n",
    "            color = colormap[1],\n",
    "            zorder = -9,\n",
    "        )\n",
    "        ax.errorbar(\n",
    "            np.arange( actual[key].size ) + 1,\n",
    "            revised['Z'] - np.log10( actual[key] ),\n",
    "            yerr = revised['errZ'],\n",
    "            linestyle = 'none',\n",
    "            color = colormap[1],\n",
    "            zorder = -10,\n",
    "        )\n",
    "        \n",
    "#         # Mohapatra results\n",
    "#         ax.errorbar(\n",
    "#             np.arange( actual[key].size ) + 1,\n",
    "#             met_mohapatra,\n",
    "#             yerr = emet_mohapatra,\n",
    "#             marker = 's',\n",
    "#             markersize = 10,\n",
    "#             color = colormap[1],\n",
    "#             linestyle = 'none',\n",
    "#             label = 'Mohapatra',\n",
    "#             zorder = -10\n",
    "#         )\n",
    "#         ax.plot(\n",
    "#             [ 9, ]*2,\n",
    "#             [ 0.54, 1000 ],\n",
    "#             color = colormap[1],\n",
    "#         )\n",
    "\n",
    "    ax.axhline(\n",
    "        0,\n",
    "        color = '0.5',\n",
    "        linestyle = '--',\n",
    "        linewidth = 3,\n",
    "        zorder = -10,\n",
    "    )\n",
    "\n",
    "    plt.xticks( np.arange( actual['metallicity'].size ) + 1, )\n",
    "    ax.tick_params( length=10, width=1.5, labelsize=18 )\n",
    "\n",
    "    ax.set_xlabel( r'Sightline ID', fontsize=22 )\n",
    "    ax.set_ylabel( y_labels[key], fontsize=22 )\n",
    "    \n",
    "    if key == 'length':\n",
    "        ax.set_ylim( -1.5, 4 )\n",
    "    elif key == 'metallicity':\n",
    "        ax.set_ylim( -1.5, 1.5 )\n",
    "    else:\n",
    "        ax.set_ylim( -4, 1.5 )\n",
    "        \n",
    "#     plt.savefig( './figures/sample0/comparison_{}_inc_freq.pdf'.format( key ), bbox_inches='tight' )"
   ]
  },
  {
   "cell_type": "markdown",
   "metadata": {},
   "source": [
    "### Properties without Ratios"
   ]
  },
  {
   "cell_type": "code",
   "execution_count": null,
   "metadata": {},
   "outputs": [],
   "source": [
    "found = verdict.Dict({\n",
    "    'l': modeled['length'].values * unyt.kpc,\n",
    "    'Z': 10.**modeled['metallicity'].values * unyt.Zsun,\n",
    "    'T': 10.**modeled['temperature'].values * unyt.K,\n",
    "    'nH': 10.**modeled['H_density'].values * unyt.cm**-3,\n",
    "})"
   ]
  },
  {
   "cell_type": "code",
   "execution_count": null,
   "metadata": {},
   "outputs": [],
   "source": [
    "found_revised = verdict.Dict({\n",
    "    'Z': 10.**revised['Z'].values * unyt.Zsun,\n",
    "    'T': 10.**revised['T'].values * unyt.K,\n",
    "    'nH': 10.**revised['ne'].values * unyt.cm**-3,\n",
    "})"
   ]
  },
  {
   "cell_type": "code",
   "execution_count": null,
   "metadata": {},
   "outputs": [],
   "source": [
    "actual['l'] = actual['length'] * unyt.kpc\n",
    "actual['Z'] = actual['metallicity'] * unyt.Zsun\n",
    "actual['T'] = actual['temperature'] * unyt.K\n",
    "actual['nH'] = actual['H_density'] * unyt.cm**-3\n",
    "actual = verdict.Dict( actual )"
   ]
  },
  {
   "cell_type": "code",
   "execution_count": null,
   "metadata": {},
   "outputs": [],
   "source": [
    "xs = modeled.index"
   ]
  },
  {
   "cell_type": "code",
   "execution_count": null,
   "metadata": {},
   "outputs": [],
   "source": [
    "clean_mosaic = [\n",
    "    [ 'T', 'l', ],\n",
    "    [ 'nH', 'Z', ],\n",
    "]"
   ]
  },
  {
   "cell_type": "code",
   "execution_count": null,
   "metadata": {},
   "outputs": [],
   "source": [
    "# Setup Figure\n",
    "n_rows_clean = 2\n",
    "n_cols_clean = 2\n",
    "aspect_ratio = 2\n",
    "fig = plt.figure( figsize=(n_cols_clean*panel_length*aspect_ratio, n_rows_clean*panel_length), facecolor='w' )\n",
    "ax_dict = fig.subplot_mosaic(\n",
    "    clean_mosaic,\n",
    ")\n",
    "\n",
    "for key in prop_keys:\n",
    "    \n",
    "    ax = ax_dict[key]\n",
    "    \n",
    "    ratio = np.log10( actual[key] / found[key] )\n",
    "    ordered_inds = np.argsort( np.abs( ratio ) )\n",
    "    \n",
    "    # Shade regions\n",
    "    norm = matplotlib.colors.LogNorm( vmin, vmax )\n",
    "    for i, c_value in enumerate( pdf_values[ordered_inds] ):\n",
    "        \n",
    "        c = palettable.cubehelix.classic_16_r.mpl_colormap( norm( c_value ) )\n",
    "        \n",
    "        ax.fill_between(\n",
    "            [ xs[i] - 0.5, xs[i] + 0.5 ],\n",
    "            [ 0, 0 ],\n",
    "            [ 1, 1 ],\n",
    "            transform = matplotlib.transforms.blended_transform_factory( ax.transData, ax.transAxes ),\n",
    "            color = c,\n",
    "        )\n",
    "    \n",
    "    # Actual\n",
    "    ax.scatter(\n",
    "        xs,\n",
    "        actual[key][ordered_inds],\n",
    "        s = 100,\n",
    "        color = 'k',\n",
    "#         edgecolor = 'k',\n",
    "#         c = pdf_values[ordered_inds],\n",
    "#         cmap = palettable.cubehelix.classic_16_r.mpl_colormap,\n",
    "#         norm = matplotlib.colors.LogNorm( vmin, vmax ),\n",
    "        zorder = 100,\n",
    "    )\n",
    "    \n",
    "    # Original\n",
    "    ax.scatter(\n",
    "        xs,\n",
    "        found[key][ordered_inds],\n",
    "        color = found_color,\n",
    "        s = 150,\n",
    "        zorder = 50,\n",
    "    )\n",
    "    \n",
    "    # Revised\n",
    "    try:\n",
    "        ax.scatter(\n",
    "            xs,\n",
    "            found_revised[key][ordered_inds],\n",
    "            color = revised_color,\n",
    "            s = 200,\n",
    "        )\n",
    "    except KeyError:\n",
    "        pass\n",
    "    \n",
    "    if logscale[key]:\n",
    "        ax.set_yscale( 'log' )\n",
    "        \n",
    "    # X ticks\n",
    "    ax.set_xticks( xs )\n",
    "    ax.set_xticklabels( ordered_inds )\n",
    "    \n",
    "    ax.set_xlim( xs[0] - 0.5, xs[-1] + 0.5 )\n",
    "    if key in lims:\n",
    "        ax.set_ylim( lims[key] )\n",
    "    \n",
    "# Cleanup\n",
    "for x_key, ax in ax_dict.items():\n",
    "    \n",
    "    if x_key == 'legend':\n",
    "        continue\n",
    "    \n",
    "    subplotspec = ax.get_subplotspec()\n",
    "        \n",
    "    ax.set_ylabel( labels[x_key], fontsize=16 )\n",
    "    if subplotspec.is_last_row():\n",
    "        ax.set_xlabel( 'sightline ID', fontsize=16 )\n",
    "        \n",
    "savefile = os.path.join( figure_dir, 'comparison.pdf' )\n",
    "print( 'Saving at {}'.format( savefile ) )\n",
    "plt.savefig( savefile, bbox_inches='tight' )"
   ]
  },
  {
   "cell_type": "markdown",
   "metadata": {},
   "source": [
    "## Corner Plot Comparison"
   ]
  },
  {
   "cell_type": "markdown",
   "metadata": {},
   "source": [
    "### Plot"
   ]
  },
  {
   "cell_type": "code",
   "execution_count": null,
   "metadata": {},
   "outputs": [],
   "source": [
    "mosaic = [\n",
    "    [ 'l', 'legend', '.', '.' ],\n",
    "    [ 'T_l', 'T', '.', '.' ],\n",
    "    [ 'nH_l', 'nH_T', 'nH', '.' ],\n",
    "    [ 'Z_l', 'Z_T', 'Z_nH', 'Z', ],\n",
    "]"
   ]
  },
  {
   "cell_type": "code",
   "execution_count": null,
   "metadata": {},
   "outputs": [],
   "source": [
    "# Setup Figure\n",
    "n_cols = len( prop_keys )\n",
    "fig = plt.figure( figsize=( panel_length*n_cols, panel_length*n_cols ), facecolor='w' )\n",
    "ax_dict = fig.subplot_mosaic(\n",
    "    mosaic,\n",
    ")\n",
    "\n",
    "# Loop through all properties\n",
    "for j, x_key in enumerate( prop_keys ):\n",
    "    for k, y_key in enumerate( prop_keys ):\n",
    "\n",
    "        # Avoid duplicates\n",
    "        if k < j:\n",
    "            continue \n",
    "            \n",
    "        # Single property comparison\n",
    "        if j == k:\n",
    "            ax = ax_dict[x_key]\n",
    "            subplotspec = ax.get_subplotspec()\n",
    "            \n",
    "            x_label = labels[x_key]\n",
    "            y_label = 'sightline ID'\n",
    "                        \n",
    "        # 2D comparisons\n",
    "        else:\n",
    "            try:\n",
    "                ax = ax_dict['{}_{}'.format( x_key, y_key )]\n",
    "            except KeyError:\n",
    "                ax = ax_dict['{}_{}'.format( y_key, x_key )]\n",
    "            subplotspec = ax.get_subplotspec()\n",
    "            \n",
    "            # Actual values\n",
    "            ax.scatter(\n",
    "                actual[x_key],\n",
    "                actual[y_key],\n",
    "                color = 'k',\n",
    "            )\n",
    "            \n",
    "            # Modeled values\n",
    "            ax.scatter(\n",
    "                found[x_key],\n",
    "                found[y_key],\n",
    "                color = found_color,\n",
    "            )\n",
    "            \n",
    "            # Revised modeled values\n",
    "            try:\n",
    "                ax.scatter(\n",
    "                    found_revised[x_key],\n",
    "                    found_revised[y_key],\n",
    "                    color = revised_color,\n",
    "                )\n",
    "            except KeyError:\n",
    "                pass\n",
    "            \n",
    "            if logscale[x_key]:\n",
    "                ax.set_xscale( 'log' )\n",
    "            if logscale[y_key]:\n",
    "                ax.set_yscale( 'log' )\n",
    "                \n",
    "            x_label = labels[x_key]\n",
    "            y_label = labels[y_key]\n",
    "\n",
    "        if subplotspec.is_last_row():\n",
    "            ax.set_xlabel( x_label, fontsize=16 )\n",
    "        if subplotspec.is_first_col():\n",
    "            ax.set_ylabel( y_label, fontsize=16 )"
   ]
  },
  {
   "cell_type": "markdown",
   "metadata": {},
   "source": [
    "## How Much Column Density Agreement is Enough?"
   ]
  },
  {
   "cell_type": "code",
   "execution_count": null,
   "metadata": {},
   "outputs": [],
   "source": [
    "inds = np.array([ 5, 7, 8, 9 ])"
   ]
  },
  {
   "cell_type": "code",
   "execution_count": null,
   "metadata": {},
   "outputs": [],
   "source": [
    "ions = [ 'H I', 'Si II', 'Si III', 'Si IV', 'N II', 'N III', 'N V', 'C II', 'C III', 'O I', 'O VI', ]"
   ]
  },
  {
   "cell_type": "code",
   "execution_count": null,
   "metadata": {},
   "outputs": [],
   "source": [
    "n_rows = 3\n",
    "n_cols = 4\n",
    "fig = plt.figure( figsize=(n_cols*5,n_rows*4), facecolor = 'w' )\n",
    "ax = plt.gca()\n",
    "\n",
    "gs = matplotlib.gridspec.GridSpec( n_rows, n_cols )\n",
    "\n",
    "gs.update( hspace=0.001, wspace=0.001 )\n",
    "\n",
    "i = 0\n",
    "j = 0\n",
    "for k, ion in enumerate( ions ):\n",
    "    \n",
    "    ax_ij = fig.add_subplot( gs[j,i] )\n",
    "    \n",
    "    ax_ij.scatter(\n",
    "        np.arange( inds.size ),\n",
    "        modeled[ion.replace( ' ', '' )][inds+1] - provided[ion]['logN'][inds],\n",
    "        color = found_color,\n",
    "        s = 200,\n",
    "        label = 'original',\n",
    "    )\n",
    "    \n",
    "    ax_ij.errorbar(\n",
    "        np.arange( inds.size ),\n",
    "        modeled[ion.replace( ' ', '' )][inds+1] - provided[ion]['logN'][inds],\n",
    "        yerr = provided[ion]['elogN'][inds],\n",
    "#         yerr = modeled['e' + ion.replace( ' ', '' )][inds],\n",
    "        linestyle = 'none',\n",
    "        color = found_color,\n",
    "        zorder = -10,\n",
    "        linewidth = 4,\n",
    "    )\n",
    "    \n",
    "    ax_ij.scatter(\n",
    "        np.arange( inds.size ),\n",
    "        revised[ion.replace( ' ', '' )][inds+1] - provided[ion]['logN'][inds],\n",
    "        s = 200,\n",
    "        color = revised_color,\n",
    "        zorder = -5,\n",
    "        label = 'revised',\n",
    "    )\n",
    "    ax_ij.errorbar(\n",
    "        np.arange( inds.size ),\n",
    "        revised[ion.replace( ' ', '' )][inds+1] - provided[ion]['logN'][inds],\n",
    "        yerr = provided[ion]['elogN'][inds],\n",
    "#         yerr = revised['e' + ion.replace( ' ', '' )][inds],\n",
    "        linestyle = 'none',\n",
    "        color = revised_color,\n",
    "        zorder = -10,\n",
    "        linewidth = 4,\n",
    "    )\n",
    "    \n",
    "#     ax_ij.scatter(\n",
    "#         inds + 1,\n",
    "#         np.log10( actual[ion][inds] ),\n",
    "#         color = 'k',\n",
    "#     )\n",
    "\n",
    "    ax_ij.axhline(\n",
    "        0,\n",
    "        color = '0.5',\n",
    "        linestyle = '--',\n",
    "        linewidth = 3,\n",
    "        zorder = -10,\n",
    "    )\n",
    "    \n",
    "    ax_ij.annotate(\n",
    "        text = ion,\n",
    "        xy = (1, 1),\n",
    "        xycoords = 'axes fraction',\n",
    "        xytext = ( -5, -5 ),\n",
    "        textcoords = 'offset points',\n",
    "        va = 'top',\n",
    "        ha = 'right',\n",
    "        fontsize = 22,\n",
    "    )\n",
    "    \n",
    "    ax_ij.set_ylim( -1.5, 2.5 )\n",
    "    \n",
    "    # Adjust ticks\n",
    "    plt.xticks( np.arange( inds.size ), inds + 1 )\n",
    "    ax_ij.tick_params( labelsize=15 )\n",
    "    if i != 0:\n",
    "        ax_ij.tick_params( left=False, labelleft=False )\n",
    "    \n",
    "    # Move to next axis in line\n",
    "    if i > n_rows - 1:\n",
    "        j += 1\n",
    "        i = 0\n",
    "    else:\n",
    "        i += 1\n",
    "        \n",
    "        \n",
    "handles = [\n",
    "    matplotlib.lines.Line2D([0], [0], marker='o', color=found_color, label='original', markersize=15),\n",
    "    matplotlib.lines.Line2D([0], [0], marker='o', color=revised_color, label='revised', markersize=15),\n",
    "]\n",
    "\n",
    "ax.legend(\n",
    "    handles = handles,\n",
    "    loc = 'lower right',\n",
    "    prop = { 'size': 22 },\n",
    ")\n",
    "\n",
    "# Removing spines and tick marks\n",
    "ax.spines['right'].set_visible(False)\n",
    "ax.spines['top'].set_visible(False)\n",
    "ax.spines['bottom'].set_visible(False)\n",
    "ax.spines['left'].set_visible(False)\n",
    "ax.tick_params( bottom=False, left=False, labelleft=False, labelbottom=False )\n",
    "\n",
    "ax.set_xlabel( 'Sightline ID', fontsize=26, labelpad=30 )\n",
    "ax.set_ylabel( r'$\\log_{10}( N_{\\rm modeled} / N_{\\rm actual} )$', fontsize=26, labelpad=30 )\n",
    "\n",
    "savefile = os.path.join( figure_dir, 'column_den.pdf' )\n",
    "print( 'Saving at {}'.format( savefile ) )\n",
    "plt.savefig( savefile, bbox_inches='tight' )"
   ]
  },
  {
   "cell_type": "markdown",
   "metadata": {},
   "source": [
    "## Noising of Data"
   ]
  },
  {
   "cell_type": "code",
   "execution_count": null,
   "metadata": {},
   "outputs": [],
   "source": [
    "ions = list( provided.keys() )"
   ]
  },
  {
   "cell_type": "code",
   "execution_count": null,
   "metadata": {},
   "outputs": [],
   "source": [
    "\n",
    "for ion in ions:\n",
    "    fig = plt.figure( figsize=(8,8), facecolor='w' )\n",
    "    ax = plt.gca()\n",
    "\n",
    "    xs = np.log10( actual[ion] )\n",
    "    ys = provided[ion]['logN']\n",
    "    eys = provided[ion]['elogN']\n",
    "\n",
    "    ax.errorbar(\n",
    "        xs,\n",
    "        ys,\n",
    "        yerr = eys,\n",
    "        marker = 'o',\n",
    "        markersize = 10,\n",
    "        color = 'k',\n",
    "        linestyle = 'none',\n",
    "    )\n",
    "\n",
    "    bounds = [\n",
    "        min( np.nanmin( xs[np.isfinite(xs)] ), np.nanmin( ys[np.isfinite(ys)] ) ) - 0.5,\n",
    "        max( np.nanmax( xs[np.isfinite(xs)] ), np.nanmax( ys[np.isfinite(ys)] ) ) + 0.5,\n",
    "    ]\n",
    "    ax.plot(\n",
    "        bounds,\n",
    "        bounds,\n",
    "        color = '0.5',\n",
    "        linestyle = '--',\n",
    "        linewidth = 3,\n",
    "        zorder = -10,\n",
    "    )\n",
    "    \n",
    "    ax.annotate(\n",
    "        text = ion,\n",
    "        xy = ( 0, 1 ),\n",
    "        xycoords = 'axes fraction',\n",
    "        xytext = ( 5, -5 ),\n",
    "        textcoords = 'offset points',\n",
    "        fontsize = 22,\n",
    "        ha = 'left',\n",
    "        va = 'top',\n",
    "    )\n",
    "    \n",
    "    ax.tick_params( length=10, width=1.5, labelsize=18 )\n",
    "\n",
    "    ax.set_xlabel( r'$\\log_{10}( N_{\\rm ion,\\,actual} )$', fontsize=22, )\n",
    "    ax.set_ylabel( r'$\\log_{10}( N_{\\rm ion,\\,provided} )$', fontsize=22, )\n",
    "\n",
    "    ax.set_xlim( bounds )\n",
    "    ax.set_ylim( bounds )\n",
    "\n",
    "    ax.set_aspect( 'equal' )"
   ]
  },
  {
   "cell_type": "code",
   "execution_count": null,
   "metadata": {},
   "outputs": [],
   "source": []
  }
 ],
 "metadata": {
  "kernelspec": {
   "display_name": "Python 3 (ipykernel)",
   "language": "python",
   "name": "python3"
  },
  "language_info": {
   "codemirror_mode": {
    "name": "ipython",
    "version": 3
   },
   "file_extension": ".py",
   "mimetype": "text/x-python",
   "name": "python",
   "nbconvert_exporter": "python",
   "pygments_lexer": "ipython3",
   "version": "3.9.7"
  }
 },
 "nbformat": 4,
 "nbformat_minor": 4
}
