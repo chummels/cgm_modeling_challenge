{
 "cells": [
  {
   "cell_type": "code",
   "execution_count": null,
   "id": "8509d753-fa71-4c27-9ca9-933e8c2ff044",
   "metadata": {},
   "outputs": [],
   "source": [
    "import numpy as np\n",
    "import pandas as pd\n",
    "import tqdm\n",
    "import warnings"
   ]
  },
  {
   "cell_type": "code",
   "execution_count": null,
   "id": "a2cd006a-0726-4b24-9c38-9f7753276b3a",
   "metadata": {},
   "outputs": [],
   "source": [
    "import matplotlib\n",
    "import matplotlib.pyplot as plt\n",
    "import matplotlib.patheffects as path_effects\n",
    "matplotlib.style.use( '/Users/zhafen/repos/clean-bold/clean-bold.mplstyle' )\n"
   ]
  },
  {
   "cell_type": "code",
   "execution_count": null,
   "id": "8ef3d559-a5d5-431a-8cd3-dfe5415b503a",
   "metadata": {},
   "outputs": [],
   "source": [
    "import yt\n",
    "import trident\n",
    "import unyt as u"
   ]
  },
  {
   "cell_type": "code",
   "execution_count": null,
   "id": "df6b8864-a9e5-4839-82e4-86f3f5c1cf0e",
   "metadata": {},
   "outputs": [],
   "source": [
    "import linetools\n",
    "from linetools.lists.linelist import LineList"
   ]
  },
  {
   "cell_type": "markdown",
   "id": "5ff736e0-64c5-4014-a7da-72af174dd85f",
   "metadata": {
    "tags": []
   },
   "source": [
    "# Setup"
   ]
  },
  {
   "cell_type": "code",
   "execution_count": null,
   "id": "90eb0f5a-054b-45ec-ba78-519229b5923e",
   "metadata": {},
   "outputs": [],
   "source": [
    "# Objects for use\n",
    "ldb = trident.LineDatabase('lines.txt')"
   ]
  },
  {
   "cell_type": "code",
   "execution_count": null,
   "id": "f70d14b5-b7b9-4cde-8f5c-81fea1dccab1",
   "metadata": {},
   "outputs": [],
   "source": [
    "ll = LineList('ISM')"
   ]
  },
  {
   "cell_type": "code",
   "execution_count": null,
   "id": "0f598a8b-3f96-4d94-9a07-4afa827bbe50",
   "metadata": {},
   "outputs": [],
   "source": [
    "# Read vpf linelist\n",
    "with open( './data/linelist_vpfit12.2.dat', 'r' ) as f:\n",
    "    vpf_raw = f.read().split( '\\n' )\n",
    "    \n",
    "# Parse it\n",
    "vpf = {\n",
    "    'name': [],\n",
    "    'wavelength': [],\n",
    "    'gamma': [],\n",
    "    'f': [],\n",
    "}\n",
    "skipped = []\n",
    "for i, row in enumerate( vpf_raw ):\n",
    "    \n",
    "    split_row = row.split()\n",
    "\n",
    "    try:\n",
    "        for j, term in enumerate( split_row ):\n",
    "            try:\n",
    "                wavelength = float( term )\n",
    "                break\n",
    "            except ValueError:\n",
    "                pass\n",
    "\n",
    "        name = ''.join( split_row[:j] )\n",
    "        f = float( split_row[j+1] )\n",
    "        gamma = float( split_row[j+2] )\n",
    "    except:\n",
    "        skipped.append( row )\n",
    "        continue\n",
    "\n",
    "    vpf['wavelength'].append( wavelength )\n",
    "    vpf['name'].append( name )\n",
    "    vpf['f'].append( f )\n",
    "    vpf['gamma'].append( gamma )"
   ]
  },
  {
   "cell_type": "markdown",
   "id": "f70ff553-d57e-4a59-abb4-4c799ef12f98",
   "metadata": {},
   "source": [
    "# Analysis"
   ]
  },
  {
   "cell_type": "code",
   "execution_count": null,
   "id": "9b8a4a74-e0b7-4f74-9b43-9ab11972ee86",
   "metadata": {},
   "outputs": [],
   "source": [
    "trident_props = {}\n",
    "ll_props = {}\n",
    "vpf_props = { 'f': [], 'gamma': [] }\n",
    "skipped_linetools = []\n",
    "skipped_vpf = []\n",
    "for i, line in enumerate( tqdm.tqdm( ldb.lines_all ) ):\n",
    "    \n",
    "    # Retrieve line\n",
    "    wavelength_int = round(float(line.wavelength), 0)\n",
    "    def linetools_id( wavelength ):\n",
    "        return '%s%s %d' % (line.element, line.ion_state, wavelength )\n",
    "    ll_line = ll[linetools_id(wavelength_int)]\n",
    "    if ll_line is None:\n",
    "#         warnings.warn( 'Line ' + linetools_id(wavelength_int) + \\\n",
    "#             ' not found in linetools database. Checking adjacent wavelengths.')\n",
    "        ll_line = ll[ linetools_id(wavelength_int-1) ]\n",
    "        if ll_line is None:\n",
    "            ll_line = ll[ linetools_id(wavelength_int+1) ]\n",
    "            if ll_line is None:\n",
    "#                 print( 'No line found in linetools database. Skipping {}.'.format( line.name ) )\n",
    "                skipped_linetools.append( line.name )\n",
    "                continue\n",
    "                \n",
    "    # Retrieve vpf line\n",
    "    close_inds = np.where( np.isclose( ll_line['wrest'].value, vpf['wavelength'] ) )[0]\n",
    "    if len( close_inds ) != 1:\n",
    "        skipped_vpf.append( line.name )\n",
    "        continue\n",
    "    vpf_ind = close_inds[0]\n",
    "        \n",
    "    # Trident\n",
    "    for key, item in line.__dict__.items():\n",
    "        if key not in trident_props:\n",
    "            assert i == 0, \"Should only update on first pass.\"\n",
    "            trident_props[key] = []\n",
    "        trident_props[key].append( item )\n",
    "        \n",
    "    \n",
    "    # Linetools\n",
    "    for key, item in ll_line.items():\n",
    "        if key not in ll_props:\n",
    "            assert i == 0, \"Should only update on first pass.\"\n",
    "            ll_props[key] = []\n",
    "        if key == 'gamma':\n",
    "            item = item.value\n",
    "        ll_props[key].append( item )\n",
    "         \n",
    "    # Vpfit\n",
    "    vpf_props['f'].append( vpf['f'][vpf_ind] )\n",
    "    vpf_props['gamma'].append( vpf['gamma'][vpf_ind] )"
   ]
  },
  {
   "cell_type": "markdown",
   "id": "fd68388f-dfdf-4c7a-81d6-6475d9e0c3ba",
   "metadata": {},
   "source": [
    "# Plot"
   ]
  },
  {
   "cell_type": "code",
   "execution_count": null,
   "id": "4de2d771-aae4-4524-ac78-97d70fe41004",
   "metadata": {},
   "outputs": [],
   "source": [
    "def plot_vs( ax, x_key, y_key, lims, x_props, y_props ):\n",
    "    \n",
    "    significantly_different = np.abs( np.log10( np.array( x_props[x_key] ) / np.array( y_props[y_key] ) )  ) > 0.5\n",
    "    different_inds = np.where( significantly_different )[0]\n",
    "\n",
    "    ax.scatter(\n",
    "        x_props[x_key],\n",
    "        y_props[y_key],\n",
    "        color = 'k',\n",
    "        alpha = 0.5,\n",
    "    )\n",
    "\n",
    "    for ind in different_inds:\n",
    "\n",
    "        text = ax.annotate(\n",
    "            s = trident_props['name'][ind],\n",
    "            xy = ( x_props[x_key][ind], y_props[y_key][ind] ),\n",
    "            xytext = ( 5, 5 ),\n",
    "            xycoords = 'data',\n",
    "            textcoords = 'offset points',\n",
    "        )\n",
    "        text.set_path_effects([path_effects.Stroke(linewidth=1.5, foreground='white'),\n",
    "                           path_effects.Normal()])\n",
    "\n",
    "    ax.set_aspect( 'equal' )\n",
    "    ax.plot(\n",
    "        lims,\n",
    "        lims,\n",
    "        color = 'k',\n",
    "        zorder = -10,\n",
    "    )\n",
    "\n",
    "    ax.set_xlim( lims )\n",
    "    ax.set_ylim( lims )\n",
    "\n",
    "    ax.set_xscale( 'log' )\n",
    "    ax.set_yscale( 'log' )"
   ]
  },
  {
   "cell_type": "markdown",
   "id": "868bfa6f-d526-48c0-b3b9-2223859d64bf",
   "metadata": {},
   "source": [
    "## Oscillator Strengths"
   ]
  },
  {
   "cell_type": "code",
   "execution_count": null,
   "id": "f169e0e7-ebdb-4a80-adb6-e18874eef977",
   "metadata": {},
   "outputs": [],
   "source": [
    "fig = plt.figure()\n",
    "ax = plt.gca()\n",
    "\n",
    "plot_vs( ax, 'f', 'f_value', [ 1e-4, 5 ], ll_props, trident_props, )\n",
    "\n",
    "ax.set_xlabel( 'Linetools oscillator strength' )\n",
    "ax.set_ylabel( 'Trident oscillator strength' )"
   ]
  },
  {
   "cell_type": "code",
   "execution_count": null,
   "id": "6c87c3ec-60df-4f6f-860f-844124f185a7",
   "metadata": {},
   "outputs": [],
   "source": [
    "fig = plt.figure()\n",
    "ax = plt.gca()\n",
    "\n",
    "plot_vs( ax, 'f', 'f_value', [ 1e-4, 5 ], vpf_props, trident_props, )\n",
    "\n",
    "ax.set_xlabel( 'vpfit oscillator strength' )\n",
    "ax.set_ylabel( 'Trident oscillator strength' )"
   ]
  },
  {
   "cell_type": "code",
   "execution_count": null,
   "id": "4185db23-b757-4b21-8304-f442be742cb3",
   "metadata": {},
   "outputs": [],
   "source": [
    "fig = plt.figure()\n",
    "ax = plt.gca()\n",
    "\n",
    "plot_vs( ax, 'f', 'f', [ 1e-4, 5 ], vpf_props, ll_props, )\n",
    "\n",
    "ax.set_xlabel( 'VPF oscillator strength' )\n",
    "ax.set_ylabel( 'Linetools oscillator strength' )"
   ]
  },
  {
   "cell_type": "markdown",
   "id": "6f96d857-6ed2-4a65-b681-c467ed53c8f7",
   "metadata": {},
   "source": [
    "## Gamma"
   ]
  },
  {
   "cell_type": "code",
   "execution_count": null,
   "id": "2e2e1ce7-fd81-4e5e-a587-6d369062ef71",
   "metadata": {},
   "outputs": [],
   "source": [
    "fig = plt.figure()\n",
    "ax = plt.gca()\n",
    "\n",
    "plot_vs( ax, 'gamma', 'gamma', [ 1e3, 1e11 ], ll_props, trident_props, )\n",
    "\n",
    "ax.set_xlabel( 'Linetools gamma' )\n",
    "ax.set_ylabel( 'Trident gamma' )"
   ]
  },
  {
   "cell_type": "code",
   "execution_count": null,
   "id": "0eeb52e9-dcd9-478c-862a-b0785c84fec9",
   "metadata": {},
   "outputs": [],
   "source": [
    "fig = plt.figure()\n",
    "ax = plt.gca()\n",
    "\n",
    "plot_vs( ax, 'gamma', 'gamma', [ 1e3, 1e11 ], ll_props, vpf_props, )\n",
    "\n",
    "ax.set_xlabel( 'Linetools gamma' )\n",
    "ax.set_ylabel( 'Vpf gamma' )"
   ]
  },
  {
   "cell_type": "code",
   "execution_count": null,
   "id": "c5efa7ba-e8c5-45c2-b9f6-1cfe13eaaf5a",
   "metadata": {},
   "outputs": [],
   "source": []
  },
  {
   "cell_type": "code",
   "execution_count": null,
   "id": "6f1099a9-c3c5-4cf1-acb0-000cd4b30f71",
   "metadata": {},
   "outputs": [],
   "source": []
  }
 ],
 "metadata": {
  "kernelspec": {
   "display_name": "Python 3",
   "language": "python",
   "name": "python3"
  },
  "language_info": {
   "codemirror_mode": {
    "name": "ipython",
    "version": 3
   },
   "file_extension": ".py",
   "mimetype": "text/x-python",
   "name": "python",
   "nbconvert_exporter": "python",
   "pygments_lexer": "ipython3",
   "version": "3.9.5"
  }
 },
 "nbformat": 4,
 "nbformat_minor": 5
}
