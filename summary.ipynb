{
 "cells": [
  {
   "cell_type": "code",
   "execution_count": null,
   "id": "b8e3bde3-103c-4c38-8c05-eb0598f5c8e2",
   "metadata": {},
   "outputs": [],
   "source": [
    "import copy\n",
    "import glob\n",
    "import numpy as np\n",
    "import os\n",
    "import pandas as pd\n",
    "import pickle\n",
    "import scipy\n",
    "import scipy.stats\n",
    "import tqdm\n",
    "import warnings"
   ]
  },
  {
   "cell_type": "code",
   "execution_count": null,
   "id": "4c481d9f-d961-4cc2-b10a-3fad52ae0446",
   "metadata": {},
   "outputs": [],
   "source": [
    "import yt\n",
    "import trident\n",
    "import unyt"
   ]
  },
  {
   "cell_type": "code",
   "execution_count": null,
   "id": "555143e5-1c01-4f36-8373-c2389e45fa7d",
   "metadata": {},
   "outputs": [],
   "source": [
    "import kalepy as kale"
   ]
  },
  {
   "cell_type": "code",
   "execution_count": null,
   "id": "22c3d7ae-55a7-4139-92a4-0798b04c5e29",
   "metadata": {},
   "outputs": [],
   "source": [
    "import trove\n",
    "import verdict"
   ]
  },
  {
   "cell_type": "code",
   "execution_count": null,
   "id": "49b9ef63-80a5-4747-879d-84bf59b77709",
   "metadata": {},
   "outputs": [],
   "source": [
    "import matplotlib\n",
    "import matplotlib.pyplot as plt\n",
    "# # Currently need to call this to get matplotlib selected style to load...\n",
    "plt.plot()\n",
    "matplotlib.style.use( '/Users/zhafen/repos/clean-bold/clean-bold-mnras.mplstyle' )\n",
    "import palettable\n",
    "import matplotlib.patheffects as path_effects"
   ]
  },
  {
   "cell_type": "code",
   "execution_count": null,
   "id": "cff821db-ebc0-43d9-a199-b996f28961f8",
   "metadata": {},
   "outputs": [],
   "source": [
    "import helpers"
   ]
  },
  {
   "cell_type": "markdown",
   "id": "8ddc8b8d-c58b-4bee-b95a-d6a878b280a9",
   "metadata": {},
   "source": [
    "# Parameters"
   ]
  },
  {
   "cell_type": "code",
   "execution_count": null,
   "id": "58b903b8-7045-412d-a75f-ce590675c346",
   "metadata": {},
   "outputs": [],
   "source": [
    "summary_data_fp = './data/polished_data/summary.h5'\n",
    "figure_dir = '/Users/zhafen/drafts/cgm_modeling_challenge_paper/figures'"
   ]
  },
  {
   "cell_type": "code",
   "execution_count": null,
   "id": "21c8cdf4-aa07-4968-b9e8-b7fdd06d539b",
   "metadata": {},
   "outputs": [],
   "source": [
    "pm = {\n",
    "    'jitter_width': 0.2,\n",
    "}"
   ]
  },
  {
   "cell_type": "markdown",
   "id": "871b5d37-b317-4028-8b01-96c29c5ff670",
   "metadata": {},
   "source": [
    "# Load Data"
   ]
  },
  {
   "cell_type": "code",
   "execution_count": null,
   "id": "e477beff-e727-4582-800b-16af5d5d05d7",
   "metadata": {},
   "outputs": [],
   "source": [
    "summary = verdict.Dict.from_hdf5( summary_data_fp, create_nonexistent=True )"
   ]
  },
  {
   "cell_type": "markdown",
   "id": "b12996bc-8d08-46f7-87f1-02b20e56b44b",
   "metadata": {},
   "source": [
    "# Averages"
   ]
  },
  {
   "cell_type": "code",
   "execution_count": null,
   "id": "2df3d5cd-1814-4027-a868-2dd587cd4fa0",
   "metadata": {},
   "outputs": [],
   "source": [
    "rng = np.random.default_rng()"
   ]
  },
  {
   "cell_type": "code",
   "execution_count": null,
   "id": "b5df1aff-e35a-4e13-93cb-1e4561c2a92a",
   "metadata": {},
   "outputs": [],
   "source": [
    "mosaic = [ [ 'Z', ], [ 'T', ], [ 'nH', ], ]"
   ]
  },
  {
   "cell_type": "code",
   "execution_count": null,
   "id": "91fca7db-b671-442d-91df-05b92a5de137",
   "metadata": {},
   "outputs": [],
   "source": []
  },
  {
   "cell_type": "code",
   "execution_count": null,
   "id": "70e011db-ddb9-4c75-b5c0-65971d0fd837",
   "metadata": {},
   "outputs": [],
   "source": []
  },
  {
   "cell_type": "code",
   "execution_count": null,
   "id": "9a9927a1-5775-43f9-be84-d5f0df116797",
   "metadata": {
    "tags": []
   },
   "outputs": [],
   "source": [
    "n_rows = len( mosaic )\n",
    "n_cols = len( mosaic[0] )\n",
    "panel_width = matplotlib.rcParams['figure.figsize'][0]\n",
    "fig = plt.figure( figsize=(n_cols*panel_width, n_rows*panel_width/2.), facecolor='w' )\n",
    "\n",
    "main_ax = plt.gca()\n",
    "main_ax.tick_params( left=False, labelleft=False, bottom=False, labelbottom=False )\n",
    "for spine in main_ax.spines.values():\n",
    "    spine.set_visible( False )\n",
    "\n",
    "ax_dict = fig.subplot_mosaic(\n",
    "    mosaic,\n",
    "    gridspec_kw = { 'hspace': 0.15, },\n",
    ")\n",
    "\n",
    "# General changes\n",
    "for ax_key, ax in ax_dict.items():\n",
    "    # ylim = helpers.lims[ax_key]\n",
    "    # if helpers.logscale[ax_key]:\n",
    "    #     ylim = np.log10( ylim )\n",
    "    \n",
    "    ax.set_xlim( -0.5, 2.5 )\n",
    "    # ax.set_ylim( ylim )\n",
    "    \n",
    "    ax.set_xticks( [ 0, 1, 2 ] )\n",
    "    ax.set_xticklabels( [ 'sample0', 'sample1', 'sample2' ], fontname='monospace' )\n",
    "    \n",
    "    if ax.get_subplotspec().is_first_row():\n",
    "        top_ax = ax.twiny()\n",
    "        top_ax.set_xlim( ax.get_xlim() )\n",
    "        top_ax.set_xticks( [ 0, 1, 2 ] )\n",
    "        top_ax.set_xticklabels( [ 'uniform clouds', 'multiple uniform clouds', 'cloud distribution' ], fontsize='x-small' )\n",
    "        top_ax.tick_params( top=False, pad=0 )\n",
    "    \n",
    "    ax.tick_params( bottom=False, pad=0 )\n",
    "    \n",
    "    ax.set_ylabel( helpers.property_labels[ax_key] )\n",
    "    \n",
    "xs_set = False\n",
    "for ax_key, ax in ax_dict.items():\n",
    "    \n",
    "    ########################################################\n",
    "    # sample0\n",
    "    ########################################################\n",
    "    \n",
    "    # Plot sample0 averages\n",
    "    ys = summary['sample0']['source'][ax_key]\n",
    "    if not xs_set:\n",
    "        # xs = rng.normal( 0, pm['jitter_width'], ys.size )\n",
    "        xs = np.linspace( -pm['jitter_width'], pm['jitter_width'], ys.size )\n",
    "        xs_set = True\n",
    "    s = ax.scatter(\n",
    "        xs,\n",
    "        ys,\n",
    "        s = plt.rcParams['lines.markersize'] * 2,\n",
    "        color = 'k',\n",
    "        label = 'source',\n",
    "    )\n",
    "    \n",
    "    # Plot sample0 blinded averages\n",
    "    ys = summary['sample0']['estimated']['blinded']['mle'][ax_key]\n",
    "\n",
    "    s = ax.scatter(\n",
    "        xs,\n",
    "        ys,\n",
    "        s = plt.rcParams['lines.markersize'],\n",
    "        color = helpers.blinded_color,\n",
    "        label = 'estimated\\u2014blinded',\n",
    "    )\n",
    "    \n",
    "    # Plot sample0 revised averages\n",
    "    ys = summary['sample0']['estimated']['revised']['mle'][ax_key]\n",
    "    s = ax.scatter(\n",
    "        xs,\n",
    "        ys,\n",
    "        s = plt.rcParams['lines.markersize'],\n",
    "        color = helpers.revised_color,\n",
    "        label = 'estimated\\u2014revised',\n",
    "    )\n",
    "    \n",
    "    # Draw connecting lines\n",
    "    for i, x in enumerate( xs ):\n",
    "        ys = np.array([\n",
    "            summary['sample0']['source'][ax_key][i],\n",
    "            summary['sample0']['estimated']['blinded']['mle'][ax_key][i],\n",
    "            summary['sample0']['estimated']['revised']['mle'][ax_key][i],\n",
    "        ])\n",
    "        ax.plot(\n",
    "            [ x, x ],\n",
    "            [ ys.min(), ys.max() ],\n",
    "            color = '0.8',\n",
    "            zorder = -10,\n",
    "            linewidth = 1,\n",
    "        )\n",
    "        \n",
    "    if ax.get_subplotspec().is_first_row():\n",
    "        ax.legend(\n",
    "            loc = 'upper left',\n",
    "            prop = { 'size': 6, },\n",
    "            edgecolor = 'none',\n",
    "        )\n",
    "        \n",
    "    ########################################################\n",
    "    # sample1\n",
    "    ########################################################\n",
    "    \n",
    "    xs1 = xs + 1.\n",
    "    \n",
    "    # Actual values\n",
    "    ys_dict = summary['sample1']['source'][ax_key]\n",
    "    ys_actual = []\n",
    "    xs_for_clouds = []\n",
    "    for j, sl in enumerate( ys_dict.keys_array() ):\n",
    "        ys_sl = ys_dict[sl]\n",
    "        ys_actual.append( ys_sl )\n",
    "        xs_for_clouds += [ xs1[j], ] * len(ys_sl )\n",
    "    ax.scatter(\n",
    "        np.array( xs_for_clouds ),\n",
    "        np.concatenate( ys_actual ),\n",
    "        s = plt.rcParams['lines.markersize'] * 2,\n",
    "        color = 'k',\n",
    "    )\n",
    "    \n",
    "    # Estimates\n",
    "    ys_dict = summary['sample1']['estimated']['maximum likelihood estimate'][ax_key]\n",
    "    ys_estimated = []\n",
    "    xs_for_clouds = []\n",
    "    for j, sl in enumerate( ys_dict.keys_array() ):\n",
    "        ys_sl = ys_dict[sl].array()\n",
    "        ys_estimated.append( ys_sl )\n",
    "        xs_for_clouds += [ xs1[j], ] * len( ys_sl )\n",
    "    ax.scatter(\n",
    "        np.array( xs_for_clouds ),\n",
    "        np.concatenate( ys_estimated ),\n",
    "        s = plt.rcParams['lines.markersize'],\n",
    "        color = helpers.blinded_color,\n",
    "    )\n",
    "    \n",
    "    # Draw connecting lines\n",
    "    for i, x in enumerate( xs1 ):\n",
    "        \n",
    "        # Throw out the one exception that's already discussed in the text.\n",
    "        # The really hot, low-metallicity component in sightline 50\n",
    "        if i == 6:\n",
    "            ys_actual[i] = np.array([ ys_actual[i][0], ys_actual[i][2] ])\n",
    "        \n",
    "        # Find closest matches\n",
    "        diff_arr = np.abs( ys_actual[i][:,np.newaxis] - ys_estimated[i] )\n",
    "        inds_matched = np.argmin( diff_arr, axis=1 )\n",
    "\n",
    "        for j, y_actual in enumerate( ys_actual[i] ):\n",
    "            ax.plot(\n",
    "                [ x, x ],\n",
    "                [ y_actual, ys_estimated[i][inds_matched[j]] ],\n",
    "                color = '0.8',\n",
    "                zorder = -10,\n",
    "                linewidth = 1,\n",
    "            )\n",
    "            \n",
    "    ########################################################\n",
    "    # sample1\n",
    "    ########################################################\n",
    "    \n",
    "    xs2 = xs + 2."
   ]
  },
  {
   "cell_type": "code",
   "execution_count": null,
   "id": "e16851c2-98f2-4fad-9122-e4cd7aa5a708",
   "metadata": {},
   "outputs": [],
   "source": [
    "summary['sample1']"
   ]
  },
  {
   "cell_type": "code",
   "execution_count": null,
   "id": "492aa71e-9d0f-4ef8-924d-674f1b158099",
   "metadata": {},
   "outputs": [],
   "source": []
  }
 ],
 "metadata": {
  "kernelspec": {
   "display_name": "Python 3 (ipykernel)",
   "language": "python",
   "name": "python3"
  },
  "language_info": {
   "codemirror_mode": {
    "name": "ipython",
    "version": 3
   },
   "file_extension": ".py",
   "mimetype": "text/x-python",
   "name": "python",
   "nbconvert_exporter": "python",
   "pygments_lexer": "ipython3",
   "version": "3.10.4"
  }
 },
 "nbformat": 4,
 "nbformat_minor": 5
}
