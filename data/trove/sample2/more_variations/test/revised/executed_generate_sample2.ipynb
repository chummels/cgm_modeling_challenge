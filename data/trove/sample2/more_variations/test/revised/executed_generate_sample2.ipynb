{
 "cells": [
  {
   "cell_type": "code",
   "execution_count": 1,
   "metadata": {
    "execution": {
     "iopub.execute_input": "2022-02-08T20:28:38.773888Z",
     "iopub.status.busy": "2022-02-08T20:28:38.773110Z",
     "iopub.status.idle": "2022-02-08T20:28:39.370506Z",
     "shell.execute_reply": "2022-02-08T20:28:39.370892Z"
    }
   },
   "outputs": [],
   "source": [
    "import copy\n",
    "import glob\n",
    "import h5py\n",
    "import itertools\n",
    "import numpy as np\n",
    "import os\n",
    "import pandas as pd\n",
    "import scipy\n",
    "import scipy.interpolate\n",
    "import tqdm"
   ]
  },
  {
   "cell_type": "code",
   "execution_count": 2,
   "metadata": {
    "execution": {
     "iopub.execute_input": "2022-02-08T20:28:39.374075Z",
     "iopub.status.busy": "2022-02-08T20:28:39.373510Z",
     "iopub.status.idle": "2022-02-08T20:28:39.375509Z",
     "shell.execute_reply": "2022-02-08T20:28:39.375894Z"
    }
   },
   "outputs": [],
   "source": [
    "import contextlib\n",
    "import io\n",
    "import sys"
   ]
  },
  {
   "cell_type": "code",
   "execution_count": 3,
   "metadata": {
    "execution": {
     "iopub.execute_input": "2022-02-08T20:28:39.378978Z",
     "iopub.status.busy": "2022-02-08T20:28:39.378410Z",
     "iopub.status.idle": "2022-02-08T20:28:40.096717Z",
     "shell.execute_reply": "2022-02-08T20:28:40.097121Z"
    }
   },
   "outputs": [],
   "source": [
    "import matplotlib\n",
    "import matplotlib.pyplot as plt\n",
    "import matplotlib.gridspec as gridspec\n",
    "import palettable"
   ]
  },
  {
   "cell_type": "code",
   "execution_count": 4,
   "metadata": {
    "execution": {
     "iopub.execute_input": "2022-02-08T20:28:40.100477Z",
     "iopub.status.busy": "2022-02-08T20:28:40.099928Z",
     "iopub.status.idle": "2022-02-08T20:28:42.934675Z",
     "shell.execute_reply": "2022-02-08T20:28:42.935181Z"
    }
   },
   "outputs": [],
   "source": [
    "import yt\n",
    "import trident\n",
    "import unyt as u"
   ]
  },
  {
   "cell_type": "code",
   "execution_count": 5,
   "metadata": {
    "execution": {
     "iopub.execute_input": "2022-02-08T20:28:42.939075Z",
     "iopub.status.busy": "2022-02-08T20:28:42.938418Z",
     "iopub.status.idle": "2022-02-08T20:28:43.522520Z",
     "shell.execute_reply": "2022-02-08T20:28:43.523125Z"
    }
   },
   "outputs": [],
   "source": [
    "import kalepy as kale"
   ]
  },
  {
   "cell_type": "code",
   "execution_count": 6,
   "metadata": {
    "execution": {
     "iopub.execute_input": "2022-02-08T20:28:43.527226Z",
     "iopub.status.busy": "2022-02-08T20:28:43.526579Z",
     "iopub.status.idle": "2022-02-08T20:28:43.535327Z",
     "shell.execute_reply": "2022-02-08T20:28:43.535819Z"
    }
   },
   "outputs": [],
   "source": [
    "import verdict\n",
    "import trove"
   ]
  },
  {
   "cell_type": "markdown",
   "metadata": {},
   "source": [
    "# Parameters"
   ]
  },
  {
   "cell_type": "code",
   "execution_count": 7,
   "metadata": {
    "execution": {
     "iopub.execute_input": "2022-02-08T20:28:43.539746Z",
     "iopub.status.busy": "2022-02-08T20:28:43.539124Z",
     "iopub.status.idle": "2022-02-08T20:28:43.544663Z",
     "shell.execute_reply": "2022-02-08T20:28:43.545119Z"
    }
   },
   "outputs": [],
   "source": [
    "# Load parameters\n",
    "pm = trove.link_params_to_config(\n",
    "    '/Users/zhafen/repos/cgm_modeling_challenge/sample2.trove',\n",
    "    script_id = 'nb.1',\n",
    ")"
   ]
  },
  {
   "cell_type": "code",
   "execution_count": 8,
   "metadata": {
    "execution": {
     "iopub.execute_input": "2022-02-08T20:28:43.548943Z",
     "iopub.status.busy": "2022-02-08T20:28:43.548208Z",
     "iopub.status.idle": "2022-02-08T20:28:43.550770Z",
     "shell.execute_reply": "2022-02-08T20:28:43.551231Z"
    }
   },
   "outputs": [
    {
     "name": "stdout",
     "output_type": "stream",
     "text": [
      "revised test\n"
     ]
    }
   ],
   "source": [
    "print( pm['variation'], pm['global_variation'] )"
   ]
  },
  {
   "cell_type": "code",
   "execution_count": 9,
   "metadata": {
    "execution": {
     "iopub.execute_input": "2022-02-08T20:28:43.555712Z",
     "iopub.status.busy": "2022-02-08T20:28:43.555075Z",
     "iopub.status.idle": "2022-02-08T20:28:43.557076Z",
     "shell.execute_reply": "2022-02-08T20:28:43.557565Z"
    }
   },
   "outputs": [],
   "source": [
    "# Analysis parameters\n",
    "seed = pm['seed']\n",
    "np.random.seed( seed )\n",
    "rng = np.random.default_rng( seed )\n",
    "load_existing_sightlines = True\n",
    "verbose = False"
   ]
  },
  {
   "cell_type": "code",
   "execution_count": 10,
   "metadata": {
    "execution": {
     "iopub.execute_input": "2022-02-08T20:28:43.561797Z",
     "iopub.status.busy": "2022-02-08T20:28:43.561069Z",
     "iopub.status.idle": "2022-02-08T20:28:43.562941Z",
     "shell.execute_reply": "2022-02-08T20:28:43.563388Z"
    }
   },
   "outputs": [],
   "source": [
    "extracted_sightlines_dir = './data/Mandelker2020'"
   ]
  },
  {
   "cell_type": "code",
   "execution_count": 11,
   "metadata": {
    "execution": {
     "iopub.execute_input": "2022-02-08T20:28:43.567537Z",
     "iopub.status.busy": "2022-02-08T20:28:43.566895Z",
     "iopub.status.idle": "2022-02-08T20:28:43.569033Z",
     "shell.execute_reply": "2022-02-08T20:28:43.569515Z"
    }
   },
   "outputs": [],
   "source": [
    "ray_data_dir = os.path.join( pm['data_dir'], 'rays' )\n",
    "os.makedirs( ray_data_dir, exist_ok=True )\n",
    "spectra_data_dir = os.path.join( pm['data_dir'], 'spectra' )\n",
    "os.makedirs( spectra_data_dir, exist_ok=True )"
   ]
  },
  {
   "cell_type": "code",
   "execution_count": 12,
   "metadata": {
    "execution": {
     "iopub.execute_input": "2022-02-08T20:28:43.573044Z",
     "iopub.status.busy": "2022-02-08T20:28:43.572442Z",
     "iopub.status.idle": "2022-02-08T20:28:43.574254Z",
     "shell.execute_reply": "2022-02-08T20:28:43.574686Z"
    }
   },
   "outputs": [],
   "source": [
    "redshift = pm['redshift']"
   ]
  },
  {
   "cell_type": "code",
   "execution_count": 13,
   "metadata": {
    "execution": {
     "iopub.execute_input": "2022-02-08T20:28:43.579421Z",
     "iopub.status.busy": "2022-02-08T20:28:43.578819Z",
     "iopub.status.idle": "2022-02-08T20:28:43.580565Z",
     "shell.execute_reply": "2022-02-08T20:28:43.580986Z"
    }
   },
   "outputs": [],
   "source": [
    "# Spectra parameters\n",
    "ions = [\n",
    "    'H I',\n",
    "    'O I',\n",
    "    'C II',\n",
    "    'C III',\n",
    "    'C IV',\n",
    "    'N II',\n",
    "    'N III',\n",
    "    'Si II',\n",
    "    'Si III',\n",
    "    'Si IV',\n",
    "    'N V',\n",
    "    'O VI',\n",
    "    'Mg II'\n",
    "]\n",
    "fields = [\n",
    "    'H_p0_number_density', \n",
    "    'O_p0_number_density',\n",
    "    'C_p1_number_density',\n",
    "    'C_p2_number_density',\n",
    "    'C_p3_number_density',\n",
    "    'N_p1_number_density',\n",
    "    'N_p2_number_density',\n",
    "    'Si_p1_number_density',\n",
    "    'Si_p2_number_density',\n",
    "    'Si_p3_number_density',\n",
    "    'N_p4_number_density',\n",
    "    'O_p5_number_density',\n",
    "    'Mg_p1_number_density'\n",
    "]\n",
    "snr = 30"
   ]
  },
  {
   "cell_type": "code",
   "execution_count": 14,
   "metadata": {
    "execution": {
     "iopub.execute_input": "2022-02-08T20:28:43.584504Z",
     "iopub.status.busy": "2022-02-08T20:28:43.583913Z",
     "iopub.status.idle": "2022-02-08T20:28:43.585752Z",
     "shell.execute_reply": "2022-02-08T20:28:43.586204Z"
    }
   },
   "outputs": [],
   "source": [
    "bonus_ions = pm['bonus_ions']\n",
    "bonus_ions_lsf_fwhm = pm['bonus_ions_lsf_fwhm']"
   ]
  },
  {
   "cell_type": "markdown",
   "metadata": {
    "tags": []
   },
   "source": [
    "# Setup Spectrum Generator and Line Database"
   ]
  },
  {
   "cell_type": "code",
   "execution_count": 15,
   "metadata": {
    "execution": {
     "iopub.execute_input": "2022-02-08T20:28:43.589871Z",
     "iopub.status.busy": "2022-02-08T20:28:43.589270Z",
     "iopub.status.idle": "2022-02-08T20:28:44.742063Z",
     "shell.execute_reply": "2022-02-08T20:28:44.742409Z"
    }
   },
   "outputs": [
    {
     "name": "stdout",
     "output_type": "stream",
     "text": [
      "read_sets: Using set file -- \n",
      "  /Users/zhafen/repos/linetools/linetools/lists/sets/llist_v1.3.ascii\n",
      "Loading abundances from Asplund2009\n",
      "Abundances are relative by number on a logarithmic scale with H=12\n"
     ]
    }
   ],
   "source": [
    "# Objects for use\n",
    "ldb = trident.LineDatabase(None)"
   ]
  },
  {
   "cell_type": "code",
   "execution_count": 16,
   "metadata": {
    "execution": {
     "iopub.execute_input": "2022-02-08T20:28:44.745873Z",
     "iopub.status.busy": "2022-02-08T20:28:44.745382Z",
     "iopub.status.idle": "2022-02-08T20:28:44.750885Z",
     "shell.execute_reply": "2022-02-08T20:28:44.751290Z"
    }
   },
   "outputs": [
    {
     "name": "stderr",
     "output_type": "stream",
     "text": [
      "yt : [INFO     ] 2022-02-08 12:28:44,744 Setting instrument to COS-G130M\n"
     ]
    },
    {
     "name": "stderr",
     "output_type": "stream",
     "text": [
      "yt : [INFO     ] 2022-02-08 12:28:44,746 Setting instrument to COS-G160M\n"
     ]
    }
   ],
   "source": [
    "sg_cos = trident.SpectrumGenerator('COS-G130M', line_database=ldb )\n",
    "sg_cos_160 = trident.SpectrumGenerator('COS-G160M', line_database=ldb )"
   ]
  },
  {
   "cell_type": "code",
   "execution_count": 17,
   "metadata": {
    "execution": {
     "iopub.execute_input": "2022-02-08T20:28:44.755457Z",
     "iopub.status.busy": "2022-02-08T20:28:44.754984Z",
     "iopub.status.idle": "2022-02-08T20:28:44.757940Z",
     "shell.execute_reply": "2022-02-08T20:28:44.758274Z"
    }
   },
   "outputs": [
    {
     "name": "stderr",
     "output_type": "stream",
     "text": [
      "yt : [INFO     ] 2022-02-08 12:28:44,753 Setting instrument to Custom\n"
     ]
    }
   ],
   "source": [
    "# Spectrum Generator for Mg II from ground\n",
    "lambda_mg = ldb.select_lines( 'Mg', 'II', 2796 )[0].wavelength * ( 1. + redshift )\n",
    "sg_mg = trident.SpectrumGenerator(\n",
    "    lambda_min = lambda_mg - 30.,\n",
    "    lambda_max = lambda_mg + 30.,\n",
    "    dlambda = 0.01,\n",
    "    line_database = ldb,\n",
    ")\n",
    "lambda_mg *= u.angstrom"
   ]
  },
  {
   "cell_type": "code",
   "execution_count": 18,
   "metadata": {
    "execution": {
     "iopub.execute_input": "2022-02-08T20:28:44.761154Z",
     "iopub.status.busy": "2022-02-08T20:28:44.760684Z",
     "iopub.status.idle": "2022-02-08T20:28:44.762357Z",
     "shell.execute_reply": "2022-02-08T20:28:44.762763Z"
    }
   },
   "outputs": [],
   "source": [
    "spectrum_sg_tags = [ '_G130', '_G160', '_MgII']\n",
    "sg_lambdas = [ None, None, lambda_mg ]"
   ]
  },
  {
   "cell_type": "code",
   "execution_count": 19,
   "metadata": {
    "execution": {
     "iopub.execute_input": "2022-02-08T20:28:44.767244Z",
     "iopub.status.busy": "2022-02-08T20:28:44.766760Z",
     "iopub.status.idle": "2022-02-08T20:28:44.789930Z",
     "shell.execute_reply": "2022-02-08T20:28:44.790311Z"
    }
   },
   "outputs": [
    {
     "name": "stderr",
     "output_type": "stream",
     "text": [
      "\r",
      "       0%|          | 0/3 [00:00<?, ?it/s]"
     ]
    },
    {
     "name": "stderr",
     "output_type": "stream",
     "text": [
      "\r",
      "     100%|██████████| 3/3 [00:00<00:00, 388.35it/s]"
     ]
    },
    {
     "name": "stderr",
     "output_type": "stream",
     "text": [
      "\n"
     ]
    }
   ],
   "source": [
    "sgs_bonus_ions = []\n",
    "sgs_bonus_ions_tags = []\n",
    "for element, ion_state in tqdm.tqdm( bonus_ions, bar_format=pm['bar_format'] ):\n",
    "    lines = ldb.select_lines( element, ion_state )\n",
    "    i_line = np.argmax([ _.f_value for _ in lines ])\n",
    "    lambda_ion = lines[i_line].wavelength * ( 1. + redshift )\n",
    "    sg_ion = trident.SpectrumGenerator(\n",
    "        lambda_min = lambda_ion - 40.,\n",
    "        lambda_max = lambda_ion + 40.,\n",
    "        dlambda = 0.01,\n",
    "        line_database = ldb,\n",
    "    )\n",
    "    sgs_bonus_ions.append( sg_ion )\n",
    "    sgs_bonus_ions_tags.append( '_{}-{}-{:.1f}'.format( element, ion_state, lines[i_line].wavelength ) )\n",
    "    sg_lambdas.append( lambda_ion * u.angstrom )"
   ]
  },
  {
   "cell_type": "code",
   "execution_count": 20,
   "metadata": {
    "execution": {
     "iopub.execute_input": "2022-02-08T20:28:44.797095Z",
     "iopub.status.busy": "2022-02-08T20:28:44.796600Z",
     "iopub.status.idle": "2022-02-08T20:28:44.813665Z",
     "shell.execute_reply": "2022-02-08T20:28:44.813972Z"
    }
   },
   "outputs": [],
   "source": [
    "if pm['include_individual_HI_lines']:\n",
    "\n",
    "    # Add Hydrogen\n",
    "    lines = ldb.select_lines( 'H', 'I' )\n",
    "    for line in lines:\n",
    "        if line.wavelength < 916.:\n",
    "            continue\n",
    "        lambda_line = line.wavelength * ( 1. + redshift )\n",
    "        sg_line = trident.SpectrumGenerator(\n",
    "            lambda_min = lambda_line - 40.,\n",
    "            lambda_max = lambda_line + 40.,\n",
    "            dlambda = 0.01,\n",
    "            line_database = ldb,\n",
    "        )\n",
    "\n",
    "        sgs_bonus_ions.append( sg_line )\n",
    "        sgs_bonus_ions_tags.append( '_H-I-{:.1f}'.format( line.wavelength ) )\n",
    "        sg_lambdas.append( lambda_line * u.angstrom )"
   ]
  },
  {
   "cell_type": "code",
   "execution_count": 21,
   "metadata": {
    "execution": {
     "iopub.execute_input": "2022-02-08T20:28:44.816989Z",
     "iopub.status.busy": "2022-02-08T20:28:44.816521Z",
     "iopub.status.idle": "2022-02-08T20:28:44.818192Z",
     "shell.execute_reply": "2022-02-08T20:28:44.818640Z"
    }
   },
   "outputs": [],
   "source": [
    "sgs = [ sg_cos, sg_cos_160, sg_mg ] + sgs_bonus_ions\n",
    "spectrum_sg_tags += sgs_bonus_ions_tags"
   ]
  },
  {
   "cell_type": "code",
   "execution_count": 22,
   "metadata": {
    "execution": {
     "iopub.execute_input": "2022-02-08T20:28:44.821793Z",
     "iopub.status.busy": "2022-02-08T20:28:44.821310Z",
     "iopub.status.idle": "2022-02-08T20:28:44.823294Z",
     "shell.execute_reply": "2022-02-08T20:28:44.823707Z"
    }
   },
   "outputs": [],
   "source": [
    "# Replace error functions with versions that give small errors\n",
    "if pm['flux_error'] is not None:\n",
    "    for sg in sgs:\n",
    "        sg.error_func = lambda x: x * pm['flux_error']"
   ]
  },
  {
   "cell_type": "code",
   "execution_count": 23,
   "metadata": {
    "execution": {
     "iopub.execute_input": "2022-02-08T20:28:44.826673Z",
     "iopub.status.busy": "2022-02-08T20:28:44.826155Z",
     "iopub.status.idle": "2022-02-08T20:28:44.827714Z",
     "shell.execute_reply": "2022-02-08T20:28:44.828152Z"
    }
   },
   "outputs": [],
   "source": [
    "# Choose lsfs\n",
    "sg_lsfs = [ None, None, 7., ] + [ bonus_ions_lsf_fwhm, ] * len( sgs_bonus_ions )"
   ]
  },
  {
   "cell_type": "code",
   "execution_count": 24,
   "metadata": {
    "execution": {
     "iopub.execute_input": "2022-02-08T20:28:44.833923Z",
     "iopub.status.busy": "2022-02-08T20:28:44.833419Z",
     "iopub.status.idle": "2022-02-08T20:28:44.835121Z",
     "shell.execute_reply": "2022-02-08T20:28:44.835468Z"
    }
   },
   "outputs": [],
   "source": [
    "def plot_ion( sg, element, ion_state, width=6. ):\n",
    "    '''Save a plot of a particular part of the spectrum for inspection.'''\n",
    "    \n",
    "    lines = ldb.select_lines( element, ion_state )\n",
    "    \n",
    "    wavelengths = np.array([ _.wavelength for _ in lines ])\n",
    "    adjusted_wavelengths = wavelengths * ( 1 + redshift )\n",
    "    \n",
    "    data_subdir = '{}/ion_spectra/{}{}'.format( pm['data_dir'], element, ion_state, )\n",
    "    os.makedirs( data_subdir, exist_ok=True )\n",
    "    for k, lambda_a in enumerate( adjusted_wavelengths ):\n",
    "        if lambda_a - width/2. < sg.lambda_min or lambda_a + width/2 > sg.lambda_max:\n",
    "            continue\n",
    "            \n",
    "        spectrum_fp = '{}/spectrum_{:.1f}_sl{:04d}.{}'.format( data_subdir, lambda_a, i, '{}' )\n",
    "        sg.plot_spectrum(\n",
    "            spectrum_fp.format( 'png' ),\n",
    "            lambda_limits = [ lambda_a - width/2, lambda_a + width/2 ]\n",
    "        )\n",
    "        sg.save_spectrum(\n",
    "            spectrum_fp.format( 'h5' ),\n",
    "        )"
   ]
  },
  {
   "cell_type": "markdown",
   "metadata": {},
   "source": [
    "# Generate Rays and Spectra"
   ]
  },
  {
   "cell_type": "code",
   "execution_count": 25,
   "metadata": {
    "execution": {
     "iopub.execute_input": "2022-02-08T20:28:44.838406Z",
     "iopub.status.busy": "2022-02-08T20:28:44.837929Z",
     "iopub.status.idle": "2022-02-08T20:28:44.840590Z",
     "shell.execute_reply": "2022-02-08T20:28:44.840923Z"
    }
   },
   "outputs": [],
   "source": [
    "# Sightline filepaths\n",
    "sightline_fps = glob.glob( os.path.join( extracted_sightlines_dir, '*', '*' ) )"
   ]
  },
  {
   "cell_type": "code",
   "execution_count": 26,
   "metadata": {
    "execution": {
     "iopub.execute_input": "2022-02-08T20:28:44.843733Z",
     "iopub.status.busy": "2022-02-08T20:28:44.843247Z",
     "iopub.status.idle": "2022-02-08T20:28:44.844756Z",
     "shell.execute_reply": "2022-02-08T20:28:44.845091Z"
    }
   },
   "outputs": [],
   "source": [
    "# Waaaay too much output otherwise\n",
    "yt.utilities.logger.disable_stream_logging()"
   ]
  },
  {
   "cell_type": "code",
   "execution_count": 27,
   "metadata": {
    "execution": {
     "iopub.execute_input": "2022-02-08T20:28:44.862848Z",
     "iopub.status.busy": "2022-02-08T20:28:44.862265Z",
     "iopub.status.idle": "2022-02-08T21:03:43.124620Z",
     "shell.execute_reply": "2022-02-08T21:03:43.126626Z"
    }
   },
   "outputs": [
    {
     "name": "stdout",
     "output_type": "stream",
     "text": [
      "3 / 20\n"
     ]
    },
    {
     "name": "stderr",
     "output_type": "stream",
     "text": [
      "\r",
      "       0%|          | 0/19 [00:00<?, ?it/s]"
     ]
    },
    {
     "name": "stderr",
     "output_type": "stream",
     "text": [
      "\r",
      "       5%|▌         | 1/19 [00:21<06:24, 21.37s/it]"
     ]
    },
    {
     "name": "stderr",
     "output_type": "stream",
     "text": [
      "\r",
      "      11%|█         | 2/19 [00:42<06:01, 21.29s/it]"
     ]
    },
    {
     "name": "stderr",
     "output_type": "stream",
     "text": [
      "\r",
      "      16%|█▌        | 3/19 [01:03<05:35, 20.94s/it]"
     ]
    },
    {
     "name": "stderr",
     "output_type": "stream",
     "text": [
      "\r",
      "      21%|██        | 4/19 [01:24<05:14, 20.98s/it]"
     ]
    },
    {
     "name": "stderr",
     "output_type": "stream",
     "text": [
      "\r",
      "      26%|██▋       | 5/19 [01:44<04:49, 20.69s/it]"
     ]
    },
    {
     "name": "stderr",
     "output_type": "stream",
     "text": [
      "\r",
      "      32%|███▏      | 6/19 [02:04<04:25, 20.41s/it]"
     ]
    },
    {
     "name": "stderr",
     "output_type": "stream",
     "text": [
      "\r",
      "      37%|███▋      | 7/19 [02:24<04:03, 20.28s/it]"
     ]
    },
    {
     "name": "stderr",
     "output_type": "stream",
     "text": [
      "\r",
      "      42%|████▏     | 8/19 [02:43<03:40, 20.05s/it]"
     ]
    },
    {
     "name": "stderr",
     "output_type": "stream",
     "text": [
      "\r",
      "      47%|████▋     | 9/19 [03:03<03:19, 20.00s/it]"
     ]
    },
    {
     "name": "stderr",
     "output_type": "stream",
     "text": [
      "\r",
      "      53%|█████▎    | 10/19 [03:27<03:11, 21.30s/it]"
     ]
    },
    {
     "name": "stderr",
     "output_type": "stream",
     "text": [
      "\r",
      "      58%|█████▊    | 11/19 [03:54<03:02, 22.87s/it]"
     ]
    },
    {
     "name": "stderr",
     "output_type": "stream",
     "text": [
      "\r",
      "      63%|██████▎   | 12/19 [04:18<02:43, 23.38s/it]"
     ]
    },
    {
     "name": "stderr",
     "output_type": "stream",
     "text": [
      "\r",
      "      68%|██████▊   | 13/19 [04:43<02:22, 23.78s/it]"
     ]
    },
    {
     "name": "stderr",
     "output_type": "stream",
     "text": [
      "\r",
      "      74%|███████▎  | 14/19 [05:09<02:01, 24.33s/it]"
     ]
    },
    {
     "name": "stderr",
     "output_type": "stream",
     "text": [
      "\r",
      "      79%|███████▉  | 15/19 [05:37<01:42, 25.53s/it]"
     ]
    },
    {
     "name": "stderr",
     "output_type": "stream",
     "text": [
      "\r",
      "      84%|████████▍ | 16/19 [06:01<01:14, 24.96s/it]"
     ]
    },
    {
     "name": "stderr",
     "output_type": "stream",
     "text": [
      "\r",
      "      89%|████████▉ | 17/19 [06:23<00:48, 24.06s/it]"
     ]
    },
    {
     "name": "stderr",
     "output_type": "stream",
     "text": [
      "\r",
      "      95%|█████████▍| 18/19 [33:03<08:17, 497.87s/it]"
     ]
    },
    {
     "name": "stderr",
     "output_type": "stream",
     "text": [
      "\r",
      "     100%|██████████| 19/19 [34:57<00:00, 382.33s/it]"
     ]
    },
    {
     "name": "stderr",
     "output_type": "stream",
     "text": [
      "\r",
      "     100%|██████████| 19/19 [34:57<00:00, 110.37s/it]"
     ]
    },
    {
     "name": "stderr",
     "output_type": "stream",
     "text": [
      "\n"
     ]
    }
   ],
   "source": [
    "for i, sightline_fp in enumerate( sightline_fps ):\n",
    "    \n",
    "    if pm['selected_sightlines'] is not None:\n",
    "        if i not in pm['selected_sightlines']:\n",
    "            continue\n",
    "\n",
    "    print( '{} / {}'.format( i, len( sightline_fps ) ) )\n",
    "    \n",
    "    # Load data\n",
    "    columns = [ 'x', 'density', 'temperature', 'metallicity', 'velocity_los' ]\n",
    "    units = [ 'kpc', 'g/cm**3', 'K', 'Zsun', 'km/s' ]\n",
    "    ray_df = pd.read_csv( sightline_fp, sep='\\s+', names=columns )\n",
    "\n",
    "    # Convert metallicity to Zsun\n",
    "    ray_df['metallicity'] /= 0.02\n",
    "\n",
    "    # Turn into a dictionary for creating a yt dataset\n",
    "    ray_dict = {}\n",
    "    for j, key in enumerate( columns ):\n",
    "\n",
    "        # We add this separately\n",
    "        if key == 'x':\n",
    "            continue\n",
    "\n",
    "        ray_dict[key] = yt.YTArray( ray_df[key].values, units[j] )\n",
    "\n",
    "    # Get sightline location in space\n",
    "    locstring = os.path.split( os.path.split( sightline_fp )[0] )[1]\n",
    "    _, x1, y1, z1, _, x2, y2, z2 = locstring.split( '_' )\n",
    "    \n",
    "    # Check order\n",
    "    if x1 > x2:\n",
    "        x1, x2 = x2, x1\n",
    "    if y1 > y2:\n",
    "        y1, y2 = y2, y1\n",
    "    if z1 > z2:\n",
    "        z1, z2 = z2, z1\n",
    "    \n",
    "    # Forma\n",
    "    start = np.array([ x1, y1, z1 ]).astype( float )\n",
    "    end = np.array([ x2, y2, z2 ]).astype( float )\n",
    "\n",
    "    # Code to physical conversion\n",
    "    length_code_units = np.linalg.norm( end - start )\n",
    "    length_kpc = ray_df['x'].values[-1] - ray_df['x'].values[0]\n",
    "    position_code_units_to_kpc = length_kpc / length_code_units\n",
    "\n",
    "    # Add dl\n",
    "    dl = ray_df['x'][1] - ray_df['x'][0]\n",
    "    # ray_dict['dl'] = dl * u.kpc\n",
    "    ray_dict['dl'] = yt.YTArray(\n",
    "        np.full( ray_df['x'].shape, dl ),\n",
    "        'kpc',\n",
    "    )\n",
    "\n",
    "    # Add location parameters\n",
    "    for j, key in enumerate( [ 'x', 'y', 'z' ]):\n",
    "        ray_dict[key] = yt.YTArray(\n",
    "            np.linspace( start[j], end[j], ray_df['x'].size ) * position_code_units_to_kpc,\n",
    "            'kpc',\n",
    "        )\n",
    "        dxi_value = ray_dict[key][1] - ray_dict[key][0]\n",
    "        ray_dict['d' + key] = yt.YTArray(\n",
    "            np.full( ray_dict[key].shape, dxi_value ),\n",
    "            'kpc',\n",
    "        )\n",
    "\n",
    "    # Add redshift parameters\n",
    "    ray_dict['redshift'] = np.full( ray_dict['density'].shape, redshift )\n",
    "    z_vel = np.sqrt( ( 1 + ray_dict['velocity_los'] / u.c) / ( 1 - ray_dict['velocity_los'] / u.c) ) - 1.\n",
    "    ray_dict['redshift_eff'] = ( 1. + redshift )*( 1. + z_vel ) - 1.\n",
    "\n",
    "    # Other needed terms\n",
    "    extra_attrs = {\"data_type\": \"yt_light_ray\", \"dimensionality\": 3}\n",
    "    field_types = dict([(field, \"grid\") for field in ray_dict.keys()])\n",
    "\n",
    "    # Format dataset dict\n",
    "    ds = {\n",
    "        \"current_time\": 0.,\n",
    "        \"current_redshift\": 0.,\n",
    "        \"cosmological_simulation\": 0.,\n",
    "        \"domain_left_edge\": np.array([ 0., 0., 0. ]) * position_code_units_to_kpc * u.kpc,\n",
    "        \"domain_right_edge\": np.array([ 1., 1., 1. ]) * position_code_units_to_kpc * u.kpc,\n",
    "        \"periodicity\": [True]*3,\n",
    "    }\n",
    "\n",
    "    # Save as a dataset\n",
    "    ray_filename = os.path.join( ray_data_dir, 'ray_{:03d}.h5'.format( i ) )\n",
    "    yt.save_as_dataset(\n",
    "        ds,\n",
    "        ray_filename,\n",
    "        ray_dict,\n",
    "        field_types = field_types,\n",
    "        extra_attrs = extra_attrs,\n",
    "    )\n",
    "    \n",
    "    # Make spectra only for selected sightlines\n",
    "    if i not in pm['selected_sightlines']:\n",
    "        continue\n",
    "\n",
    "    # Reload\n",
    "    ray = yt.load( ray_filename )\n",
    "\n",
    "    # temporary fix for yt-4.0 ytdata selection issue\n",
    "    ray.domain_left_edge = ray.domain_left_edge.to('code_length')\n",
    "    ray.domain_right_edge = ray.domain_right_edge.to('code_length')\n",
    "\n",
    "    trident.add_ion_fields(ray, ions=ions, line_database=ldb)\n",
    "\n",
    "    # Loop through spectra generators\n",
    "    for m, sg in enumerate( tqdm.tqdm( sgs, bar_format=pm['bar_format'] ) ):\n",
    "        \n",
    "        sg = copy.copy( sg )\n",
    "\n",
    "        # Without the redirection the logging may still happen despite asking it not to (nicely).... Not sure why\n",
    "        f = io.StringIO()\n",
    "        with contextlib.redirect_stderr( f ):\n",
    "            # Make the spectrum\n",
    "            sg.make_spectrum( ray, lines=ions, store_observables=True, min_tau=1e-4 )\n",
    "            \n",
    "        # Plot individual ions for inspection\n",
    "        for ion in ions:\n",
    "            plot_ion( sg, *ion.split() )\n",
    "            \n",
    "        # LSF\n",
    "        if pm['use_avg_lsf']:\n",
    "            sg.apply_lsf( filename='avg_COS.txt' ) \n",
    "        else:\n",
    "            lsf = sg_lsfs[m]\n",
    "            if lsf is None:\n",
    "                sg.apply_lsf()\n",
    "            else:\n",
    "                fwhm_v = lsf * u.km / u.s\n",
    "                fwhm_lambda = sg_lambdas[m] * fwhm_v / u.c\n",
    "                width_lambda = fwhm_lambda / ( 2 * np.sqrt( 2. * np.log( 2 ) ) )\n",
    "                bin_width = width_lambda / sg.dlambda\n",
    "                sg.apply_lsf( function='gaussian', width=bin_width )\n",
    "        \n",
    "        # Noise\n",
    "        sg.add_gaussian_noise( snr )\n",
    "\n",
    "        # Save\n",
    "        sg.save_spectrum(\n",
    "            '{}/spectrum{}_sl{:04d}.h5'.format( spectra_data_dir, spectrum_sg_tags[m], i )\n",
    "        )\n",
    "        sg.plot_spectrum(\n",
    "            '{}/spectrum{}_sl{:04d}.png'.format( spectra_data_dir, spectrum_sg_tags[m], i )\n",
    "        )"
   ]
  },
  {
   "cell_type": "code",
   "execution_count": 28,
   "metadata": {
    "execution": {
     "iopub.execute_input": "2022-02-08T21:03:43.156694Z",
     "iopub.status.busy": "2022-02-08T21:03:43.133517Z",
     "iopub.status.idle": "2022-02-08T21:03:47.808894Z",
     "shell.execute_reply": "2022-02-08T21:03:47.810711Z"
    }
   },
   "outputs": [
    {
     "name": "stderr",
     "output_type": "stream",
     "text": [
      "\r",
      "       0%|          | 0/20 [00:00<?, ?it/s]"
     ]
    },
    {
     "name": "stderr",
     "output_type": "stream",
     "text": [
      "\r",
      "      20%|██        | 4/20 [00:04<00:18,  1.16s/it]"
     ]
    },
    {
     "name": "stderr",
     "output_type": "stream",
     "text": [
      "\r",
      "     100%|██████████| 20/20 [00:04<00:00,  4.31it/s]"
     ]
    },
    {
     "name": "stderr",
     "output_type": "stream",
     "text": [
      "\n"
     ]
    }
   ],
   "source": [
    "# Plot ray properties\n",
    "for i, sightline_fp in enumerate( tqdm.tqdm( sightline_fps, bar_format=pm['bar_format'] ) ):\n",
    "    \n",
    "    if pm['selected_sightlines'] is not None:\n",
    "        if i not in pm['selected_sightlines']:\n",
    "            continue\n",
    "\n",
    "    # Load data\n",
    "    columns = [ 'x', 'density', 'temperature', 'metallicity', 'velocity_los' ]\n",
    "    units = [ 'kpc', 'g/cm**3', 'K', 'Zsun', 'km/s' ]\n",
    "    ray_df = pd.read_csv( sightline_fp, sep='\\s+', names=columns )\n",
    "\n",
    "    # Convert metallicity to Zsun\n",
    "    ray_df['metallicity'] /= 0.02\n",
    "    \n",
    "    # Create a column density column\n",
    "    ray_df['column_density'] = (\n",
    "        yt.YTArray( ray_df['density'].values, 'g/cm**3' ) *\n",
    "        ( ray_df['x'][1] - ray_df['x'][0] ) * u.kpc\n",
    "    ).to( 'mp/cm**2.' )\n",
    "    columns.append( 'column_density' )\n",
    "    units.append( 'mp/cm**2' )\n",
    "\n",
    "    # Plot\n",
    "    y_values = columns[1:]\n",
    "    n_rows = len( y_values )\n",
    "    fig = plt.figure( figsize=(12, 6*n_rows), facecolor='w' )\n",
    "    ax = plt.gca()\n",
    "\n",
    "    gs = gridspec.GridSpec(n_rows,1)\n",
    "\n",
    "    for j, key in enumerate( columns[1:] ):\n",
    "        ax = plt.subplot( gs[j,:] )\n",
    "\n",
    "        ax.plot(\n",
    "            ray_df['x'],\n",
    "            ray_df[key],\n",
    "            color = 'k',\n",
    "            linewidth = 3,\n",
    "        )\n",
    "\n",
    "        if key != 'velocity_los':\n",
    "            ax.set_yscale( 'log' )\n",
    "\n",
    "        ax.set_ylabel( '{} [{}]'.format( key, units[j+1]), fontsize=22 )\n",
    "        ax.set_xlabel( 'x [kpc]', fontsize=22 )\n",
    "\n",
    "        ax.set_xlim( ray_df['x'].min(), ray_df['x'].max() )\n",
    "\n",
    "        ax.tick_params(\n",
    "            labelsize = 14,\n",
    "            size = 10,\n",
    "            width = 2,\n",
    "        )\n",
    "        ax.tick_params(\n",
    "            which = 'minor',\n",
    "            size = 5,\n",
    "            width = 1.5,\n",
    "        )\n",
    "\n",
    "    savefile = os.path.join( pm['data_dir'], 'rays', 'ray_{:03d}.png'.format( i ) )\n",
    "    plt.savefig(\n",
    "        savefile,\n",
    "        bbox_inches = 'tight',\n",
    "    )\n",
    "    \n",
    "    plt.close()"
   ]
  }
 ],
 "metadata": {
  "kernelspec": {
   "display_name": "Python 3 (ipykernel)",
   "language": "python",
   "name": "python3"
  },
  "language_info": {
   "codemirror_mode": {
    "name": "ipython",
    "version": 3
   },
   "file_extension": ".py",
   "mimetype": "text/x-python",
   "name": "python",
   "nbconvert_exporter": "python",
   "pygments_lexer": "ipython3",
   "version": "3.9.7"
  }
 },
 "nbformat": 4,
 "nbformat_minor": 4
}
