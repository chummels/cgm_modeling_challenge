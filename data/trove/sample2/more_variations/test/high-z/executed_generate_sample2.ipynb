{
 "cells": [
  {
   "cell_type": "code",
   "execution_count": 1,
   "metadata": {
    "execution": {
     "iopub.execute_input": "2022-02-08T21:03:52.842633Z",
     "iopub.status.busy": "2022-02-08T21:03:52.840980Z",
     "iopub.status.idle": "2022-02-08T21:03:54.499588Z",
     "shell.execute_reply": "2022-02-08T21:03:54.501317Z"
    }
   },
   "outputs": [],
   "source": [
    "import copy\n",
    "import glob\n",
    "import h5py\n",
    "import itertools\n",
    "import numpy as np\n",
    "import os\n",
    "import pandas as pd\n",
    "import scipy\n",
    "import scipy.interpolate\n",
    "import tqdm"
   ]
  },
  {
   "cell_type": "code",
   "execution_count": 2,
   "metadata": {
    "execution": {
     "iopub.execute_input": "2022-02-08T21:03:54.511637Z",
     "iopub.status.busy": "2022-02-08T21:03:54.509985Z",
     "iopub.status.idle": "2022-02-08T21:03:54.514478Z",
     "shell.execute_reply": "2022-02-08T21:03:54.516137Z"
    }
   },
   "outputs": [],
   "source": [
    "import contextlib\n",
    "import io\n",
    "import sys"
   ]
  },
  {
   "cell_type": "code",
   "execution_count": 3,
   "metadata": {
    "execution": {
     "iopub.execute_input": "2022-02-08T21:03:54.526291Z",
     "iopub.status.busy": "2022-02-08T21:03:54.524685Z",
     "iopub.status.idle": "2022-02-08T21:03:56.658147Z",
     "shell.execute_reply": "2022-02-08T21:03:56.659313Z"
    }
   },
   "outputs": [],
   "source": [
    "import matplotlib\n",
    "import matplotlib.pyplot as plt\n",
    "import matplotlib.gridspec as gridspec\n",
    "import palettable"
   ]
  },
  {
   "cell_type": "code",
   "execution_count": 4,
   "metadata": {
    "execution": {
     "iopub.execute_input": "2022-02-08T21:03:56.668973Z",
     "iopub.status.busy": "2022-02-08T21:03:56.667445Z",
     "iopub.status.idle": "2022-02-08T21:04:04.153602Z",
     "shell.execute_reply": "2022-02-08T21:04:04.155027Z"
    }
   },
   "outputs": [],
   "source": [
    "import yt\n",
    "import trident\n",
    "import unyt as u"
   ]
  },
  {
   "cell_type": "code",
   "execution_count": 5,
   "metadata": {
    "execution": {
     "iopub.execute_input": "2022-02-08T21:04:04.164051Z",
     "iopub.status.busy": "2022-02-08T21:04:04.162723Z",
     "iopub.status.idle": "2022-02-08T21:04:05.441115Z",
     "shell.execute_reply": "2022-02-08T21:04:05.442390Z"
    }
   },
   "outputs": [],
   "source": [
    "import kalepy as kale"
   ]
  },
  {
   "cell_type": "code",
   "execution_count": 6,
   "metadata": {
    "execution": {
     "iopub.execute_input": "2022-02-08T21:04:05.450708Z",
     "iopub.status.busy": "2022-02-08T21:04:05.449447Z",
     "iopub.status.idle": "2022-02-08T21:04:05.473673Z",
     "shell.execute_reply": "2022-02-08T21:04:05.474673Z"
    }
   },
   "outputs": [],
   "source": [
    "import verdict\n",
    "import trove"
   ]
  },
  {
   "cell_type": "markdown",
   "metadata": {},
   "source": [
    "# Parameters"
   ]
  },
  {
   "cell_type": "code",
   "execution_count": 7,
   "metadata": {
    "execution": {
     "iopub.execute_input": "2022-02-08T21:04:05.483405Z",
     "iopub.status.busy": "2022-02-08T21:04:05.482160Z",
     "iopub.status.idle": "2022-02-08T21:04:05.494476Z",
     "shell.execute_reply": "2022-02-08T21:04:05.495481Z"
    }
   },
   "outputs": [],
   "source": [
    "# Load parameters\n",
    "pm = trove.link_params_to_config(\n",
    "    '/Users/zhafen/repos/cgm_modeling_challenge/sample2.trove',\n",
    "    script_id = 'nb.1',\n",
    ")"
   ]
  },
  {
   "cell_type": "code",
   "execution_count": 8,
   "metadata": {
    "execution": {
     "iopub.execute_input": "2022-02-08T21:04:05.504047Z",
     "iopub.status.busy": "2022-02-08T21:04:05.502542Z",
     "iopub.status.idle": "2022-02-08T21:04:05.508004Z",
     "shell.execute_reply": "2022-02-08T21:04:05.509018Z"
    }
   },
   "outputs": [
    {
     "name": "stdout",
     "output_type": "stream",
     "text": [
      "high-z test\n"
     ]
    }
   ],
   "source": [
    "print( pm['variation'], pm['global_variation'] )"
   ]
  },
  {
   "cell_type": "code",
   "execution_count": 9,
   "metadata": {
    "execution": {
     "iopub.execute_input": "2022-02-08T21:04:05.518364Z",
     "iopub.status.busy": "2022-02-08T21:04:05.517057Z",
     "iopub.status.idle": "2022-02-08T21:04:05.521240Z",
     "shell.execute_reply": "2022-02-08T21:04:05.522191Z"
    }
   },
   "outputs": [],
   "source": [
    "# Analysis parameters\n",
    "seed = pm['seed']\n",
    "np.random.seed( seed )\n",
    "rng = np.random.default_rng( seed )\n",
    "load_existing_sightlines = True\n",
    "verbose = False"
   ]
  },
  {
   "cell_type": "code",
   "execution_count": 10,
   "metadata": {
    "execution": {
     "iopub.execute_input": "2022-02-08T21:04:05.529936Z",
     "iopub.status.busy": "2022-02-08T21:04:05.528514Z",
     "iopub.status.idle": "2022-02-08T21:04:05.532077Z",
     "shell.execute_reply": "2022-02-08T21:04:05.533088Z"
    }
   },
   "outputs": [],
   "source": [
    "extracted_sightlines_dir = './data/Mandelker2020'"
   ]
  },
  {
   "cell_type": "code",
   "execution_count": 11,
   "metadata": {
    "execution": {
     "iopub.execute_input": "2022-02-08T21:04:05.542339Z",
     "iopub.status.busy": "2022-02-08T21:04:05.541004Z",
     "iopub.status.idle": "2022-02-08T21:04:05.546294Z",
     "shell.execute_reply": "2022-02-08T21:04:05.545278Z"
    }
   },
   "outputs": [],
   "source": [
    "ray_data_dir = os.path.join( pm['data_dir'], 'rays' )\n",
    "os.makedirs( ray_data_dir, exist_ok=True )\n",
    "spectra_data_dir = os.path.join( pm['data_dir'], 'spectra' )\n",
    "os.makedirs( spectra_data_dir, exist_ok=True )"
   ]
  },
  {
   "cell_type": "code",
   "execution_count": 12,
   "metadata": {
    "execution": {
     "iopub.execute_input": "2022-02-08T21:04:05.554069Z",
     "iopub.status.busy": "2022-02-08T21:04:05.552747Z",
     "iopub.status.idle": "2022-02-08T21:04:05.556368Z",
     "shell.execute_reply": "2022-02-08T21:04:05.557512Z"
    }
   },
   "outputs": [],
   "source": [
    "redshift = pm['redshift']"
   ]
  },
  {
   "cell_type": "code",
   "execution_count": 13,
   "metadata": {
    "execution": {
     "iopub.execute_input": "2022-02-08T21:04:05.567826Z",
     "iopub.status.busy": "2022-02-08T21:04:05.566351Z",
     "iopub.status.idle": "2022-02-08T21:04:05.569636Z",
     "shell.execute_reply": "2022-02-08T21:04:05.570964Z"
    }
   },
   "outputs": [],
   "source": [
    "# Spectra parameters\n",
    "ions = [\n",
    "    'H I',\n",
    "    'O I',\n",
    "    'C II',\n",
    "    'C III',\n",
    "    'C IV',\n",
    "    'N II',\n",
    "    'N III',\n",
    "    'Si II',\n",
    "    'Si III',\n",
    "    'Si IV',\n",
    "    'N V',\n",
    "    'O VI',\n",
    "    'Mg II'\n",
    "]\n",
    "fields = [\n",
    "    'H_p0_number_density', \n",
    "    'O_p0_number_density',\n",
    "    'C_p1_number_density',\n",
    "    'C_p2_number_density',\n",
    "    'C_p3_number_density',\n",
    "    'N_p1_number_density',\n",
    "    'N_p2_number_density',\n",
    "    'Si_p1_number_density',\n",
    "    'Si_p2_number_density',\n",
    "    'Si_p3_number_density',\n",
    "    'N_p4_number_density',\n",
    "    'O_p5_number_density',\n",
    "    'Mg_p1_number_density'\n",
    "]\n",
    "snr = 30"
   ]
  },
  {
   "cell_type": "code",
   "execution_count": 14,
   "metadata": {
    "execution": {
     "iopub.execute_input": "2022-02-08T21:04:05.578896Z",
     "iopub.status.busy": "2022-02-08T21:04:05.577426Z",
     "iopub.status.idle": "2022-02-08T21:04:05.580849Z",
     "shell.execute_reply": "2022-02-08T21:04:05.581740Z"
    }
   },
   "outputs": [],
   "source": [
    "bonus_ions = pm['bonus_ions']\n",
    "bonus_ions_lsf_fwhm = pm['bonus_ions_lsf_fwhm']"
   ]
  },
  {
   "cell_type": "markdown",
   "metadata": {
    "tags": []
   },
   "source": [
    "# Setup Spectrum Generator and Line Database"
   ]
  },
  {
   "cell_type": "code",
   "execution_count": 15,
   "metadata": {
    "execution": {
     "iopub.execute_input": "2022-02-08T21:04:05.589802Z",
     "iopub.status.busy": "2022-02-08T21:04:05.588413Z",
     "iopub.status.idle": "2022-02-08T21:04:08.673319Z",
     "shell.execute_reply": "2022-02-08T21:04:08.674360Z"
    }
   },
   "outputs": [
    {
     "name": "stdout",
     "output_type": "stream",
     "text": [
      "read_sets: Using set file -- \n",
      "  /Users/zhafen/repos/linetools/linetools/lists/sets/llist_v1.3.ascii\n"
     ]
    },
    {
     "name": "stdout",
     "output_type": "stream",
     "text": [
      "Loading abundances from Asplund2009\n",
      "Abundances are relative by number on a logarithmic scale with H=12\n"
     ]
    }
   ],
   "source": [
    "# Objects for use\n",
    "ldb = trident.LineDatabase(None)"
   ]
  },
  {
   "cell_type": "code",
   "execution_count": 16,
   "metadata": {
    "execution": {
     "iopub.execute_input": "2022-02-08T21:04:08.683653Z",
     "iopub.status.busy": "2022-02-08T21:04:08.682377Z",
     "iopub.status.idle": "2022-02-08T21:04:08.696710Z",
     "shell.execute_reply": "2022-02-08T21:04:08.697688Z"
    }
   },
   "outputs": [
    {
     "name": "stderr",
     "output_type": "stream",
     "text": [
      "yt : [INFO     ] 2022-02-08 13:04:08,679 Setting instrument to COS-G130M\n"
     ]
    },
    {
     "name": "stderr",
     "output_type": "stream",
     "text": [
      "yt : [INFO     ] 2022-02-08 13:04:08,686 Setting instrument to COS-G160M\n"
     ]
    }
   ],
   "source": [
    "sg_cos = trident.SpectrumGenerator('COS-G130M', line_database=ldb )\n",
    "sg_cos_160 = trident.SpectrumGenerator('COS-G160M', line_database=ldb )"
   ]
  },
  {
   "cell_type": "code",
   "execution_count": 17,
   "metadata": {
    "execution": {
     "iopub.execute_input": "2022-02-08T21:04:08.708945Z",
     "iopub.status.busy": "2022-02-08T21:04:08.707677Z",
     "iopub.status.idle": "2022-02-08T21:04:08.715498Z",
     "shell.execute_reply": "2022-02-08T21:04:08.716469Z"
    }
   },
   "outputs": [
    {
     "name": "stderr",
     "output_type": "stream",
     "text": [
      "yt : [INFO     ] 2022-02-08 13:04:08,705 Setting instrument to Custom\n"
     ]
    }
   ],
   "source": [
    "# Spectrum Generator for Mg II from ground\n",
    "lambda_mg = ldb.select_lines( 'Mg', 'II', 2796 )[0].wavelength * ( 1. + redshift )\n",
    "sg_mg = trident.SpectrumGenerator(\n",
    "    lambda_min = lambda_mg - 30.,\n",
    "    lambda_max = lambda_mg + 30.,\n",
    "    dlambda = 0.01,\n",
    "    line_database = ldb,\n",
    ")\n",
    "lambda_mg *= u.angstrom"
   ]
  },
  {
   "cell_type": "code",
   "execution_count": 18,
   "metadata": {
    "execution": {
     "iopub.execute_input": "2022-02-08T21:04:08.724858Z",
     "iopub.status.busy": "2022-02-08T21:04:08.723380Z",
     "iopub.status.idle": "2022-02-08T21:04:08.726944Z",
     "shell.execute_reply": "2022-02-08T21:04:08.727808Z"
    }
   },
   "outputs": [],
   "source": [
    "spectrum_sg_tags = [ '_G130', '_G160', '_MgII']\n",
    "sg_lambdas = [ None, None, lambda_mg ]"
   ]
  },
  {
   "cell_type": "code",
   "execution_count": 19,
   "metadata": {
    "execution": {
     "iopub.execute_input": "2022-02-08T21:04:08.740735Z",
     "iopub.status.busy": "2022-02-08T21:04:08.739292Z",
     "iopub.status.idle": "2022-02-08T21:04:08.838021Z",
     "shell.execute_reply": "2022-02-08T21:04:08.838956Z"
    }
   },
   "outputs": [
    {
     "name": "stderr",
     "output_type": "stream",
     "text": [
      "\r",
      "       0%|          | 0/15 [00:00<?, ?it/s]"
     ]
    },
    {
     "name": "stderr",
     "output_type": "stream",
     "text": [
      "\r",
      "     100%|██████████| 15/15 [00:00<00:00, 238.00it/s]"
     ]
    },
    {
     "name": "stderr",
     "output_type": "stream",
     "text": [
      "\n"
     ]
    }
   ],
   "source": [
    "sgs_bonus_ions = []\n",
    "sgs_bonus_ions_tags = []\n",
    "for element, ion_state in tqdm.tqdm( bonus_ions, bar_format=pm['bar_format'] ):\n",
    "    lines = ldb.select_lines( element, ion_state )\n",
    "    i_line = np.argmax([ _.f_value for _ in lines ])\n",
    "    lambda_ion = lines[i_line].wavelength * ( 1. + redshift )\n",
    "    sg_ion = trident.SpectrumGenerator(\n",
    "        lambda_min = lambda_ion - 40.,\n",
    "        lambda_max = lambda_ion + 40.,\n",
    "        dlambda = 0.01,\n",
    "        line_database = ldb,\n",
    "    )\n",
    "    sgs_bonus_ions.append( sg_ion )\n",
    "    sgs_bonus_ions_tags.append( '_{}-{}-{:.1f}'.format( element, ion_state, lines[i_line].wavelength ) )\n",
    "    sg_lambdas.append( lambda_ion * u.angstrom )"
   ]
  },
  {
   "cell_type": "code",
   "execution_count": 20,
   "metadata": {
    "execution": {
     "iopub.execute_input": "2022-02-08T21:04:08.857509Z",
     "iopub.status.busy": "2022-02-08T21:04:08.854186Z",
     "iopub.status.idle": "2022-02-08T21:04:08.903306Z",
     "shell.execute_reply": "2022-02-08T21:04:08.902289Z"
    }
   },
   "outputs": [],
   "source": [
    "if pm['include_individual_HI_lines']:\n",
    "\n",
    "    # Add Hydrogen\n",
    "    lines = ldb.select_lines( 'H', 'I' )\n",
    "    for line in lines:\n",
    "        if line.wavelength < 916.:\n",
    "            continue\n",
    "        lambda_line = line.wavelength * ( 1. + redshift )\n",
    "        sg_line = trident.SpectrumGenerator(\n",
    "            lambda_min = lambda_line - 40.,\n",
    "            lambda_max = lambda_line + 40.,\n",
    "            dlambda = 0.01,\n",
    "            line_database = ldb,\n",
    "        )\n",
    "\n",
    "        sgs_bonus_ions.append( sg_line )\n",
    "        sgs_bonus_ions_tags.append( '_H-I-{:.1f}'.format( line.wavelength ) )\n",
    "        sg_lambdas.append( lambda_line * u.angstrom )"
   ]
  },
  {
   "cell_type": "code",
   "execution_count": 21,
   "metadata": {
    "execution": {
     "iopub.execute_input": "2022-02-08T21:04:08.911061Z",
     "iopub.status.busy": "2022-02-08T21:04:08.909850Z",
     "iopub.status.idle": "2022-02-08T21:04:08.913738Z",
     "shell.execute_reply": "2022-02-08T21:04:08.914761Z"
    }
   },
   "outputs": [],
   "source": [
    "sgs = [ sg_cos, sg_cos_160, sg_mg ] + sgs_bonus_ions\n",
    "spectrum_sg_tags += sgs_bonus_ions_tags"
   ]
  },
  {
   "cell_type": "code",
   "execution_count": 22,
   "metadata": {
    "execution": {
     "iopub.execute_input": "2022-02-08T21:04:08.923167Z",
     "iopub.status.busy": "2022-02-08T21:04:08.921857Z",
     "iopub.status.idle": "2022-02-08T21:04:08.924719Z",
     "shell.execute_reply": "2022-02-08T21:04:08.925627Z"
    }
   },
   "outputs": [],
   "source": [
    "# Replace error functions with versions that give small errors\n",
    "if pm['flux_error'] is not None:\n",
    "    for sg in sgs:\n",
    "        sg.error_func = lambda x: x * pm['flux_error']"
   ]
  },
  {
   "cell_type": "code",
   "execution_count": 23,
   "metadata": {
    "execution": {
     "iopub.execute_input": "2022-02-08T21:04:08.933149Z",
     "iopub.status.busy": "2022-02-08T21:04:08.931978Z",
     "iopub.status.idle": "2022-02-08T21:04:08.935738Z",
     "shell.execute_reply": "2022-02-08T21:04:08.936770Z"
    }
   },
   "outputs": [],
   "source": [
    "# Choose lsfs\n",
    "sg_lsfs = [ None, None, 7., ] + [ bonus_ions_lsf_fwhm, ] * len( sgs_bonus_ions )"
   ]
  },
  {
   "cell_type": "code",
   "execution_count": 24,
   "metadata": {
    "execution": {
     "iopub.execute_input": "2022-02-08T21:04:08.951137Z",
     "iopub.status.busy": "2022-02-08T21:04:08.949926Z",
     "iopub.status.idle": "2022-02-08T21:04:08.953440Z",
     "shell.execute_reply": "2022-02-08T21:04:08.954347Z"
    }
   },
   "outputs": [],
   "source": [
    "def plot_ion( sg, element, ion_state, width=6. ):\n",
    "    '''Save a plot of a particular part of the spectrum for inspection.'''\n",
    "    \n",
    "    lines = ldb.select_lines( element, ion_state )\n",
    "    \n",
    "    wavelengths = np.array([ _.wavelength for _ in lines ])\n",
    "    adjusted_wavelengths = wavelengths * ( 1 + redshift )\n",
    "    \n",
    "    data_subdir = '{}/ion_spectra/{}{}'.format( pm['data_dir'], element, ion_state, )\n",
    "    os.makedirs( data_subdir, exist_ok=True )\n",
    "    for k, lambda_a in enumerate( adjusted_wavelengths ):\n",
    "        if lambda_a - width/2. < sg.lambda_min or lambda_a + width/2 > sg.lambda_max:\n",
    "            continue\n",
    "            \n",
    "        spectrum_fp = '{}/spectrum_{:.1f}_sl{:04d}.{}'.format( data_subdir, lambda_a, i, '{}' )\n",
    "        sg.plot_spectrum(\n",
    "            spectrum_fp.format( 'png' ),\n",
    "            lambda_limits = [ lambda_a - width/2, lambda_a + width/2 ]\n",
    "        )\n",
    "        sg.save_spectrum(\n",
    "            spectrum_fp.format( 'h5' ),\n",
    "        )"
   ]
  },
  {
   "cell_type": "markdown",
   "metadata": {},
   "source": [
    "# Generate Rays and Spectra"
   ]
  },
  {
   "cell_type": "code",
   "execution_count": 25,
   "metadata": {
    "execution": {
     "iopub.execute_input": "2022-02-08T21:04:08.961895Z",
     "iopub.status.busy": "2022-02-08T21:04:08.960593Z",
     "iopub.status.idle": "2022-02-08T21:04:08.969540Z",
     "shell.execute_reply": "2022-02-08T21:04:08.970583Z"
    }
   },
   "outputs": [],
   "source": [
    "# Sightline filepaths\n",
    "sightline_fps = glob.glob( os.path.join( extracted_sightlines_dir, '*', '*' ) )"
   ]
  },
  {
   "cell_type": "code",
   "execution_count": 26,
   "metadata": {
    "execution": {
     "iopub.execute_input": "2022-02-08T21:04:08.977730Z",
     "iopub.status.busy": "2022-02-08T21:04:08.976571Z",
     "iopub.status.idle": "2022-02-08T21:04:08.980911Z",
     "shell.execute_reply": "2022-02-08T21:04:08.979977Z"
    }
   },
   "outputs": [],
   "source": [
    "# Waaaay too much output otherwise\n",
    "yt.utilities.logger.disable_stream_logging()"
   ]
  },
  {
   "cell_type": "code",
   "execution_count": 27,
   "metadata": {
    "execution": {
     "iopub.execute_input": "2022-02-08T21:04:09.024430Z",
     "iopub.status.busy": "2022-02-08T21:04:08.985531Z",
     "iopub.status.idle": "2022-02-08T21:23:01.555674Z",
     "shell.execute_reply": "2022-02-08T21:23:01.555249Z"
    }
   },
   "outputs": [
    {
     "name": "stdout",
     "output_type": "stream",
     "text": [
      "3 / 20\n"
     ]
    },
    {
     "name": "stderr",
     "output_type": "stream",
     "text": [
      "\r",
      "       0%|          | 0/31 [00:00<?, ?it/s]"
     ]
    },
    {
     "name": "stderr",
     "output_type": "stream",
     "text": [
      "\r",
      "       3%|▎         | 1/31 [07:10<3:35:07, 430.26s/it]"
     ]
    },
    {
     "name": "stderr",
     "output_type": "stream",
     "text": [
      "\r",
      "       6%|▋         | 2/31 [07:33<1:32:14, 190.84s/it]"
     ]
    },
    {
     "name": "stderr",
     "output_type": "stream",
     "text": [
      "\r",
      "      10%|▉         | 3/31 [07:57<53:28, 114.58s/it]  "
     ]
    },
    {
     "name": "stderr",
     "output_type": "stream",
     "text": [
      "\r",
      "      13%|█▎        | 4/31 [08:23<35:47, 79.55s/it] "
     ]
    },
    {
     "name": "stderr",
     "output_type": "stream",
     "text": [
      "\r",
      "      16%|█▌        | 5/31 [08:46<25:43, 59.36s/it]"
     ]
    },
    {
     "name": "stderr",
     "output_type": "stream",
     "text": [
      "\r",
      "      19%|█▉        | 6/31 [09:09<19:34, 46.96s/it]"
     ]
    },
    {
     "name": "stderr",
     "output_type": "stream",
     "text": [
      "\r",
      "      23%|██▎       | 7/31 [09:32<15:34, 38.94s/it]"
     ]
    },
    {
     "name": "stderr",
     "output_type": "stream",
     "text": [
      "\r",
      "      26%|██▌       | 8/31 [09:54<12:55, 33.71s/it]"
     ]
    },
    {
     "name": "stderr",
     "output_type": "stream",
     "text": [
      "\r",
      "      29%|██▉       | 9/31 [10:16<10:59, 30.00s/it]"
     ]
    },
    {
     "name": "stderr",
     "output_type": "stream",
     "text": [
      "\r",
      "      32%|███▏      | 10/31 [10:39<09:46, 27.93s/it]"
     ]
    },
    {
     "name": "stderr",
     "output_type": "stream",
     "text": [
      "\r",
      "      35%|███▌      | 11/31 [11:03<08:52, 26.64s/it]"
     ]
    },
    {
     "name": "stderr",
     "output_type": "stream",
     "text": [
      "\r",
      "      39%|███▊      | 12/31 [11:25<07:59, 25.24s/it]"
     ]
    },
    {
     "name": "stderr",
     "output_type": "stream",
     "text": [
      "\r",
      "      42%|████▏     | 13/31 [11:47<07:19, 24.41s/it]"
     ]
    },
    {
     "name": "stderr",
     "output_type": "stream",
     "text": [
      "\r",
      "      45%|████▌     | 14/31 [12:09<06:42, 23.66s/it]"
     ]
    },
    {
     "name": "stderr",
     "output_type": "stream",
     "text": [
      "\r",
      "      48%|████▊     | 15/31 [12:31<06:07, 22.95s/it]"
     ]
    },
    {
     "name": "stderr",
     "output_type": "stream",
     "text": [
      "\r",
      "      52%|█████▏    | 16/31 [12:53<05:39, 22.61s/it]"
     ]
    },
    {
     "name": "stderr",
     "output_type": "stream",
     "text": [
      "\r",
      "      55%|█████▍    | 17/31 [13:14<05:12, 22.31s/it]"
     ]
    },
    {
     "name": "stderr",
     "output_type": "stream",
     "text": [
      "\r",
      "      58%|█████▊    | 18/31 [13:36<04:47, 22.11s/it]"
     ]
    },
    {
     "name": "stderr",
     "output_type": "stream",
     "text": [
      "\r",
      "      61%|██████▏   | 19/31 [13:58<04:24, 22.06s/it]"
     ]
    },
    {
     "name": "stderr",
     "output_type": "stream",
     "text": [
      "\r",
      "      65%|██████▍   | 20/31 [14:20<04:02, 22.07s/it]"
     ]
    },
    {
     "name": "stderr",
     "output_type": "stream",
     "text": [
      "\r",
      "      68%|██████▊   | 21/31 [14:41<03:39, 21.94s/it]"
     ]
    },
    {
     "name": "stderr",
     "output_type": "stream",
     "text": [
      "\r",
      "      71%|███████   | 22/31 [15:04<03:18, 22.04s/it]"
     ]
    },
    {
     "name": "stderr",
     "output_type": "stream",
     "text": [
      "\r",
      "      74%|███████▍  | 23/31 [15:28<03:01, 22.64s/it]"
     ]
    },
    {
     "name": "stderr",
     "output_type": "stream",
     "text": [
      "\r",
      "      77%|███████▋  | 24/31 [15:53<02:44, 23.51s/it]"
     ]
    },
    {
     "name": "stderr",
     "output_type": "stream",
     "text": [
      "\r",
      "      81%|████████  | 25/31 [16:19<02:25, 24.23s/it]"
     ]
    },
    {
     "name": "stderr",
     "output_type": "stream",
     "text": [
      "\r",
      "      84%|████████▍ | 26/31 [16:44<02:02, 24.53s/it]"
     ]
    },
    {
     "name": "stderr",
     "output_type": "stream",
     "text": [
      "\r",
      "      87%|████████▋ | 27/31 [17:09<01:37, 24.45s/it]"
     ]
    },
    {
     "name": "stderr",
     "output_type": "stream",
     "text": [
      "\r",
      "      90%|█████████ | 28/31 [17:35<01:14, 24.86s/it]"
     ]
    },
    {
     "name": "stderr",
     "output_type": "stream",
     "text": [
      "\r",
      "      94%|█████████▎| 29/31 [18:00<00:49, 24.96s/it]"
     ]
    },
    {
     "name": "stderr",
     "output_type": "stream",
     "text": [
      "\r",
      "      97%|█████████▋| 30/31 [18:24<00:24, 24.78s/it]"
     ]
    },
    {
     "name": "stderr",
     "output_type": "stream",
     "text": [
      "\r",
      "     100%|██████████| 31/31 [18:49<00:00, 24.93s/it]"
     ]
    },
    {
     "name": "stderr",
     "output_type": "stream",
     "text": [
      "\r",
      "     100%|██████████| 31/31 [18:49<00:00, 36.45s/it]"
     ]
    },
    {
     "name": "stderr",
     "output_type": "stream",
     "text": [
      "\n"
     ]
    }
   ],
   "source": [
    "for i, sightline_fp in enumerate( sightline_fps ):\n",
    "    \n",
    "    if pm['selected_sightlines'] is not None:\n",
    "        if i not in pm['selected_sightlines']:\n",
    "            continue\n",
    "\n",
    "    print( '{} / {}'.format( i, len( sightline_fps ) ) )\n",
    "    \n",
    "    # Load data\n",
    "    columns = [ 'x', 'density', 'temperature', 'metallicity', 'velocity_los' ]\n",
    "    units = [ 'kpc', 'g/cm**3', 'K', 'Zsun', 'km/s' ]\n",
    "    ray_df = pd.read_csv( sightline_fp, sep='\\s+', names=columns )\n",
    "\n",
    "    # Convert metallicity to Zsun\n",
    "    ray_df['metallicity'] /= 0.02\n",
    "\n",
    "    # Turn into a dictionary for creating a yt dataset\n",
    "    ray_dict = {}\n",
    "    for j, key in enumerate( columns ):\n",
    "\n",
    "        # We add this separately\n",
    "        if key == 'x':\n",
    "            continue\n",
    "\n",
    "        ray_dict[key] = yt.YTArray( ray_df[key].values, units[j] )\n",
    "\n",
    "    # Get sightline location in space\n",
    "    locstring = os.path.split( os.path.split( sightline_fp )[0] )[1]\n",
    "    _, x1, y1, z1, _, x2, y2, z2 = locstring.split( '_' )\n",
    "    \n",
    "    # Check order\n",
    "    if x1 > x2:\n",
    "        x1, x2 = x2, x1\n",
    "    if y1 > y2:\n",
    "        y1, y2 = y2, y1\n",
    "    if z1 > z2:\n",
    "        z1, z2 = z2, z1\n",
    "    \n",
    "    # Forma\n",
    "    start = np.array([ x1, y1, z1 ]).astype( float )\n",
    "    end = np.array([ x2, y2, z2 ]).astype( float )\n",
    "\n",
    "    # Code to physical conversion\n",
    "    length_code_units = np.linalg.norm( end - start )\n",
    "    length_kpc = ray_df['x'].values[-1] - ray_df['x'].values[0]\n",
    "    position_code_units_to_kpc = length_kpc / length_code_units\n",
    "\n",
    "    # Add dl\n",
    "    dl = ray_df['x'][1] - ray_df['x'][0]\n",
    "    # ray_dict['dl'] = dl * u.kpc\n",
    "    ray_dict['dl'] = yt.YTArray(\n",
    "        np.full( ray_df['x'].shape, dl ),\n",
    "        'kpc',\n",
    "    )\n",
    "\n",
    "    # Add location parameters\n",
    "    for j, key in enumerate( [ 'x', 'y', 'z' ]):\n",
    "        ray_dict[key] = yt.YTArray(\n",
    "            np.linspace( start[j], end[j], ray_df['x'].size ) * position_code_units_to_kpc,\n",
    "            'kpc',\n",
    "        )\n",
    "        dxi_value = ray_dict[key][1] - ray_dict[key][0]\n",
    "        ray_dict['d' + key] = yt.YTArray(\n",
    "            np.full( ray_dict[key].shape, dxi_value ),\n",
    "            'kpc',\n",
    "        )\n",
    "\n",
    "    # Add redshift parameters\n",
    "    ray_dict['redshift'] = np.full( ray_dict['density'].shape, redshift )\n",
    "    z_vel = np.sqrt( ( 1 + ray_dict['velocity_los'] / u.c) / ( 1 - ray_dict['velocity_los'] / u.c) ) - 1.\n",
    "    ray_dict['redshift_eff'] = ( 1. + redshift )*( 1. + z_vel ) - 1.\n",
    "\n",
    "    # Other needed terms\n",
    "    extra_attrs = {\"data_type\": \"yt_light_ray\", \"dimensionality\": 3}\n",
    "    field_types = dict([(field, \"grid\") for field in ray_dict.keys()])\n",
    "\n",
    "    # Format dataset dict\n",
    "    ds = {\n",
    "        \"current_time\": 0.,\n",
    "        \"current_redshift\": 0.,\n",
    "        \"cosmological_simulation\": 0.,\n",
    "        \"domain_left_edge\": np.array([ 0., 0., 0. ]) * position_code_units_to_kpc * u.kpc,\n",
    "        \"domain_right_edge\": np.array([ 1., 1., 1. ]) * position_code_units_to_kpc * u.kpc,\n",
    "        \"periodicity\": [True]*3,\n",
    "    }\n",
    "\n",
    "    # Save as a dataset\n",
    "    ray_filename = os.path.join( ray_data_dir, 'ray_{:03d}.h5'.format( i ) )\n",
    "    yt.save_as_dataset(\n",
    "        ds,\n",
    "        ray_filename,\n",
    "        ray_dict,\n",
    "        field_types = field_types,\n",
    "        extra_attrs = extra_attrs,\n",
    "    )\n",
    "    \n",
    "    # Make spectra only for selected sightlines\n",
    "    if i not in pm['selected_sightlines']:\n",
    "        continue\n",
    "\n",
    "    # Reload\n",
    "    ray = yt.load( ray_filename )\n",
    "\n",
    "    # temporary fix for yt-4.0 ytdata selection issue\n",
    "    ray.domain_left_edge = ray.domain_left_edge.to('code_length')\n",
    "    ray.domain_right_edge = ray.domain_right_edge.to('code_length')\n",
    "\n",
    "    trident.add_ion_fields(ray, ions=ions, line_database=ldb)\n",
    "\n",
    "    # Loop through spectra generators\n",
    "    for m, sg in enumerate( tqdm.tqdm( sgs, bar_format=pm['bar_format'] ) ):\n",
    "        \n",
    "        sg = copy.copy( sg )\n",
    "\n",
    "        # Without the redirection the logging may still happen despite asking it not to (nicely).... Not sure why\n",
    "        f = io.StringIO()\n",
    "        with contextlib.redirect_stderr( f ):\n",
    "            # Make the spectrum\n",
    "            sg.make_spectrum( ray, lines=ions, store_observables=True, min_tau=1e-4 )\n",
    "            \n",
    "        # Plot individual ions for inspection\n",
    "        for ion in ions:\n",
    "            plot_ion( sg, *ion.split() )\n",
    "            \n",
    "        # LSF\n",
    "        if pm['use_avg_lsf']:\n",
    "            sg.apply_lsf( filename='avg_COS.txt' ) \n",
    "        else:\n",
    "            lsf = sg_lsfs[m]\n",
    "            if lsf is None:\n",
    "                sg.apply_lsf()\n",
    "            else:\n",
    "                fwhm_v = lsf * u.km / u.s\n",
    "                fwhm_lambda = sg_lambdas[m] * fwhm_v / u.c\n",
    "                width_lambda = fwhm_lambda / ( 2 * np.sqrt( 2. * np.log( 2 ) ) )\n",
    "                bin_width = width_lambda / sg.dlambda\n",
    "                sg.apply_lsf( function='gaussian', width=bin_width )\n",
    "        \n",
    "        # Noise\n",
    "        sg.add_gaussian_noise( snr )\n",
    "\n",
    "        # Save\n",
    "        sg.save_spectrum(\n",
    "            '{}/spectrum{}_sl{:04d}.h5'.format( spectra_data_dir, spectrum_sg_tags[m], i )\n",
    "        )\n",
    "        sg.plot_spectrum(\n",
    "            '{}/spectrum{}_sl{:04d}.png'.format( spectra_data_dir, spectrum_sg_tags[m], i )\n",
    "        )"
   ]
  },
  {
   "cell_type": "code",
   "execution_count": 28,
   "metadata": {
    "execution": {
     "iopub.execute_input": "2022-02-08T21:23:01.567496Z",
     "iopub.status.busy": "2022-02-08T21:23:01.566875Z",
     "iopub.status.idle": "2022-02-08T21:23:03.189409Z",
     "shell.execute_reply": "2022-02-08T21:23:03.189899Z"
    }
   },
   "outputs": [
    {
     "name": "stderr",
     "output_type": "stream",
     "text": [
      "\r",
      "       0%|          | 0/20 [00:00<?, ?it/s]"
     ]
    },
    {
     "name": "stderr",
     "output_type": "stream",
     "text": [
      "\r",
      "      20%|██        | 4/20 [00:01<00:06,  2.47it/s]"
     ]
    },
    {
     "name": "stderr",
     "output_type": "stream",
     "text": [
      "\r",
      "     100%|██████████| 20/20 [00:01<00:00, 12.36it/s]"
     ]
    },
    {
     "name": "stderr",
     "output_type": "stream",
     "text": [
      "\n"
     ]
    }
   ],
   "source": [
    "# Plot ray properties\n",
    "for i, sightline_fp in enumerate( tqdm.tqdm( sightline_fps, bar_format=pm['bar_format'] ) ):\n",
    "    \n",
    "    if pm['selected_sightlines'] is not None:\n",
    "        if i not in pm['selected_sightlines']:\n",
    "            continue\n",
    "\n",
    "    # Load data\n",
    "    columns = [ 'x', 'density', 'temperature', 'metallicity', 'velocity_los' ]\n",
    "    units = [ 'kpc', 'g/cm**3', 'K', 'Zsun', 'km/s' ]\n",
    "    ray_df = pd.read_csv( sightline_fp, sep='\\s+', names=columns )\n",
    "\n",
    "    # Convert metallicity to Zsun\n",
    "    ray_df['metallicity'] /= 0.02\n",
    "    \n",
    "    # Create a column density column\n",
    "    ray_df['column_density'] = (\n",
    "        yt.YTArray( ray_df['density'].values, 'g/cm**3' ) *\n",
    "        ( ray_df['x'][1] - ray_df['x'][0] ) * u.kpc\n",
    "    ).to( 'mp/cm**2.' )\n",
    "    columns.append( 'column_density' )\n",
    "    units.append( 'mp/cm**2' )\n",
    "\n",
    "    # Plot\n",
    "    y_values = columns[1:]\n",
    "    n_rows = len( y_values )\n",
    "    fig = plt.figure( figsize=(12, 6*n_rows), facecolor='w' )\n",
    "    ax = plt.gca()\n",
    "\n",
    "    gs = gridspec.GridSpec(n_rows,1)\n",
    "\n",
    "    for j, key in enumerate( columns[1:] ):\n",
    "        ax = plt.subplot( gs[j,:] )\n",
    "\n",
    "        ax.plot(\n",
    "            ray_df['x'],\n",
    "            ray_df[key],\n",
    "            color = 'k',\n",
    "            linewidth = 3,\n",
    "        )\n",
    "\n",
    "        if key != 'velocity_los':\n",
    "            ax.set_yscale( 'log' )\n",
    "\n",
    "        ax.set_ylabel( '{} [{}]'.format( key, units[j+1]), fontsize=22 )\n",
    "        ax.set_xlabel( 'x [kpc]', fontsize=22 )\n",
    "\n",
    "        ax.set_xlim( ray_df['x'].min(), ray_df['x'].max() )\n",
    "\n",
    "        ax.tick_params(\n",
    "            labelsize = 14,\n",
    "            size = 10,\n",
    "            width = 2,\n",
    "        )\n",
    "        ax.tick_params(\n",
    "            which = 'minor',\n",
    "            size = 5,\n",
    "            width = 1.5,\n",
    "        )\n",
    "\n",
    "    savefile = os.path.join( pm['data_dir'], 'rays', 'ray_{:03d}.png'.format( i ) )\n",
    "    plt.savefig(\n",
    "        savefile,\n",
    "        bbox_inches = 'tight',\n",
    "    )\n",
    "    \n",
    "    plt.close()"
   ]
  }
 ],
 "metadata": {
  "kernelspec": {
   "display_name": "Python 3 (ipykernel)",
   "language": "python",
   "name": "python3"
  },
  "language_info": {
   "codemirror_mode": {
    "name": "ipython",
    "version": 3
   },
   "file_extension": ".py",
   "mimetype": "text/x-python",
   "name": "python",
   "nbconvert_exporter": "python",
   "pygments_lexer": "ipython3",
   "version": "3.9.7"
  }
 },
 "nbformat": 4,
 "nbformat_minor": 4
}
