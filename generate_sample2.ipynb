{
 "cells": [
  {
   "cell_type": "code",
   "execution_count": 1,
   "metadata": {},
   "outputs": [],
   "source": [
    "import copy\n",
    "import glob\n",
    "import h5py\n",
    "import itertools\n",
    "import numpy as np\n",
    "import os\n",
    "import pandas as pd\n",
    "import scipy\n",
    "import scipy.interpolate\n",
    "import tqdm"
   ]
  },
  {
   "cell_type": "code",
   "execution_count": 2,
   "metadata": {},
   "outputs": [],
   "source": [
    "import contextlib\n",
    "import io\n",
    "import sys"
   ]
  },
  {
   "cell_type": "code",
   "execution_count": 3,
   "metadata": {},
   "outputs": [],
   "source": [
    "import matplotlib\n",
    "import matplotlib.pyplot as plt\n",
    "import matplotlib.gridspec as gridspec\n",
    "import palettable"
   ]
  },
  {
   "cell_type": "code",
   "execution_count": 4,
   "metadata": {},
   "outputs": [],
   "source": [
    "import yt\n",
    "import trident\n",
    "import unyt as u"
   ]
  },
  {
   "cell_type": "code",
   "execution_count": 5,
   "metadata": {},
   "outputs": [],
   "source": [
    "import kalepy as kale\n",
    "import verdict"
   ]
  },
  {
   "cell_type": "code",
   "execution_count": 6,
   "metadata": {},
   "outputs": [],
   "source": [
    "import one_zone"
   ]
  },
  {
   "cell_type": "markdown",
   "metadata": {},
   "source": [
    "# Parameters"
   ]
  },
  {
   "cell_type": "code",
   "execution_count": 7,
   "metadata": {},
   "outputs": [],
   "source": [
    "# Analysis parameters\n",
    "seed = 15482\n",
    "np.random.seed( seed )\n",
    "rng = np.random.default_rng( seed )\n",
    "load_existing_sightlines = True\n",
    "verbose = False"
   ]
  },
  {
   "cell_type": "code",
   "execution_count": 8,
   "metadata": {},
   "outputs": [],
   "source": [
    "# Data management parameters\n",
    "extracted_sightlines_dir = './data/Mandelker2020'\n",
    "data_dir = './data/synthetic_data/sample2'\n",
    "observer_data_dir = './data/synthetic_data_samples/sample2'"
   ]
  },
  {
   "cell_type": "code",
   "execution_count": 9,
   "metadata": {},
   "outputs": [],
   "source": [
    "# Ray parameters\n",
    "redshift = 0.13"
   ]
  },
  {
   "cell_type": "code",
   "execution_count": 10,
   "metadata": {},
   "outputs": [],
   "source": [
    "# Spectra parameters\n",
    "ions = [\n",
    "    'H I',\n",
    "    'O I',\n",
    "    'C II',\n",
    "    'C III',\n",
    "    'C IV',\n",
    "    'N II',\n",
    "    'N III',\n",
    "    'Si II',\n",
    "    'Si III',\n",
    "    'Si IV',\n",
    "    'N V',\n",
    "    'O VI',\n",
    "    'Mg II'\n",
    "]\n",
    "fields = [\n",
    "    'H_p0_number_density', \n",
    "    'O_p0_number_density',\n",
    "    'C_p1_number_density',\n",
    "    'C_p2_number_density',\n",
    "    'C_p3_number_density',\n",
    "    'N_p1_number_density',\n",
    "    'N_p2_number_density',\n",
    "    'Si_p1_number_density',\n",
    "    'Si_p2_number_density',\n",
    "    'Si_p3_number_density',\n",
    "    'N_p4_number_density',\n",
    "    'O_p5_number_density',\n",
    "    'Mg_p1_number_density'\n",
    "]\n",
    "snr = 30"
   ]
  },
  {
   "cell_type": "markdown",
   "metadata": {
    "tags": []
   },
   "source": [
    "# Setup Spectrum Generator and Line Database"
   ]
  },
  {
   "cell_type": "code",
   "execution_count": 11,
   "metadata": {},
   "outputs": [
    {
     "name": "stdout",
     "output_type": "stream",
     "text": [
      "read_sets: Using set file -- \n",
      "  /Users/zhafen/repos/linetools/linetools/lists/sets/llist_v1.3.ascii\n",
      "Loading abundances from Asplund2009\n",
      "Abundances are relative by number on a logarithmic scale with H=12\n"
     ]
    }
   ],
   "source": [
    "# Objects for use\n",
    "ldb = trident.LineDatabase(None)"
   ]
  },
  {
   "cell_type": "code",
   "execution_count": 12,
   "metadata": {},
   "outputs": [
    {
     "name": "stderr",
     "output_type": "stream",
     "text": [
      "yt : [INFO     ] 2021-10-27 17:50:22,615 Setting instrument to COS-G130M\n",
      "yt : [INFO     ] 2021-10-27 17:50:22,620 Setting instrument to COS-G160M\n"
     ]
    }
   ],
   "source": [
    "sg_cos = trident.SpectrumGenerator('COS-G130M', line_database=ldb )\n",
    "sg_cos_160 = trident.SpectrumGenerator('COS-G160M', line_database=ldb )"
   ]
  },
  {
   "cell_type": "code",
   "execution_count": 13,
   "metadata": {},
   "outputs": [
    {
     "name": "stderr",
     "output_type": "stream",
     "text": [
      "yt : [INFO     ] 2021-10-27 17:50:22,635 Setting instrument to Custom\n"
     ]
    }
   ],
   "source": [
    "# Spectrum Generator for Mg II from ground\n",
    "lambda_mg = ldb.select_lines( 'Mg', 'II', 2796 )[0].wavelength * ( 1. + redshift )\n",
    "sg_mg = trident.SpectrumGenerator(\n",
    "    lambda_min = lambda_mg - 30.,\n",
    "    lambda_max = lambda_mg + 30.,\n",
    "    dlambda = 0.01,\n",
    "    lsf_kernel = os.path.join( trident.path, 'data', 'lsf_kernels', 'avg_COS.txt' ),\n",
    "    line_database = ldb,\n",
    ")\n",
    "lambda_mg *= u.angstrom"
   ]
  },
  {
   "cell_type": "code",
   "execution_count": 14,
   "metadata": {},
   "outputs": [],
   "source": [
    "spectrum_sg_tags = [ '_G130', '_G160', '_MgII']"
   ]
  },
  {
   "cell_type": "code",
   "execution_count": 15,
   "metadata": {},
   "outputs": [],
   "source": [
    "def plot_ion( sg, element, ion_state, width=6. ):\n",
    "    '''Save a plot of a particular part of the spectrum for inspection.'''\n",
    "    \n",
    "    lines = ldb.select_lines( element, ion_state )\n",
    "    \n",
    "    wavelengths = np.array([ _.wavelength for _ in lines ])\n",
    "    adjusted_wavelengths = wavelengths * ( 1 + redshift )\n",
    "    \n",
    "    data_subdir = '{}/ion_spectra/{}{}'.format( data_dir, element, ion_state, )\n",
    "    os.makedirs( data_subdir, exist_ok=True )\n",
    "    for k, lambda_a in enumerate( adjusted_wavelengths ):\n",
    "        if lambda_a - width/2. < sg.lambda_min or lambda_a + width/2 > sg.lambda_max:\n",
    "            continue\n",
    "            \n",
    "        spectrum_fp = '{}/spectrum_{:.1f}_sl{:04d}.{}'.format( data_subdir, lambda_a, i, '{}' )\n",
    "        sg.plot_spectrum(\n",
    "            spectrum_fp.format( 'png' ),\n",
    "            lambda_limits = [ lambda_a - width/2, lambda_a + width/2 ]\n",
    "        )\n",
    "        sg.save_spectrum(\n",
    "            spectrum_fp.format( 'h5' ),\n",
    "        )"
   ]
  },
  {
   "cell_type": "markdown",
   "metadata": {},
   "source": [
    "# Generate Rays and Spectra"
   ]
  },
  {
   "cell_type": "code",
   "execution_count": 16,
   "metadata": {},
   "outputs": [],
   "source": [
    "# Sightline filepaths\n",
    "sightline_fps = glob.glob( os.path.join( extracted_sightlines_dir, '*', '*' ) )"
   ]
  },
  {
   "cell_type": "code",
   "execution_count": 17,
   "metadata": {},
   "outputs": [],
   "source": [
    "# Waaaay too much output otherwise\n",
    "yt.utilities.logger.disable_stream_logging()"
   ]
  },
  {
   "cell_type": "code",
   "execution_count": 18,
   "metadata": {},
   "outputs": [
    {
     "name": "stderr",
     "output_type": "stream",
     "text": [
      "100%|█████████████████████████████████████████████████████████████████████████████████████████████████████████████████████████████████████████████████████████████████████████████████████| 20/20 [18:01<00:00, 54.08s/it]\n"
     ]
    }
   ],
   "source": [
    "for i, sightline_fp in enumerate( tqdm.tqdm( sightline_fps ) ):\n",
    "    \n",
    "    # Load data\n",
    "    columns = [ 'x', 'density', 'temperature', 'metallicity', 'velocity_los' ]\n",
    "    units = [ 'kpc', 'g/cm**3', 'K', 'Zsun', 'km/s' ]\n",
    "    ray_df = pd.read_csv( sightline_fp, sep='\\s+', names=columns )\n",
    "\n",
    "    # Convert metallicity to Zsun\n",
    "    ray_df['metallicity'] /= 0.02\n",
    "\n",
    "    # Turn into a dictionary for creating a yt dataset\n",
    "    ray_dict = {}\n",
    "    for j, key in enumerate( columns ):\n",
    "\n",
    "        # We add this separately\n",
    "        if key == 'x':\n",
    "            continue\n",
    "\n",
    "        ray_dict[key] = yt.YTArray( ray_df[key].values, units[j] )\n",
    "\n",
    "    # Get sightline location in space\n",
    "    locstring = os.path.split( os.path.split( sightline_fp )[0] )[1]\n",
    "    _, x1, y1, z1, _, x2, y2, z2 = locstring.split( '_' )\n",
    "    \n",
    "    # Check order\n",
    "    if x1 > x2:\n",
    "        x1, x2 = x2, x1\n",
    "    if y1 > y2:\n",
    "        y1, y2 = y2, y1\n",
    "    if z1 > z2:\n",
    "        z1, z2 = z2, z1\n",
    "    \n",
    "    # Forma\n",
    "    start = np.array([ x1, y1, z1 ]).astype( float )\n",
    "    end = np.array([ x2, y2, z2 ]).astype( float )\n",
    "\n",
    "    # Code to physical conversion\n",
    "    length_code_units = np.linalg.norm( end - start )\n",
    "    length_kpc = ray_df['x'].values[-1] - ray_df['x'].values[0]\n",
    "    position_code_units_to_kpc = length_kpc / length_code_units\n",
    "\n",
    "    # Add dl\n",
    "    dl = ray_df['x'][1] - ray_df['x'][0]\n",
    "    # ray_dict['dl'] = dl * u.kpc\n",
    "    ray_dict['dl'] = yt.YTArray(\n",
    "        np.full( ray_df['x'].shape, dl ),\n",
    "        'kpc',\n",
    "    )\n",
    "\n",
    "    # Add location parameters\n",
    "    for j, key in enumerate( [ 'x', 'y', 'z' ]):\n",
    "        ray_dict[key] = yt.YTArray(\n",
    "            np.linspace( start[j], end[j], ray_df['x'].size ) * position_code_units_to_kpc,\n",
    "            'kpc',\n",
    "        )\n",
    "        dxi_value = ray_dict[key][1] - ray_dict[key][0]\n",
    "        ray_dict['d' + key] = yt.YTArray(\n",
    "            np.full( ray_dict[key].shape, dxi_value ),\n",
    "            'kpc',\n",
    "        )\n",
    "\n",
    "    # Add redshift parameters\n",
    "    ray_dict['redshift'] = np.full( ray_dict['density'].shape, redshift )\n",
    "    z_vel = np.sqrt( ( 1 + ray_dict['velocity_los'] / u.c) / ( 1 - ray_dict['velocity_los'] / u.c) ) - 1.\n",
    "    ray_dict['redshift_eff'] = ( 1. + redshift )*( 1. + z_vel ) - 1.\n",
    "\n",
    "    # Other needed terms\n",
    "    extra_attrs = {\"data_type\": \"yt_light_ray\", \"dimensionality\": 3}\n",
    "    field_types = dict([(field, \"grid\") for field in ray_dict.keys()])\n",
    "\n",
    "    # Format dataset dict\n",
    "    ds = {\n",
    "        \"current_time\": 0.,\n",
    "        \"current_redshift\": 0.,\n",
    "        \"cosmological_simulation\": 0.,\n",
    "        \"domain_left_edge\": np.array([ 0., 0., 0. ]) * position_code_units_to_kpc * u.kpc,\n",
    "        \"domain_right_edge\": np.array([ 1., 1., 1. ]) * position_code_units_to_kpc * u.kpc,\n",
    "        \"periodicity\": [True]*3,\n",
    "    }\n",
    "\n",
    "    # Save as a dataset\n",
    "    ray_filename = os.path.join( data_dir, 'rays', 'ray_{:03d}.h5'.format( i ) )\n",
    "    yt.save_as_dataset(\n",
    "        ds,\n",
    "        ray_filename,\n",
    "        ray_dict,\n",
    "        field_types = field_types,\n",
    "        extra_attrs = extra_attrs,\n",
    "    )\n",
    "\n",
    "    # Reload\n",
    "    ray = yt.load( ray_filename )\n",
    "\n",
    "    # temporary fix for yt-4.0 ytdata selection issue\n",
    "    ray.domain_left_edge = ray.domain_left_edge.to('code_length')\n",
    "    ray.domain_right_edge = ray.domain_right_edge.to('code_length')\n",
    "\n",
    "    trident.add_ion_fields(ray, ions=ions, line_database=ldb)\n",
    "\n",
    "    # Loop through spectra generators\n",
    "    for m, sg in enumerate( [ sg_cos, sg_cos_160, sg_mg ]):\n",
    "        \n",
    "        sg = copy.copy( sg )\n",
    "\n",
    "        # Without the redirection the logging may still happen despite asking it not to (nicely).... Not sure why\n",
    "        f = io.StringIO()\n",
    "        with contextlib.redirect_stderr( f ):\n",
    "            # Make the spectrum\n",
    "            sg.make_spectrum( ray, lines=ions, store_observables=True, min_tau=1e-4 )\n",
    "            \n",
    "        # Plot individual ions for inspection\n",
    "        for ion in ions:\n",
    "            plot_ion( sg, *ion.split() )\n",
    "        \n",
    "        # Noise\n",
    "        sg.apply_lsf()\n",
    "        sg.add_gaussian_noise( snr )\n",
    "\n",
    "        # Save\n",
    "        sg.save_spectrum(\n",
    "            '{}/spectrum{}_sl{:04d}.h5'.format( observer_data_dir, spectrum_sg_tags[m], i )\n",
    "        )\n",
    "        sg.plot_spectrum(\n",
    "            '{}/spectrum{}_sl{:04d}.png'.format( observer_data_dir, spectrum_sg_tags[m], i )\n",
    "        )"
   ]
  },
  {
   "cell_type": "code",
   "execution_count": 19,
   "metadata": {},
   "outputs": [
    {
     "name": "stderr",
     "output_type": "stream",
     "text": [
      "100%|█████████████████████████████████████████████████████████████████████████████████████████████████████████████████████████████████████████████████████████████████████████████████████| 20/20 [00:25<00:00,  1.29s/it]\n"
     ]
    }
   ],
   "source": [
    "# Plot ray properties\n",
    "for i, sightline_fp in enumerate( tqdm.tqdm( sightline_fps ) ):\n",
    "\n",
    "\n",
    "    # Load data\n",
    "    columns = [ 'x', 'density', 'temperature', 'metallicity', 'velocity_los' ]\n",
    "    units = [ 'kpc', 'g/cm**3', 'K', 'Zsun', 'km/s' ]\n",
    "    ray_df = pd.read_csv( sightline_fp, sep='\\s+', names=columns )\n",
    "\n",
    "    # Convert metallicity to Zsun\n",
    "    ray_df['metallicity'] /= 0.02\n",
    "    \n",
    "    # Create a column density column\n",
    "    ray_df['column_density'] = (\n",
    "        yt.YTArray( ray_df['density'].values, 'g/cm**3' ) *\n",
    "        ( ray_df['x'][1] - ray_df['x'][0] ) * u.kpc\n",
    "    ).to( 'mp/cm**2.' )\n",
    "    columns.append( 'column_density' )\n",
    "    units.append( 'mp/cm**2' )\n",
    "\n",
    "    # Plot\n",
    "    y_values = columns[1:]\n",
    "    n_rows = len( y_values )\n",
    "    fig = plt.figure( figsize=(12, 6*n_rows), facecolor='w' )\n",
    "    ax = plt.gca()\n",
    "\n",
    "    gs = gridspec.GridSpec(n_rows,1)\n",
    "\n",
    "    for j, key in enumerate( columns[1:] ):\n",
    "        ax = plt.subplot( gs[j,:] )\n",
    "\n",
    "        ax.plot(\n",
    "            ray_df['x'],\n",
    "            ray_df[key],\n",
    "            color = 'k',\n",
    "            linewidth = 3,\n",
    "        )\n",
    "\n",
    "        if key != 'velocity_los':\n",
    "            ax.set_yscale( 'log' )\n",
    "\n",
    "        ax.set_ylabel( '{} [{}]'.format( key, units[j+1]), fontsize=22 )\n",
    "        ax.set_xlabel( 'x [kpc]', fontsize=22 )\n",
    "\n",
    "        ax.set_xlim( ray_df['x'].min(), ray_df['x'].max() )\n",
    "\n",
    "        ax.tick_params(\n",
    "            labelsize = 14,\n",
    "            size = 10,\n",
    "            width = 2,\n",
    "        )\n",
    "        ax.tick_params(\n",
    "            which = 'minor',\n",
    "            size = 5,\n",
    "            width = 1.5,\n",
    "        )\n",
    "\n",
    "    savefile = os.path.join( data_dir, 'rays', 'ray_{:03d}.png'.format( i ) )\n",
    "    plt.savefig(\n",
    "        savefile,\n",
    "        bbox_inches = 'tight',\n",
    "    )\n",
    "    \n",
    "    plt.close()"
   ]
  }
 ],
 "metadata": {
  "kernelspec": {
   "display_name": "Python 3",
   "language": "python",
   "name": "python3"
  },
  "language_info": {
   "codemirror_mode": {
    "name": "ipython",
    "version": 3
   },
   "file_extension": ".py",
   "mimetype": "text/x-python",
   "name": "python",
   "nbconvert_exporter": "python",
   "pygments_lexer": "ipython3",
   "version": "3.9.6"
  }
 },
 "nbformat": 4,
 "nbformat_minor": 4
}
