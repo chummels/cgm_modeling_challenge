{
 "cells": [
  {
   "cell_type": "code",
   "execution_count": 1,
   "metadata": {},
   "outputs": [],
   "source": [
    "import copy\n",
    "import glob\n",
    "import h5py\n",
    "import itertools\n",
    "import numpy as np\n",
    "import os\n",
    "import pandas as pd\n",
    "import scipy\n",
    "import scipy.interpolate\n",
    "import tqdm"
   ]
  },
  {
   "cell_type": "code",
   "execution_count": 2,
   "metadata": {},
   "outputs": [],
   "source": [
    "import matplotlib\n",
    "import matplotlib.pyplot as plt\n",
    "import palettable"
   ]
  },
  {
   "cell_type": "code",
   "execution_count": 3,
   "metadata": {},
   "outputs": [],
   "source": [
    "import yt\n",
    "import trident\n",
    "import unyt as u"
   ]
  },
  {
   "cell_type": "code",
   "execution_count": 4,
   "metadata": {},
   "outputs": [],
   "source": [
    "import kalepy as kale\n",
    "import verdict"
   ]
  },
  {
   "cell_type": "code",
   "execution_count": 5,
   "metadata": {},
   "outputs": [],
   "source": [
    "import one_zone"
   ]
  },
  {
   "cell_type": "markdown",
   "metadata": {},
   "source": [
    "# Parameters"
   ]
  },
  {
   "cell_type": "code",
   "execution_count": 6,
   "metadata": {},
   "outputs": [],
   "source": [
    "# Analysis parameters\n",
    "seed = 15482\n",
    "np.random.seed( seed )\n",
    "rng = np.random.default_rng( seed )\n",
    "load_existing_sightlines = True\n",
    "verbose = False"
   ]
  },
  {
   "cell_type": "code",
   "execution_count": 7,
   "metadata": {},
   "outputs": [],
   "source": [
    "# Data management parameters\n",
    "extracted_sightlines_dir = './data/Mandelker2020'\n",
    "data_dir = './data/synthetic_data/sample2'\n",
    "observer_data_dir = './data/synthetic_data_samples/sample2'"
   ]
  },
  {
   "cell_type": "code",
   "execution_count": 8,
   "metadata": {},
   "outputs": [],
   "source": [
    "# Ray parameters\n",
    "redshift = 0.25"
   ]
  },
  {
   "cell_type": "code",
   "execution_count": 9,
   "metadata": {},
   "outputs": [],
   "source": [
    "# Spectra parameters\n",
    "ions = [\n",
    "    'H I',\n",
    "    'O I',\n",
    "    'C II',\n",
    "    'C III',\n",
    "    'C IV',\n",
    "    'N II',\n",
    "    'N III',\n",
    "    'Si II',\n",
    "    'Si III',\n",
    "    'Si IV',\n",
    "    'N V',\n",
    "    'O VI',\n",
    "    'Mg II'\n",
    "]\n",
    "fields = [\n",
    "    'H_p0_number_density', \n",
    "    'O_p0_number_density',\n",
    "    'C_p1_number_density',\n",
    "    'C_p2_number_density',\n",
    "    'C_p3_number_density',\n",
    "    'N_p1_number_density',\n",
    "    'N_p2_number_density',\n",
    "    'Si_p1_number_density',\n",
    "    'Si_p2_number_density',\n",
    "    'Si_p3_number_density',\n",
    "    'N_p4_number_density',\n",
    "    'O_p5_number_density',\n",
    "    'Mg_p1_number_density'\n",
    "]\n",
    "snr = 30"
   ]
  },
  {
   "cell_type": "markdown",
   "metadata": {},
   "source": [
    "# Setup Spectrum Generator and Line Database"
   ]
  },
  {
   "cell_type": "code",
   "execution_count": 10,
   "metadata": {},
   "outputs": [],
   "source": [
    "# Objects for use\n",
    "ldb = trident.LineDatabase('lines.txt')"
   ]
  },
  {
   "cell_type": "code",
   "execution_count": 11,
   "metadata": {},
   "outputs": [
    {
     "name": "stdout",
     "output_type": "stream",
     "text": [
      "read_sets: Using set file -- \n",
      "  /Users/zhafen/repos/linetools/linetools/lists/sets/llist_v1.3.ascii\n",
      "Loading abundances from Asplund2009\n",
      "Abundances are relative by number on a logarithmic scale with H=12\n"
     ]
    }
   ],
   "source": [
    "# Add Mg II lines\n",
    "ldb.add_line( 'Mg', 'II', 2796, use_linetools=True)\n",
    "ldb.add_line( 'Mg', 'II', 2803, use_linetools=True)"
   ]
  },
  {
   "cell_type": "code",
   "execution_count": 12,
   "metadata": {},
   "outputs": [
    {
     "name": "stderr",
     "output_type": "stream",
     "text": [
      "/Users/zhafen/repos/trident/trident/line_database.py:215: UserWarning: Line SiIV 1394 not found in linetools database. Checking adjacent wavelengths.\n",
      "  warnings.warn( 'Line ' + linetools_id(wavelength) + \\\n"
     ]
    }
   ],
   "source": [
    "# Make sure we have the lower part of this Si IV doublet\n",
    "ldb.add_line( 'Si', 'IV', 1394, use_linetools=True)"
   ]
  },
  {
   "cell_type": "code",
   "execution_count": 13,
   "metadata": {},
   "outputs": [
    {
     "name": "stderr",
     "output_type": "stream",
     "text": [
      "yt : [INFO     ] 2021-08-02 17:39:22,439 Setting instrument to COS-G130M\n",
      "yt : [INFO     ] 2021-08-02 17:39:22,442 Setting instrument to COS-G160M\n"
     ]
    }
   ],
   "source": [
    "sg_cos = trident.SpectrumGenerator('COS-G130M', line_database=ldb )\n",
    "sg_cos_160 = trident.SpectrumGenerator('COS-G160M', line_database=ldb )"
   ]
  },
  {
   "cell_type": "code",
   "execution_count": 14,
   "metadata": {},
   "outputs": [
    {
     "name": "stderr",
     "output_type": "stream",
     "text": [
      "yt : [INFO     ] 2021-08-02 17:39:22,455 Setting instrument to Custom\n"
     ]
    }
   ],
   "source": [
    "# Spectrum Generator for Mg II from ground\n",
    "lambda_mg = ldb.select_lines( 'Mg', 'II', 2796 )[0].wavelength * ( 1. + redshift )\n",
    "sg_mg = trident.SpectrumGenerator(\n",
    "    lambda_min = lambda_mg - 30.,\n",
    "    lambda_max = lambda_mg + 30.,\n",
    "    dlambda = 0.01,\n",
    "    lsf_kernel = os.path.join( trident.path, 'data', 'lsf_kernels', 'avg_COS.txt' ),\n",
    "    line_database = ldb,\n",
    ")"
   ]
  },
  {
   "cell_type": "code",
   "execution_count": 15,
   "metadata": {},
   "outputs": [],
   "source": [
    "spectrum_sg_tags = [ '_G130', '_G160', '_MgII']"
   ]
  },
  {
   "cell_type": "code",
   "execution_count": 16,
   "metadata": {},
   "outputs": [],
   "source": [
    "def plot_ion( sg, element, ion_state, width=6. ):\n",
    "    '''Save a plot of a particular part of the spectrum for inspection.'''\n",
    "    \n",
    "    lines = ldb.select_lines( element, ion_state )\n",
    "    \n",
    "    wavelengths = np.array([ _.wavelength for _ in lines ])\n",
    "    adjusted_wavelengths = wavelengths * ( 1 + redshift )\n",
    "    \n",
    "    data_subdir = '{}/ion_spectra/{}{}'.format( data_dir, element, ion_state, )\n",
    "    os.makedirs( data_subdir, exist_ok=True )\n",
    "    for k, lambda_a in enumerate( adjusted_wavelengths ):\n",
    "        if lambda_a - width/2. < sg.lambda_min or lambda_a + width/2 > sg.lambda_max:\n",
    "            continue\n",
    "            \n",
    "        sg.plot_spectrum(\n",
    "            '{}/spectrum_{:.1f}_sl{:04d}.png'.format( data_subdir, lambda_a, i ),\n",
    "            lambda_limits = [ lambda_a - width/2, lambda_a + width/2 ]\n",
    "        )"
   ]
  },
  {
   "cell_type": "code",
   "execution_count": 17,
   "metadata": {},
   "outputs": [],
   "source": [
    "# Waaaay too much output otherwise\n",
    "# yt.utilities.logger.disable_stream_logging()"
   ]
  },
  {
   "cell_type": "markdown",
   "metadata": {},
   "source": [
    "# Load and Format Data\n",
    "\n",
    "Units are [ g/cm^3, mass fraction, logK, log cm^-2 ] respectively for ['Density', 'Metallicity', 'Temperature', 'hneutralssh']."
   ]
  },
  {
   "cell_type": "code",
   "execution_count": 18,
   "metadata": {},
   "outputs": [],
   "source": [
    "i = 1"
   ]
  },
  {
   "cell_type": "code",
   "execution_count": 19,
   "metadata": {},
   "outputs": [],
   "source": [
    "sightline_fps = glob.glob( os.path.join( extracted_sightlines_dir, '*', '*' ) )"
   ]
  },
  {
   "cell_type": "code",
   "execution_count": 20,
   "metadata": {},
   "outputs": [],
   "source": [
    "sightline_fp = sightline_fps[i]"
   ]
  },
  {
   "cell_type": "code",
   "execution_count": 21,
   "metadata": {},
   "outputs": [],
   "source": [
    "# Load data\n",
    "columns = [ 'x', 'density', 'temperature', 'metallicity', 'velocity_los' ]\n",
    "units = [ 'kpc', 'g/cm**3', 'K', 'Zsun', 'km/s' ]\n",
    "ray_df = pd.read_csv( sightline_fp, sep='\\s+', names=columns )\n",
    "\n",
    "# Convert metallicity to Zsun\n",
    "ray_df['metallicity'] /= 0.02"
   ]
  },
  {
   "cell_type": "code",
   "execution_count": 22,
   "metadata": {},
   "outputs": [],
   "source": [
    "# Turn into a dictionary for creating a yt dataset\n",
    "ray_dict = {}\n",
    "for j, key in enumerate( columns ):\n",
    "    \n",
    "    # We add this separately\n",
    "    if key == 'x':\n",
    "        continue\n",
    "    \n",
    "    ray_dict[key] = yt.YTArray( ray_df[key].values, units[j] )"
   ]
  },
  {
   "cell_type": "code",
   "execution_count": 23,
   "metadata": {},
   "outputs": [],
   "source": [
    "# Get sightline location in space\n",
    "locstring = os.path.split( os.path.split( sightline_fp )[0] )[1]\n",
    "_, x1, y1, z1, _, x2, y2, z2 = locstring.split( '_' )\n",
    "start = np.array([ x1, y1, z1 ]).astype( float )\n",
    "end = np.array([ x2, y2, z2 ]).astype( float )"
   ]
  },
  {
   "cell_type": "code",
   "execution_count": 24,
   "metadata": {},
   "outputs": [],
   "source": [
    "# Add sightline dl parameters\n",
    "dl = ray_df['x'][1] - ray_df['x'][0]\n",
    "ray_dict['dl'] = dl\n",
    "length_code_units = np.linalg.norm( end - start )\n",
    "length_kpc = ray_df['x'].values[-1] - ray_df['x'].values[0]\n",
    "position_code_units_to_kpc = length_kpc / length_code_units"
   ]
  },
  {
   "cell_type": "code",
   "execution_count": 25,
   "metadata": {},
   "outputs": [],
   "source": [
    "# Add location parameters\n",
    "for j, key in enumerate( [ 'x', 'y', 'z' ]):\n",
    "    ray_dict[key] = yt.YTArray(\n",
    "        np.linspace( start[j], end[j], ray_df['x'].size ) * position_code_units_to_kpc,\n",
    "        'kpc',\n",
    "    )\n",
    "    ray_dict['d' + key] = ray_dict[key][1] - ray_dict[key][0]\n",
    "    \n",
    "# ray_dict['x'] = ( float( x2 ) - float( x1 ) ) / 2.\n",
    "# ray_dict['y'] = ( float( y2 ) - float( y1 ) ) / 2.\n",
    "# ray_dict['z'] = ( float( z2 ) - float( z1 ) ) / 2."
   ]
  },
  {
   "cell_type": "code",
   "execution_count": 26,
   "metadata": {},
   "outputs": [],
   "source": [
    "# Add redshift parameters\n",
    "ray_dict['redshift'] = np.full( ray_dict['density'].shape, redshift )\n",
    "z_vel = np.sqrt( ( 1 + ray_dict['velocity_los'] / u.c) / ( 1 - ray_dict['velocity_los'] / u.c) ) - 1.\n",
    "ray_dict['redshift_eff'] = ( 1. + redshift )*( 1. + z_vel ) - 1."
   ]
  },
  {
   "cell_type": "code",
   "execution_count": 27,
   "metadata": {},
   "outputs": [],
   "source": [
    "# Other needed terms\n",
    "extra_attrs = {\"data_type\": \"yt_light_ray\", \"dimensionality\": 3}\n",
    "field_types = dict([(field, \"grid\") for field in ray_dict.keys()])"
   ]
  },
  {
   "cell_type": "code",
   "execution_count": 28,
   "metadata": {},
   "outputs": [],
   "source": [
    "# Format dataset dict\n",
    "ds = {\n",
    "    \"current_time\": 0.,\n",
    "    \"current_redshift\": redshift,\n",
    "    \"cosmological_simulation\": 0.,\n",
    "    \"domain_left_edge\": start,\n",
    "    \"domain_right_edge\": end,\n",
    "    \"periodicity\": [True]*3,\n",
    "}"
   ]
  },
  {
   "cell_type": "code",
   "execution_count": 29,
   "metadata": {},
   "outputs": [
    {
     "name": "stderr",
     "output_type": "stream",
     "text": [
      "yt : [INFO     ] 2021-08-02 17:39:22,644 Saving field data to yt dataset: ./data/synthetic_data/sample2/rays/ray_001.h5.\n"
     ]
    },
    {
     "data": {
      "text/plain": [
       "'./data/synthetic_data/sample2/rays/ray_001.h5'"
      ]
     },
     "execution_count": 29,
     "metadata": {},
     "output_type": "execute_result"
    }
   ],
   "source": [
    "# Save as a dataset\n",
    "ray_filename = os.path.join( data_dir, 'rays', 'ray_{:03d}.h5'.format( i ) )\n",
    "yt.save_as_dataset(\n",
    "    ds,\n",
    "    ray_filename,\n",
    "    ray_dict,\n",
    "    field_types = field_types,\n",
    "    extra_attrs = extra_attrs,\n",
    ")"
   ]
  },
  {
   "cell_type": "code",
   "execution_count": 30,
   "metadata": {},
   "outputs": [
    {
     "name": "stderr",
     "output_type": "stream",
     "text": [
      "yt : [INFO     ] 2021-08-02 17:39:22,766 Parameters: current_time              = 0.0\n",
      "yt : [INFO     ] 2021-08-02 17:39:22,766 Parameters: domain_dimensions         = [1 1 1]\n",
      "yt : [INFO     ] 2021-08-02 17:39:22,767 Parameters: domain_left_edge          = [0.7537 0.3587 0.25  ]\n",
      "yt : [INFO     ] 2021-08-02 17:39:22,767 Parameters: domain_right_edge         = [0.9961 0.5869 0.75  ]\n",
      "yt : [INFO     ] 2021-08-02 17:39:22,768 Parameters: cosmological_simulation   = 0.0\n"
     ]
    }
   ],
   "source": [
    "# Reload\n",
    "ray = yt.load( ray_filename )"
   ]
  },
  {
   "cell_type": "code",
   "execution_count": 31,
   "metadata": {},
   "outputs": [],
   "source": [
    "# temporary fix for yt-4.0 ytdata selection issue\n",
    "ray.domain_left_edge = ray.domain_left_edge.to('code_length')\n",
    "ray.domain_right_edge = ray.domain_right_edge.to('code_length')"
   ]
  },
  {
   "cell_type": "code",
   "execution_count": 32,
   "metadata": {},
   "outputs": [
    {
     "name": "stderr",
     "output_type": "stream",
     "text": [
      "yt : [INFO     ] 2021-08-02 17:39:22,791 Allocating for 6.150e+02 particles\n"
     ]
    }
   ],
   "source": [
    "trident.add_ion_fields(ray, ions=ions, line_database=ldb)"
   ]
  },
  {
   "cell_type": "code",
   "execution_count": 34,
   "metadata": {},
   "outputs": [
    {
     "name": "stderr",
     "output_type": "stream",
     "text": [
      "yt : [INFO     ] 2021-08-02 17:39:24,823 Creating spectrum\n",
      "yt : [INFO     ] 2021-08-02 17:39:24,855 Not adding line Ly a: insufficient column density\n",
      "yt : [INFO     ] 2021-08-02 17:39:24,856 Not adding line Ly b: insufficient column density\n",
      "yt : [INFO     ] 2021-08-02 17:39:24,857 Not adding line Ly c: insufficient column density\n",
      "yt : [INFO     ] 2021-08-02 17:39:24,858 Not adding line Ly d: insufficient column density\n",
      "yt : [INFO     ] 2021-08-02 17:39:24,858 Not adding line Ly e: insufficient column density\n",
      "yt : [INFO     ] 2021-08-02 17:39:24,859 Not adding line Ly 6: insufficient column density\n",
      "yt : [INFO     ] 2021-08-02 17:39:24,860 Not adding line Ly 7: insufficient column density\n",
      "yt : [INFO     ] 2021-08-02 17:39:24,860 Not adding line Ly 8: insufficient column density\n",
      "yt : [INFO     ] 2021-08-02 17:39:24,861 Not adding line Ly 9: insufficient column density\n",
      "yt : [INFO     ] 2021-08-02 17:39:24,862 Not adding line Ly 10: insufficient column density\n",
      "yt : [INFO     ] 2021-08-02 17:39:24,862 Not adding line Ly 11: insufficient column density\n",
      "yt : [INFO     ] 2021-08-02 17:39:24,863 Not adding line Ly 12: insufficient column density\n",
      "yt : [INFO     ] 2021-08-02 17:39:24,864 Not adding line Ly 13: insufficient column density\n",
      "yt : [INFO     ] 2021-08-02 17:39:24,864 Not adding line Ly 14: insufficient column density\n",
      "yt : [INFO     ] 2021-08-02 17:39:24,865 Not adding line Ly 15: insufficient column density\n",
      "yt : [INFO     ] 2021-08-02 17:39:24,867 Not adding line Ly 16: insufficient column density\n",
      "yt : [INFO     ] 2021-08-02 17:39:24,868 Not adding line Ly 17: insufficient column density\n",
      "yt : [INFO     ] 2021-08-02 17:39:24,868 Not adding line Ly 18: insufficient column density\n",
      "yt : [INFO     ] 2021-08-02 17:39:24,869 Not adding line Ly 19: insufficient column density\n",
      "yt : [INFO     ] 2021-08-02 17:39:24,870 Not adding line Ly 20: insufficient column density\n",
      "yt : [INFO     ] 2021-08-02 17:39:24,870 Not adding line Ly 21: insufficient column density\n",
      "yt : [INFO     ] 2021-08-02 17:39:24,871 Not adding line Ly 22: insufficient column density\n",
      "yt : [INFO     ] 2021-08-02 17:39:24,872 Not adding line Ly 23: insufficient column density\n",
      "yt : [INFO     ] 2021-08-02 17:39:24,872 Not adding line Ly 24: insufficient column density\n",
      "yt : [INFO     ] 2021-08-02 17:39:24,873 Not adding line Ly 25: insufficient column density\n",
      "yt : [INFO     ] 2021-08-02 17:39:24,874 Not adding line Ly 26: insufficient column density\n",
      "yt : [INFO     ] 2021-08-02 17:39:24,874 Not adding line Ly 27: insufficient column density\n",
      "yt : [INFO     ] 2021-08-02 17:39:24,875 Not adding line Ly 28: insufficient column density\n",
      "yt : [INFO     ] 2021-08-02 17:39:24,875 Not adding line Ly 29: insufficient column density\n",
      "yt : [INFO     ] 2021-08-02 17:39:24,876 Not adding line Ly 30: insufficient column density\n",
      "yt : [INFO     ] 2021-08-02 17:39:24,877 Not adding line Ly 31: insufficient column density\n",
      "yt : [INFO     ] 2021-08-02 17:39:24,877 Not adding line Ly 32: insufficient column density\n",
      "yt : [INFO     ] 2021-08-02 17:39:24,878 Not adding line Ly 33: insufficient column density\n",
      "yt : [INFO     ] 2021-08-02 17:39:24,878 Not adding line Ly 34: insufficient column density\n",
      "yt : [INFO     ] 2021-08-02 17:39:24,879 Not adding line Ly 35: insufficient column density\n",
      "yt : [INFO     ] 2021-08-02 17:39:24,880 Not adding line Ly 36: insufficient column density\n",
      "yt : [INFO     ] 2021-08-02 17:39:24,880 Not adding line Ly 37: insufficient column density\n",
      "yt : [INFO     ] 2021-08-02 17:39:24,881 Not adding line Ly 38: insufficient column density\n",
      "yt : [INFO     ] 2021-08-02 17:39:24,882 Not adding line Ly 39: insufficient column density\n",
      "yt : [INFO     ] 2021-08-02 17:39:24,897 Not adding line O I* 1306: insufficient column density\n",
      "yt : [INFO     ] 2021-08-02 17:39:24,898 Not adding line O I* 1305: insufficient column density\n",
      "yt : [INFO     ] 2021-08-02 17:39:24,898 Not adding line O I 1302: insufficient column density\n",
      "yt : [INFO     ] 2021-08-02 17:39:24,899 Not adding line O I 1039: insufficient column density\n",
      "yt : [INFO     ] 2021-08-02 17:39:24,900 Not adding line O I 989: insufficient column density\n",
      "yt : [INFO     ] 2021-08-02 17:39:24,901 Not adding line O I 976: insufficient column density\n",
      "yt : [INFO     ] 2021-08-02 17:39:24,901 Not adding line O I 951: insufficient column density\n",
      "yt : [INFO     ] 2021-08-02 17:39:24,902 Not adding line O I 937: insufficient column density\n",
      "yt : [INFO     ] 2021-08-02 17:39:24,903 Not adding line O I 930: insufficient column density\n",
      "yt : [INFO     ] 2021-08-02 17:39:24,904 Not adding line O I 925: insufficient column density\n",
      "yt : [INFO     ] 2021-08-02 17:39:24,905 Not adding line O I 922: insufficient column density\n",
      "yt : [INFO     ] 2021-08-02 17:39:24,918 Not adding line C II* 1336: insufficient column density\n",
      "yt : [INFO     ] 2021-08-02 17:39:24,919 Not adding line C II 1335: insufficient column density\n",
      "yt : [INFO     ] 2021-08-02 17:39:24,920 Not adding line C II* 1037: insufficient column density\n",
      "yt : [INFO     ] 2021-08-02 17:39:24,921 Not adding line C II 1036: insufficient column density\n",
      "yt : [INFO     ] 2021-08-02 17:39:24,922 Not adding line C II 904: insufficient column density\n",
      "yt : [INFO     ] 2021-08-02 17:39:24,937 Not adding line C III 977: insufficient column density\n",
      "yt : [INFO     ] 2021-08-02 17:39:24,950 Not adding line C IV 1551: insufficient column density\n",
      "yt : [INFO     ] 2021-08-02 17:39:24,951 Not adding line C IV 1548: insufficient column density\n",
      "yt : [INFO     ] 2021-08-02 17:39:24,965 Not adding line N II 1084: insufficient column density\n",
      "yt : [INFO     ] 2021-08-02 17:39:24,965 Not adding line N II 916: insufficient column density\n",
      "yt : [INFO     ] 2021-08-02 17:39:24,979 Not adding line N III 990: insufficient column density\n",
      "yt : [INFO     ] 2021-08-02 17:39:24,993 Not adding line Si II* 1817: insufficient column density\n",
      "yt : [INFO     ] 2021-08-02 17:39:24,993 Not adding line Si II 1808: insufficient column density\n",
      "yt : [INFO     ] 2021-08-02 17:39:24,994 Not adding line Si II* 1309: insufficient column density\n",
      "yt : [INFO     ] 2021-08-02 17:39:24,995 Not adding line Si II 1304: insufficient column density\n",
      "yt : [INFO     ] 2021-08-02 17:39:24,996 Not adding line Si II* 1265: insufficient column density\n",
      "yt : [INFO     ] 2021-08-02 17:39:24,996 Not adding line Si II 1260: insufficient column density\n",
      "yt : [INFO     ] 2021-08-02 17:39:24,997 Not adding line Si II* 1197: insufficient column density\n",
      "yt : [INFO     ] 2021-08-02 17:39:24,998 Not adding line Si II* 1194: insufficient column density\n",
      "yt : [INFO     ] 2021-08-02 17:39:24,998 Not adding line Si II 1193: insufficient column density\n",
      "yt : [INFO     ] 2021-08-02 17:39:24,999 Not adding line Si II 1190: insufficient column density\n",
      "yt : [INFO     ] 2021-08-02 17:39:25,000 Not adding line Si II* 1024: insufficient column density\n",
      "yt : [INFO     ] 2021-08-02 17:39:25,001 Not adding line Si II 1021: insufficient column density\n",
      "yt : [INFO     ] 2021-08-02 17:39:25,001 Not adding line Si II* 993: insufficient column density\n",
      "yt : [INFO     ] 2021-08-02 17:39:25,002 Not adding line Si II 990: insufficient column density\n",
      "yt : [INFO     ] 2021-08-02 17:39:25,016 Not adding line Si III 1206: insufficient column density\n",
      "yt : [INFO     ] 2021-08-02 17:39:25,032 Not adding line Si IV 1403: insufficient column density\n",
      "yt : [INFO     ] 2021-08-02 17:39:25,032 Not adding line Si IV 1394: insufficient column density\n",
      "yt : [INFO     ] 2021-08-02 17:39:25,047 Not adding line N V 1243: insufficient column density\n",
      "yt : [INFO     ] 2021-08-02 17:39:25,048 Not adding line N V 1239: insufficient column density\n",
      "yt : [INFO     ] 2021-08-02 17:39:25,062 Not adding line O VI 1038: insufficient column density\n",
      "yt : [INFO     ] 2021-08-02 17:39:25,063 Not adding line O VI 1032: insufficient column density\n",
      "yt : [INFO     ] 2021-08-02 17:39:25,076 Not adding line Mg II 1240: insufficient column density\n",
      "yt : [INFO     ] 2021-08-02 17:39:25,077 Not adding line Mg II 2796: insufficient column density\n",
      "yt : [INFO     ] 2021-08-02 17:39:25,078 Not adding line Mg II 2804: insufficient column density\n",
      "yt : [INFO     ] 2021-08-02 17:39:25,078 No absorbers in path of LightRay.\n",
      "yt : [INFO     ] 2021-08-02 17:39:25,079 Writing spectrum to hdf5 file: ./data/synthetic_data_samples/sample2/spectrum_G130_sl0001.h5.\n",
      "yt : [INFO     ] 2021-08-02 17:39:25,099 Writing spectrum plot to png file: ./data/synthetic_data_samples/sample2/spectrum_G130_sl0001.png\n",
      "yt : [INFO     ] 2021-08-02 17:39:25,174 Creating spectrum\n",
      "yt : [INFO     ] 2021-08-02 17:39:25,198 Not adding line Ly a: insufficient column density\n",
      "yt : [INFO     ] 2021-08-02 17:39:25,199 Not adding line Ly b: insufficient column density\n",
      "yt : [INFO     ] 2021-08-02 17:39:25,199 Not adding line Ly c: insufficient column density\n",
      "yt : [INFO     ] 2021-08-02 17:39:25,200 Not adding line Ly d: insufficient column density\n",
      "yt : [INFO     ] 2021-08-02 17:39:25,201 Not adding line Ly e: insufficient column density\n",
      "yt : [INFO     ] 2021-08-02 17:39:25,202 Not adding line Ly 6: insufficient column density\n",
      "yt : [INFO     ] 2021-08-02 17:39:25,202 Not adding line Ly 7: insufficient column density\n",
      "yt : [INFO     ] 2021-08-02 17:39:25,203 Not adding line Ly 8: insufficient column density\n",
      "yt : [INFO     ] 2021-08-02 17:39:25,204 Not adding line Ly 9: insufficient column density\n",
      "yt : [INFO     ] 2021-08-02 17:39:25,204 Not adding line Ly 10: insufficient column density\n",
      "yt : [INFO     ] 2021-08-02 17:39:25,205 Not adding line Ly 11: insufficient column density\n",
      "yt : [INFO     ] 2021-08-02 17:39:25,206 Not adding line Ly 12: insufficient column density\n",
      "yt : [INFO     ] 2021-08-02 17:39:25,206 Not adding line Ly 13: insufficient column density\n",
      "yt : [INFO     ] 2021-08-02 17:39:25,207 Not adding line Ly 14: insufficient column density\n",
      "yt : [INFO     ] 2021-08-02 17:39:25,207 Not adding line Ly 15: insufficient column density\n",
      "yt : [INFO     ] 2021-08-02 17:39:25,208 Not adding line Ly 16: insufficient column density\n",
      "yt : [INFO     ] 2021-08-02 17:39:25,208 Not adding line Ly 17: insufficient column density\n",
      "yt : [INFO     ] 2021-08-02 17:39:25,209 Not adding line Ly 18: insufficient column density\n",
      "yt : [INFO     ] 2021-08-02 17:39:25,210 Not adding line Ly 19: insufficient column density\n",
      "yt : [INFO     ] 2021-08-02 17:39:25,210 Not adding line Ly 20: insufficient column density\n",
      "yt : [INFO     ] 2021-08-02 17:39:25,211 Not adding line Ly 21: insufficient column density\n",
      "yt : [INFO     ] 2021-08-02 17:39:25,211 Not adding line Ly 22: insufficient column density\n",
      "yt : [INFO     ] 2021-08-02 17:39:25,212 Not adding line Ly 23: insufficient column density\n",
      "yt : [INFO     ] 2021-08-02 17:39:25,212 Not adding line Ly 24: insufficient column density\n",
      "yt : [INFO     ] 2021-08-02 17:39:25,213 Not adding line Ly 25: insufficient column density\n",
      "yt : [INFO     ] 2021-08-02 17:39:25,213 Not adding line Ly 26: insufficient column density\n",
      "yt : [INFO     ] 2021-08-02 17:39:25,214 Not adding line Ly 27: insufficient column density\n",
      "yt : [INFO     ] 2021-08-02 17:39:25,215 Not adding line Ly 28: insufficient column density\n",
      "yt : [INFO     ] 2021-08-02 17:39:25,215 Not adding line Ly 29: insufficient column density\n",
      "yt : [INFO     ] 2021-08-02 17:39:25,216 Not adding line Ly 30: insufficient column density\n",
      "yt : [INFO     ] 2021-08-02 17:39:25,216 Not adding line Ly 31: insufficient column density\n",
      "yt : [INFO     ] 2021-08-02 17:39:25,217 Not adding line Ly 32: insufficient column density\n",
      "yt : [INFO     ] 2021-08-02 17:39:25,218 Not adding line Ly 33: insufficient column density\n",
      "yt : [INFO     ] 2021-08-02 17:39:25,218 Not adding line Ly 34: insufficient column density\n",
      "yt : [INFO     ] 2021-08-02 17:39:25,219 Not adding line Ly 35: insufficient column density\n",
      "yt : [INFO     ] 2021-08-02 17:39:25,220 Not adding line Ly 36: insufficient column density\n",
      "yt : [INFO     ] 2021-08-02 17:39:25,220 Not adding line Ly 37: insufficient column density\n",
      "yt : [INFO     ] 2021-08-02 17:39:25,221 Not adding line Ly 38: insufficient column density\n",
      "yt : [INFO     ] 2021-08-02 17:39:25,222 Not adding line Ly 39: insufficient column density\n",
      "yt : [INFO     ] 2021-08-02 17:39:25,234 Not adding line O I* 1306: insufficient column density\n",
      "yt : [INFO     ] 2021-08-02 17:39:25,235 Not adding line O I* 1305: insufficient column density\n",
      "yt : [INFO     ] 2021-08-02 17:39:25,236 Not adding line O I 1302: insufficient column density\n",
      "yt : [INFO     ] 2021-08-02 17:39:25,236 Not adding line O I 1039: insufficient column density\n",
      "yt : [INFO     ] 2021-08-02 17:39:25,237 Not adding line O I 989: insufficient column density\n",
      "yt : [INFO     ] 2021-08-02 17:39:25,238 Not adding line O I 976: insufficient column density\n",
      "yt : [INFO     ] 2021-08-02 17:39:25,238 Not adding line O I 951: insufficient column density\n",
      "yt : [INFO     ] 2021-08-02 17:39:25,239 Not adding line O I 937: insufficient column density\n",
      "yt : [INFO     ] 2021-08-02 17:39:25,239 Not adding line O I 930: insufficient column density\n",
      "yt : [INFO     ] 2021-08-02 17:39:25,240 Not adding line O I 925: insufficient column density\n",
      "yt : [INFO     ] 2021-08-02 17:39:25,241 Not adding line O I 922: insufficient column density\n",
      "yt : [INFO     ] 2021-08-02 17:39:25,254 Not adding line C II* 1336: insufficient column density\n",
      "yt : [INFO     ] 2021-08-02 17:39:25,254 Not adding line C II 1335: insufficient column density\n",
      "yt : [INFO     ] 2021-08-02 17:39:25,255 Not adding line C II* 1037: insufficient column density\n",
      "yt : [INFO     ] 2021-08-02 17:39:25,256 Not adding line C II 1036: insufficient column density\n",
      "yt : [INFO     ] 2021-08-02 17:39:25,256 Not adding line C II 904: insufficient column density\n",
      "yt : [INFO     ] 2021-08-02 17:39:25,269 Not adding line C III 977: insufficient column density\n",
      "yt : [INFO     ] 2021-08-02 17:39:25,282 Not adding line C IV 1551: insufficient column density\n",
      "yt : [INFO     ] 2021-08-02 17:39:25,282 Not adding line C IV 1548: insufficient column density\n",
      "yt : [INFO     ] 2021-08-02 17:39:25,295 Not adding line N II 1084: insufficient column density\n",
      "yt : [INFO     ] 2021-08-02 17:39:25,296 Not adding line N II 916: insufficient column density\n",
      "yt : [INFO     ] 2021-08-02 17:39:25,310 Not adding line N III 990: insufficient column density\n",
      "yt : [INFO     ] 2021-08-02 17:39:25,324 Not adding line Si II* 1817: insufficient column density\n",
      "yt : [INFO     ] 2021-08-02 17:39:25,325 Not adding line Si II 1808: insufficient column density\n",
      "yt : [INFO     ] 2021-08-02 17:39:25,326 Not adding line Si II* 1309: insufficient column density\n",
      "yt : [INFO     ] 2021-08-02 17:39:25,327 Not adding line Si II 1304: insufficient column density\n",
      "yt : [INFO     ] 2021-08-02 17:39:25,328 Not adding line Si II* 1265: insufficient column density\n",
      "yt : [INFO     ] 2021-08-02 17:39:25,328 Not adding line Si II 1260: insufficient column density\n",
      "yt : [INFO     ] 2021-08-02 17:39:25,329 Not adding line Si II* 1197: insufficient column density\n",
      "yt : [INFO     ] 2021-08-02 17:39:25,330 Not adding line Si II* 1194: insufficient column density\n",
      "yt : [INFO     ] 2021-08-02 17:39:25,331 Not adding line Si II 1193: insufficient column density\n",
      "yt : [INFO     ] 2021-08-02 17:39:25,331 Not adding line Si II 1190: insufficient column density\n",
      "yt : [INFO     ] 2021-08-02 17:39:25,332 Not adding line Si II* 1024: insufficient column density\n",
      "yt : [INFO     ] 2021-08-02 17:39:25,333 Not adding line Si II 1021: insufficient column density\n",
      "yt : [INFO     ] 2021-08-02 17:39:25,333 Not adding line Si II* 993: insufficient column density\n",
      "yt : [INFO     ] 2021-08-02 17:39:25,334 Not adding line Si II 990: insufficient column density\n",
      "yt : [INFO     ] 2021-08-02 17:39:25,348 Not adding line Si III 1206: insufficient column density\n",
      "yt : [INFO     ] 2021-08-02 17:39:25,361 Not adding line Si IV 1403: insufficient column density\n",
      "yt : [INFO     ] 2021-08-02 17:39:25,362 Not adding line Si IV 1394: insufficient column density\n",
      "yt : [INFO     ] 2021-08-02 17:39:25,375 Not adding line N V 1243: insufficient column density\n",
      "yt : [INFO     ] 2021-08-02 17:39:25,376 Not adding line N V 1239: insufficient column density\n",
      "yt : [INFO     ] 2021-08-02 17:39:25,389 Not adding line O VI 1038: insufficient column density\n",
      "yt : [INFO     ] 2021-08-02 17:39:25,390 Not adding line O VI 1032: insufficient column density\n",
      "yt : [INFO     ] 2021-08-02 17:39:25,403 Not adding line Mg II 1240: insufficient column density\n",
      "yt : [INFO     ] 2021-08-02 17:39:25,404 Not adding line Mg II 2796: insufficient column density\n",
      "yt : [INFO     ] 2021-08-02 17:39:25,405 Not adding line Mg II 2804: insufficient column density\n",
      "yt : [INFO     ] 2021-08-02 17:39:25,405 No absorbers in path of LightRay.\n",
      "yt : [INFO     ] 2021-08-02 17:39:25,406 Writing spectrum to hdf5 file: ./data/synthetic_data_samples/sample2/spectrum_G160_sl0001.h5.\n",
      "yt : [INFO     ] 2021-08-02 17:39:25,425 Writing spectrum plot to png file: ./data/synthetic_data_samples/sample2/spectrum_G160_sl0001.png\n",
      "yt : [INFO     ] 2021-08-02 17:39:25,497 Creating spectrum\n",
      "yt : [INFO     ] 2021-08-02 17:39:25,533 Not adding line Ly a: insufficient column density\n",
      "yt : [INFO     ] 2021-08-02 17:39:25,534 Not adding line Ly b: insufficient column density\n",
      "yt : [INFO     ] 2021-08-02 17:39:25,535 Not adding line Ly c: insufficient column density\n",
      "yt : [INFO     ] 2021-08-02 17:39:25,536 Not adding line Ly d: insufficient column density\n",
      "yt : [INFO     ] 2021-08-02 17:39:25,537 Not adding line Ly e: insufficient column density\n",
      "yt : [INFO     ] 2021-08-02 17:39:25,538 Not adding line Ly 6: insufficient column density\n",
      "yt : [INFO     ] 2021-08-02 17:39:25,539 Not adding line Ly 7: insufficient column density\n",
      "yt : [INFO     ] 2021-08-02 17:39:25,540 Not adding line Ly 8: insufficient column density\n",
      "yt : [INFO     ] 2021-08-02 17:39:25,541 Not adding line Ly 9: insufficient column density\n",
      "yt : [INFO     ] 2021-08-02 17:39:25,542 Not adding line Ly 10: insufficient column density\n",
      "yt : [INFO     ] 2021-08-02 17:39:25,543 Not adding line Ly 11: insufficient column density\n",
      "yt : [INFO     ] 2021-08-02 17:39:25,544 Not adding line Ly 12: insufficient column density\n",
      "yt : [INFO     ] 2021-08-02 17:39:25,545 Not adding line Ly 13: insufficient column density\n",
      "yt : [INFO     ] 2021-08-02 17:39:25,546 Not adding line Ly 14: insufficient column density\n",
      "yt : [INFO     ] 2021-08-02 17:39:25,547 Not adding line Ly 15: insufficient column density\n",
      "yt : [INFO     ] 2021-08-02 17:39:25,547 Not adding line Ly 16: insufficient column density\n",
      "yt : [INFO     ] 2021-08-02 17:39:25,548 Not adding line Ly 17: insufficient column density\n",
      "yt : [INFO     ] 2021-08-02 17:39:25,549 Not adding line Ly 18: insufficient column density\n",
      "yt : [INFO     ] 2021-08-02 17:39:25,550 Not adding line Ly 19: insufficient column density\n",
      "yt : [INFO     ] 2021-08-02 17:39:25,550 Not adding line Ly 20: insufficient column density\n",
      "yt : [INFO     ] 2021-08-02 17:39:25,551 Not adding line Ly 21: insufficient column density\n",
      "yt : [INFO     ] 2021-08-02 17:39:25,552 Not adding line Ly 22: insufficient column density\n",
      "yt : [INFO     ] 2021-08-02 17:39:25,553 Not adding line Ly 23: insufficient column density\n",
      "yt : [INFO     ] 2021-08-02 17:39:25,553 Not adding line Ly 24: insufficient column density\n",
      "yt : [INFO     ] 2021-08-02 17:39:25,554 Not adding line Ly 25: insufficient column density\n",
      "yt : [INFO     ] 2021-08-02 17:39:25,555 Not adding line Ly 26: insufficient column density\n",
      "yt : [INFO     ] 2021-08-02 17:39:25,556 Not adding line Ly 27: insufficient column density\n",
      "yt : [INFO     ] 2021-08-02 17:39:25,556 Not adding line Ly 28: insufficient column density\n",
      "yt : [INFO     ] 2021-08-02 17:39:25,558 Not adding line Ly 29: insufficient column density\n",
      "yt : [INFO     ] 2021-08-02 17:39:25,558 Not adding line Ly 30: insufficient column density\n",
      "yt : [INFO     ] 2021-08-02 17:39:25,559 Not adding line Ly 31: insufficient column density\n",
      "yt : [INFO     ] 2021-08-02 17:39:25,560 Not adding line Ly 32: insufficient column density\n",
      "yt : [INFO     ] 2021-08-02 17:39:25,561 Not adding line Ly 33: insufficient column density\n",
      "yt : [INFO     ] 2021-08-02 17:39:25,562 Not adding line Ly 34: insufficient column density\n",
      "yt : [INFO     ] 2021-08-02 17:39:25,563 Not adding line Ly 35: insufficient column density\n",
      "yt : [INFO     ] 2021-08-02 17:39:25,563 Not adding line Ly 36: insufficient column density\n",
      "yt : [INFO     ] 2021-08-02 17:39:25,564 Not adding line Ly 37: insufficient column density\n",
      "yt : [INFO     ] 2021-08-02 17:39:25,565 Not adding line Ly 38: insufficient column density\n",
      "yt : [INFO     ] 2021-08-02 17:39:25,566 Not adding line Ly 39: insufficient column density\n",
      "yt : [INFO     ] 2021-08-02 17:39:25,579 Not adding line O I* 1306: insufficient column density\n",
      "yt : [INFO     ] 2021-08-02 17:39:25,579 Not adding line O I* 1305: insufficient column density\n",
      "yt : [INFO     ] 2021-08-02 17:39:25,580 Not adding line O I 1302: insufficient column density\n",
      "yt : [INFO     ] 2021-08-02 17:39:25,581 Not adding line O I 1039: insufficient column density\n",
      "yt : [INFO     ] 2021-08-02 17:39:25,581 Not adding line O I 989: insufficient column density\n",
      "yt : [INFO     ] 2021-08-02 17:39:25,582 Not adding line O I 976: insufficient column density\n",
      "yt : [INFO     ] 2021-08-02 17:39:25,583 Not adding line O I 951: insufficient column density\n",
      "yt : [INFO     ] 2021-08-02 17:39:25,584 Not adding line O I 937: insufficient column density\n",
      "yt : [INFO     ] 2021-08-02 17:39:25,584 Not adding line O I 930: insufficient column density\n",
      "yt : [INFO     ] 2021-08-02 17:39:25,585 Not adding line O I 925: insufficient column density\n",
      "yt : [INFO     ] 2021-08-02 17:39:25,586 Not adding line O I 922: insufficient column density\n",
      "yt : [INFO     ] 2021-08-02 17:39:25,600 Not adding line C II* 1336: insufficient column density\n",
      "yt : [INFO     ] 2021-08-02 17:39:25,601 Not adding line C II 1335: insufficient column density\n",
      "yt : [INFO     ] 2021-08-02 17:39:25,602 Not adding line C II* 1037: insufficient column density\n",
      "yt : [INFO     ] 2021-08-02 17:39:25,603 Not adding line C II 1036: insufficient column density\n",
      "yt : [INFO     ] 2021-08-02 17:39:25,603 Not adding line C II 904: insufficient column density\n",
      "yt : [INFO     ] 2021-08-02 17:39:25,617 Not adding line C III 977: insufficient column density\n",
      "yt : [INFO     ] 2021-08-02 17:39:25,630 Not adding line C IV 1551: insufficient column density\n",
      "yt : [INFO     ] 2021-08-02 17:39:25,631 Not adding line C IV 1548: insufficient column density\n",
      "yt : [INFO     ] 2021-08-02 17:39:25,643 Not adding line N II 1084: insufficient column density\n",
      "yt : [INFO     ] 2021-08-02 17:39:25,643 Not adding line N II 916: insufficient column density\n",
      "yt : [INFO     ] 2021-08-02 17:39:25,656 Not adding line N III 990: insufficient column density\n",
      "yt : [INFO     ] 2021-08-02 17:39:25,668 Not adding line Si II* 1817: insufficient column density\n",
      "yt : [INFO     ] 2021-08-02 17:39:25,669 Not adding line Si II 1808: insufficient column density\n",
      "yt : [INFO     ] 2021-08-02 17:39:25,669 Not adding line Si II* 1309: insufficient column density\n",
      "yt : [INFO     ] 2021-08-02 17:39:25,670 Not adding line Si II 1304: insufficient column density\n",
      "yt : [INFO     ] 2021-08-02 17:39:25,671 Not adding line Si II* 1265: insufficient column density\n",
      "yt : [INFO     ] 2021-08-02 17:39:25,672 Not adding line Si II 1260: insufficient column density\n",
      "yt : [INFO     ] 2021-08-02 17:39:25,672 Not adding line Si II* 1197: insufficient column density\n",
      "yt : [INFO     ] 2021-08-02 17:39:25,673 Not adding line Si II* 1194: insufficient column density\n",
      "yt : [INFO     ] 2021-08-02 17:39:25,674 Not adding line Si II 1193: insufficient column density\n",
      "yt : [INFO     ] 2021-08-02 17:39:25,674 Not adding line Si II 1190: insufficient column density\n",
      "yt : [INFO     ] 2021-08-02 17:39:25,675 Not adding line Si II* 1024: insufficient column density\n",
      "yt : [INFO     ] 2021-08-02 17:39:25,676 Not adding line Si II 1021: insufficient column density\n",
      "yt : [INFO     ] 2021-08-02 17:39:25,676 Not adding line Si II* 993: insufficient column density\n",
      "yt : [INFO     ] 2021-08-02 17:39:25,677 Not adding line Si II 990: insufficient column density\n",
      "yt : [INFO     ] 2021-08-02 17:39:25,690 Not adding line Si III 1206: insufficient column density\n",
      "yt : [INFO     ] 2021-08-02 17:39:25,703 Not adding line Si IV 1403: insufficient column density\n",
      "yt : [INFO     ] 2021-08-02 17:39:25,704 Not adding line Si IV 1394: insufficient column density\n",
      "yt : [INFO     ] 2021-08-02 17:39:25,716 Not adding line N V 1243: insufficient column density\n",
      "yt : [INFO     ] 2021-08-02 17:39:25,717 Not adding line N V 1239: insufficient column density\n",
      "yt : [INFO     ] 2021-08-02 17:39:25,730 Not adding line O VI 1038: insufficient column density\n",
      "yt : [INFO     ] 2021-08-02 17:39:25,731 Not adding line O VI 1032: insufficient column density\n",
      "yt : [INFO     ] 2021-08-02 17:39:25,743 Not adding line Mg II 1240: insufficient column density\n",
      "yt : [INFO     ] 2021-08-02 17:39:25,744 Not adding line Mg II 2796: insufficient column density\n",
      "yt : [INFO     ] 2021-08-02 17:39:25,745 Not adding line Mg II 2804: insufficient column density\n",
      "yt : [INFO     ] 2021-08-02 17:39:25,745 No absorbers in path of LightRay.\n",
      "yt : [INFO     ] 2021-08-02 17:39:25,746 Writing spectrum to hdf5 file: ./data/synthetic_data_samples/sample2/spectrum_MgII_sl0001.h5.\n",
      "yt : [INFO     ] 2021-08-02 17:39:25,761 Writing spectrum plot to png file: ./data/synthetic_data_samples/sample2/spectrum_MgII_sl0001.png\n"
     ]
    }
   ],
   "source": [
    "for m, sg in enumerate( [ sg_cos, sg_cos_160, sg_mg ]):\n",
    "\n",
    "    # Make the spectrum\n",
    "    sg.make_spectrum( ray, lines=ions, store_observables=True )\n",
    "\n",
    "    # Save\n",
    "    sg.save_spectrum(\n",
    "        '{}/spectrum{}_sl{:04d}.h5'.format( observer_data_dir, spectrum_sg_tags[m], i )\n",
    "    )\n",
    "    sg.plot_spectrum(\n",
    "        '{}/spectrum{}_sl{:04d}.png'.format( observer_data_dir, spectrum_sg_tags[m], i )\n",
    "    )"
   ]
  },
  {
   "cell_type": "code",
   "execution_count": null,
   "metadata": {},
   "outputs": [],
   "source": []
  }
 ],
 "metadata": {
  "kernelspec": {
   "display_name": "Python 3",
   "language": "python",
   "name": "python3"
  },
  "language_info": {
   "codemirror_mode": {
    "name": "ipython",
    "version": 3
   },
   "file_extension": ".py",
   "mimetype": "text/x-python",
   "name": "python",
   "nbconvert_exporter": "python",
   "pygments_lexer": "ipython3",
   "version": "3.8.3"
  }
 },
 "nbformat": 4,
 "nbformat_minor": 4
}
